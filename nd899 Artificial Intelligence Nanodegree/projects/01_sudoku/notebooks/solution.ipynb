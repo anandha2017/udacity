{
 "cells": [
  {
   "cell_type": "code",
   "execution_count": 15,
   "metadata": {
    "collapsed": true
   },
   "outputs": [],
   "source": [
    "from utils import *\n",
    "\n",
    "row_units = [cross(r, cols) for r in rows]\n",
    "column_units = [cross(rows, c) for c in cols]\n",
    "square_units = [cross(rs, cs) for rs in ('ABC','DEF','GHI') for cs in ('123','456','789')]\n",
    "diagonal_units = [[r+c for r,c in zip(rows,cols)], [r+c for r,c in zip(rows,cols[::-1])]]"
   ]
  },
  {
   "cell_type": "code",
   "execution_count": 16,
   "metadata": {
    "collapsed": false
   },
   "outputs": [],
   "source": [
    "unitlist = row_units + column_units + square_units + diagonal_units"
   ]
  },
  {
   "cell_type": "code",
   "execution_count": 20,
   "metadata": {
    "collapsed": false
   },
   "outputs": [],
   "source": [
    "units = dict((s, [u for u in unitlist if s in u]) for s in boxes)\n",
    "peers = dict((s, set(sum(units[s],[]))-set([s])) for s in boxes)"
   ]
  },
  {
   "cell_type": "code",
   "execution_count": 25,
   "metadata": {
    "collapsed": true
   },
   "outputs": [],
   "source": [
    "def naked_twins(values):\n",
    "    \"\"\"Eliminate values using the naked twins strategy.\n",
    "\n",
    "    Parameters\n",
    "    ----------\n",
    "    values(dict)\n",
    "        a dictionary of the form {'box_name': '123456789', ...}\n",
    "\n",
    "    Returns\n",
    "    -------\n",
    "    dict\n",
    "        The values dictionary with the naked twins eliminated from peers\n",
    "\n",
    "    Notes\n",
    "    -----\n",
    "    Your solution can either process all pairs of naked twins from the input once,\n",
    "    or it can continue processing pairs of naked twins until there are no such\n",
    "    pairs remaining -- the project assistant test suite will accept either\n",
    "    convention. However, it will not accept code that does not process all pairs\n",
    "    of naked twins from the original input. (For example, if you start processing\n",
    "    pairs of twins and eliminate another pair of twins before the second pair\n",
    "    is processed then your code will fail the PA test suite.)\n",
    "\n",
    "    The first convention is preferred for consistency with the other strategies,\n",
    "    and because it is simpler (since the reduce_puzzle function already calls this\n",
    "    strategy repeatedly).\n",
    "    \"\"\"\n",
    "\n",
    "    # Iterate through every unit and every box in each unit\n",
    "    for unit in unitlist:\n",
    "        for box in unit:\n",
    "            # Check if there's a naked twin in the unit, naked twins => two identical values with length 2\n",
    "            if len(values[box]) == 2 and [values[bx] for bx in unit].count(values[box]) == 2:\n",
    "                # Iterate through all the boxes in the unit having a naked twin\n",
    "                for bx in unit:\n",
    "                    # If either of the naked twin's possible values exists in any other box in the unit, remove them\n",
    "                    if values[bx] != values[box] and len(set(values[box]).intersection(values[bx])) > 0:\n",
    "                        for val in values[box]:\n",
    "                            values[bx] = values[bx].replace(val, \"\")\n",
    "                            \n",
    "    return values"
   ]
  },
  {
   "cell_type": "code",
   "execution_count": 26,
   "metadata": {
    "collapsed": false
   },
   "outputs": [],
   "source": [
    "def eliminate(values):\n",
    "    \"\"\"Apply the eliminate strategy to a Sudoku puzzle\n",
    "\n",
    "    The eliminate strategy says that if a box has a value assigned, then none\n",
    "    of the peers of that box can have the same value.\n",
    "\n",
    "    Parameters\n",
    "    ----------\n",
    "    values(dict)\n",
    "        a dictionary of the form {'box_name': '123456789', ...}\n",
    "\n",
    "    Returns\n",
    "    -------\n",
    "    dict\n",
    "        The values dictionary with the assigned values eliminated from peers\n",
    "    \"\"\"\n",
    "    for v in values:\n",
    "        if len(values[v]) != 1:\n",
    "            continue\n",
    "        for peer in peers[v]:\n",
    "            assign_value(values, peer, values[peer].replace(values[v], \"\"))\n",
    "    \n",
    "    return values"
   ]
  },
  {
   "cell_type": "code",
   "execution_count": 27,
   "metadata": {
    "collapsed": true
   },
   "outputs": [],
   "source": [
    "def only_choice(values):\n",
    "    \"\"\"Apply the only choice strategy to a Sudoku puzzle\n",
    "\n",
    "    The only choice strategy says that if only one box in a unit allows a certain\n",
    "    digit, then that box must be assigned that digit.\n",
    "\n",
    "    Parameters\n",
    "    ----------\n",
    "    values(dict)\n",
    "        a dictionary of the form {'box_name': '123456789', ...}\n",
    "\n",
    "    Returns\n",
    "    -------\n",
    "    dict\n",
    "        The values dictionary with all single-valued boxes assigned\n",
    "\n",
    "    Notes\n",
    "    -----\n",
    "    You should be able to complete this function by copying your code from the classroom\n",
    "    \"\"\"\n",
    "    for unit in unitlist:\n",
    "        for digit in '123456789':\n",
    "            lst = [box for box in unit if digit in values[box]]\n",
    "            if len(lst) == 1:\n",
    "                assign_value(values, lst[0], digit)\n",
    "    return values"
   ]
  },
  {
   "cell_type": "code",
   "execution_count": null,
   "metadata": {
    "collapsed": true
   },
   "outputs": [],
   "source": [
    "def reduce_puzzle(values):\n",
    "    \"\"\"Reduce a Sudoku puzzle by repeatedly applying all constraint strategies\n",
    "\n",
    "    Parameters\n",
    "    ----------\n",
    "    values(dict)\n",
    "        a dictionary of the form {'box_name': '123456789', ...}\n",
    "\n",
    "    Returns\n",
    "    -------\n",
    "    dict or False\n",
    "        The values dictionary after continued application of the constraint strategies\n",
    "        no longer produces any changes, or False if the puzzle is unsolvable \n",
    "    \"\"\"\n",
    "    stalled = False\n",
    "    while not stalled:\n",
    "        solved_values_before = len([box for box in values.keys() if len(values[box]) == 1])\n",
    "\n",
    "        # Eliminate single values from peers\n",
    "        values = eliminate(values)\n",
    "        \n",
    "        # Apply the only choice contraint\n",
    "        values = only_choice(values)\n",
    "\n",
    "        # Remove naked twins\n",
    "        values = naked_twins(values)\n",
    "        \n",
    "        solved_values_after = len([box for box in values.keys() if len(values[box]) == 1])\n",
    "        stalled = solved_values_before == solved_values_after\n",
    "        \n",
    "        if len([box for box in values.keys() if len(values[box]) == 0]):\n",
    "            return False\n",
    "        \n",
    "    return values"
   ]
  },
  {
   "cell_type": "code",
   "execution_count": null,
   "metadata": {
    "collapsed": true
   },
   "outputs": [],
   "source": [
    "def search(values):\n",
    "    \"\"\"Apply depth first search to solve Sudoku puzzles in order to solve puzzles\n",
    "    that cannot be solved by repeated reduction alone.\n",
    "\n",
    "    Parameters\n",
    "    ----------\n",
    "    values(dict)\n",
    "        a dictionary of the form {'box_name': '123456789', ...}\n",
    "\n",
    "    Returns\n",
    "    -------\n",
    "    dict or False\n",
    "        The values dictionary with all boxes assigned or False\n",
    "\n",
    "    Notes\n",
    "    -----\n",
    "    You should be able to complete this function by copying your code from the classroom\n",
    "    and extending it to call the naked twins strategy.\n",
    "    \"\"\"\n",
    "    values = reduce_puzzle(values)\n",
    "    \n",
    "    if values is False:\n",
    "        return False # Failed earlier\n",
    "    \n",
    "    # If all boxes are filled with only one number, the sudoku is solved\n",
    "    if all(len(values[s]) == 1 for s in boxes): \n",
    "        return values\n",
    "    \n",
    "    # Choose one of the unfilled squares with the fewest possibilities\n",
    "    n,s = min((len(values[s]), s) for s in boxes if len(values[s]) > 1)\n",
    "    \n",
    "    # Now use recurrence to solve each one of the resulting sudokus, and \n",
    "    for value in values[s]:\n",
    "        new_sudoku = values.copy()\n",
    "        new_sudoku[s] = value\n",
    "        attempt = search(new_sudoku)\n",
    "        if attempt:\n",
    "            return attempt"
   ]
  },
  {
   "cell_type": "code",
   "execution_count": null,
   "metadata": {
    "collapsed": true
   },
   "outputs": [],
   "source": [
    "def solve(grid):\n",
    "    \"\"\"Find the solution to a Sudoku puzzle using search and constraint propagation\n",
    "\n",
    "    Parameters\n",
    "    ----------\n",
    "    grid(string)\n",
    "        a string representing a sudoku grid.\n",
    "        \n",
    "        Ex. '2.............62....1....7...6..8...3...9...7...6..4...4....8....52.............3'\n",
    "\n",
    "    Returns\n",
    "    -------\n",
    "    dict or False\n",
    "        The dictionary representation of the final sudoku grid or False if no solution exists.\n",
    "    \"\"\"\n",
    "    values = grid2values(grid)\n",
    "    values = search(values)\n",
    "    return values"
   ]
  },
  {
   "cell_type": "code",
   "execution_count": null,
   "metadata": {
    "collapsed": true
   },
   "outputs": [],
   "source": [
    "if __name__ == \"__main__\":\n",
    "    diag_sudoku_grid = '2.............62....1....7...6..8...3...9...7...6..4...4....8....52.............3'\n",
    "    display(grid2values(diag_sudoku_grid))\n",
    "    result = solve(diag_sudoku_grid)\n",
    "    display(result)\n",
    "\n",
    "    try:\n",
    "        import PySudoku\n",
    "        PySudoku.play(grid2values(diag_sudoku_grid), result, history)\n",
    "\n",
    "    except SystemExit:\n",
    "        pass\n",
    "    except:\n",
    "        print('We could not visualize your board due to a pygame issue. Not a problem! It is not a requirement.')"
   ]
  }
 ],
 "metadata": {
  "kernelspec": {
   "display_name": "Python 3",
   "language": "python",
   "name": "python3"
  },
  "language_info": {
   "codemirror_mode": {
    "name": "ipython",
    "version": 3
   },
   "file_extension": ".py",
   "mimetype": "text/x-python",
   "name": "python",
   "nbconvert_exporter": "python",
   "pygments_lexer": "ipython3",
   "version": "3.6.2"
  }
 },
 "nbformat": 4,
 "nbformat_minor": 2
}
