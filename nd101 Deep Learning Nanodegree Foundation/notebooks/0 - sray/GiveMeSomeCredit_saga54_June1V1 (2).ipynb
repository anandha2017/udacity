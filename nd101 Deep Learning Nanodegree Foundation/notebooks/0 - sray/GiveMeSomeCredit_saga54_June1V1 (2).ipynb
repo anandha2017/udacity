{
 "cells": [
  {
   "cell_type": "code",
   "execution_count": 15,
   "metadata": {
    "collapsed": true
   },
   "outputs": [],
   "source": [
    "%matplotlib inline  \n",
    "\n",
    "import pandas as pd\n",
    "import numpy as np\n",
    "import seaborn as sns\n",
    "import matplotlib.pyplot as plt"
   ]
  },
  {
   "cell_type": "code",
   "execution_count": 16,
   "metadata": {
    "collapsed": true
   },
   "outputs": [],
   "source": [
    "data = pd.read_csv(\"cs-training.csv\")"
   ]
  },
  {
   "cell_type": "code",
   "execution_count": 17,
   "metadata": {},
   "outputs": [
    {
     "data": {
      "text/html": [
       "<div>\n",
       "<style>\n",
       "    .dataframe thead tr:only-child th {\n",
       "        text-align: right;\n",
       "    }\n",
       "\n",
       "    .dataframe thead th {\n",
       "        text-align: left;\n",
       "    }\n",
       "\n",
       "    .dataframe tbody tr th {\n",
       "        vertical-align: top;\n",
       "    }\n",
       "</style>\n",
       "<table border=\"1\" class=\"dataframe\">\n",
       "  <thead>\n",
       "    <tr style=\"text-align: right;\">\n",
       "      <th></th>\n",
       "      <th>Unnamed: 0</th>\n",
       "      <th>SeriousDlqin2yrs</th>\n",
       "      <th>RevolvingUtilizationOfUnsecuredLines</th>\n",
       "      <th>age</th>\n",
       "      <th>NumberOfTime30-59DaysPastDueNotWorse</th>\n",
       "      <th>DebtRatio</th>\n",
       "      <th>MonthlyIncome</th>\n",
       "      <th>NumberOfOpenCreditLinesAndLoans</th>\n",
       "      <th>NumberOfTimes90DaysLate</th>\n",
       "      <th>NumberRealEstateLoansOrLines</th>\n",
       "      <th>NumberOfTime60-89DaysPastDueNotWorse</th>\n",
       "      <th>NumberOfDependents</th>\n",
       "    </tr>\n",
       "  </thead>\n",
       "  <tbody>\n",
       "    <tr>\n",
       "      <th>count</th>\n",
       "      <td>150000.000000</td>\n",
       "      <td>150000.000000</td>\n",
       "      <td>150000.000000</td>\n",
       "      <td>150000.000000</td>\n",
       "      <td>150000.000000</td>\n",
       "      <td>150000.000000</td>\n",
       "      <td>1.202690e+05</td>\n",
       "      <td>150000.000000</td>\n",
       "      <td>150000.000000</td>\n",
       "      <td>150000.000000</td>\n",
       "      <td>150000.000000</td>\n",
       "      <td>146076.000000</td>\n",
       "    </tr>\n",
       "    <tr>\n",
       "      <th>mean</th>\n",
       "      <td>75000.500000</td>\n",
       "      <td>0.066840</td>\n",
       "      <td>6.048438</td>\n",
       "      <td>52.295207</td>\n",
       "      <td>0.421033</td>\n",
       "      <td>353.005076</td>\n",
       "      <td>6.670221e+03</td>\n",
       "      <td>8.452760</td>\n",
       "      <td>0.265973</td>\n",
       "      <td>1.018240</td>\n",
       "      <td>0.240387</td>\n",
       "      <td>0.757222</td>\n",
       "    </tr>\n",
       "    <tr>\n",
       "      <th>std</th>\n",
       "      <td>43301.414527</td>\n",
       "      <td>0.249746</td>\n",
       "      <td>249.755371</td>\n",
       "      <td>14.771866</td>\n",
       "      <td>4.192781</td>\n",
       "      <td>2037.818523</td>\n",
       "      <td>1.438467e+04</td>\n",
       "      <td>5.145951</td>\n",
       "      <td>4.169304</td>\n",
       "      <td>1.129771</td>\n",
       "      <td>4.155179</td>\n",
       "      <td>1.115086</td>\n",
       "    </tr>\n",
       "    <tr>\n",
       "      <th>min</th>\n",
       "      <td>1.000000</td>\n",
       "      <td>0.000000</td>\n",
       "      <td>0.000000</td>\n",
       "      <td>0.000000</td>\n",
       "      <td>0.000000</td>\n",
       "      <td>0.000000</td>\n",
       "      <td>0.000000e+00</td>\n",
       "      <td>0.000000</td>\n",
       "      <td>0.000000</td>\n",
       "      <td>0.000000</td>\n",
       "      <td>0.000000</td>\n",
       "      <td>0.000000</td>\n",
       "    </tr>\n",
       "    <tr>\n",
       "      <th>25%</th>\n",
       "      <td>37500.750000</td>\n",
       "      <td>0.000000</td>\n",
       "      <td>0.029867</td>\n",
       "      <td>41.000000</td>\n",
       "      <td>0.000000</td>\n",
       "      <td>0.175074</td>\n",
       "      <td>3.400000e+03</td>\n",
       "      <td>5.000000</td>\n",
       "      <td>0.000000</td>\n",
       "      <td>0.000000</td>\n",
       "      <td>0.000000</td>\n",
       "      <td>0.000000</td>\n",
       "    </tr>\n",
       "    <tr>\n",
       "      <th>50%</th>\n",
       "      <td>75000.500000</td>\n",
       "      <td>0.000000</td>\n",
       "      <td>0.154181</td>\n",
       "      <td>52.000000</td>\n",
       "      <td>0.000000</td>\n",
       "      <td>0.366508</td>\n",
       "      <td>5.400000e+03</td>\n",
       "      <td>8.000000</td>\n",
       "      <td>0.000000</td>\n",
       "      <td>1.000000</td>\n",
       "      <td>0.000000</td>\n",
       "      <td>0.000000</td>\n",
       "    </tr>\n",
       "    <tr>\n",
       "      <th>75%</th>\n",
       "      <td>112500.250000</td>\n",
       "      <td>0.000000</td>\n",
       "      <td>0.559046</td>\n",
       "      <td>63.000000</td>\n",
       "      <td>0.000000</td>\n",
       "      <td>0.868254</td>\n",
       "      <td>8.249000e+03</td>\n",
       "      <td>11.000000</td>\n",
       "      <td>0.000000</td>\n",
       "      <td>2.000000</td>\n",
       "      <td>0.000000</td>\n",
       "      <td>1.000000</td>\n",
       "    </tr>\n",
       "    <tr>\n",
       "      <th>max</th>\n",
       "      <td>150000.000000</td>\n",
       "      <td>1.000000</td>\n",
       "      <td>50708.000000</td>\n",
       "      <td>109.000000</td>\n",
       "      <td>98.000000</td>\n",
       "      <td>329664.000000</td>\n",
       "      <td>3.008750e+06</td>\n",
       "      <td>58.000000</td>\n",
       "      <td>98.000000</td>\n",
       "      <td>54.000000</td>\n",
       "      <td>98.000000</td>\n",
       "      <td>20.000000</td>\n",
       "    </tr>\n",
       "  </tbody>\n",
       "</table>\n",
       "</div>"
      ],
      "text/plain": [
       "          Unnamed: 0  SeriousDlqin2yrs  RevolvingUtilizationOfUnsecuredLines  \\\n",
       "count  150000.000000     150000.000000                         150000.000000   \n",
       "mean    75000.500000          0.066840                              6.048438   \n",
       "std     43301.414527          0.249746                            249.755371   \n",
       "min         1.000000          0.000000                              0.000000   \n",
       "25%     37500.750000          0.000000                              0.029867   \n",
       "50%     75000.500000          0.000000                              0.154181   \n",
       "75%    112500.250000          0.000000                              0.559046   \n",
       "max    150000.000000          1.000000                          50708.000000   \n",
       "\n",
       "                 age  NumberOfTime30-59DaysPastDueNotWorse      DebtRatio  \\\n",
       "count  150000.000000                         150000.000000  150000.000000   \n",
       "mean       52.295207                              0.421033     353.005076   \n",
       "std        14.771866                              4.192781    2037.818523   \n",
       "min         0.000000                              0.000000       0.000000   \n",
       "25%        41.000000                              0.000000       0.175074   \n",
       "50%        52.000000                              0.000000       0.366508   \n",
       "75%        63.000000                              0.000000       0.868254   \n",
       "max       109.000000                             98.000000  329664.000000   \n",
       "\n",
       "       MonthlyIncome  NumberOfOpenCreditLinesAndLoans  \\\n",
       "count   1.202690e+05                    150000.000000   \n",
       "mean    6.670221e+03                         8.452760   \n",
       "std     1.438467e+04                         5.145951   \n",
       "min     0.000000e+00                         0.000000   \n",
       "25%     3.400000e+03                         5.000000   \n",
       "50%     5.400000e+03                         8.000000   \n",
       "75%     8.249000e+03                        11.000000   \n",
       "max     3.008750e+06                        58.000000   \n",
       "\n",
       "       NumberOfTimes90DaysLate  NumberRealEstateLoansOrLines  \\\n",
       "count            150000.000000                 150000.000000   \n",
       "mean                  0.265973                      1.018240   \n",
       "std                   4.169304                      1.129771   \n",
       "min                   0.000000                      0.000000   \n",
       "25%                   0.000000                      0.000000   \n",
       "50%                   0.000000                      1.000000   \n",
       "75%                   0.000000                      2.000000   \n",
       "max                  98.000000                     54.000000   \n",
       "\n",
       "       NumberOfTime60-89DaysPastDueNotWorse  NumberOfDependents  \n",
       "count                         150000.000000       146076.000000  \n",
       "mean                               0.240387            0.757222  \n",
       "std                                4.155179            1.115086  \n",
       "min                                0.000000            0.000000  \n",
       "25%                                0.000000            0.000000  \n",
       "50%                                0.000000            0.000000  \n",
       "75%                                0.000000            1.000000  \n",
       "max                               98.000000           20.000000  "
      ]
     },
     "execution_count": 17,
     "metadata": {},
     "output_type": "execute_result"
    }
   ],
   "source": [
    "data.describe()"
   ]
  },
  {
   "cell_type": "code",
   "execution_count": 18,
   "metadata": {
    "collapsed": true
   },
   "outputs": [],
   "source": [
    "data=data.drop('Unnamed: 0', axis = 1)"
   ]
  },
  {
   "cell_type": "code",
   "execution_count": 19,
   "metadata": {},
   "outputs": [
    {
     "data": {
      "text/html": [
       "<div>\n",
       "<style>\n",
       "    .dataframe thead tr:only-child th {\n",
       "        text-align: right;\n",
       "    }\n",
       "\n",
       "    .dataframe thead th {\n",
       "        text-align: left;\n",
       "    }\n",
       "\n",
       "    .dataframe tbody tr th {\n",
       "        vertical-align: top;\n",
       "    }\n",
       "</style>\n",
       "<table border=\"1\" class=\"dataframe\">\n",
       "  <thead>\n",
       "    <tr style=\"text-align: right;\">\n",
       "      <th></th>\n",
       "      <th>SeriousDlqin2yrs</th>\n",
       "      <th>RevolvingUtilizationOfUnsecuredLines</th>\n",
       "      <th>age</th>\n",
       "      <th>NumberOfTime30-59DaysPastDueNotWorse</th>\n",
       "      <th>DebtRatio</th>\n",
       "      <th>MonthlyIncome</th>\n",
       "      <th>NumberOfOpenCreditLinesAndLoans</th>\n",
       "      <th>NumberOfTimes90DaysLate</th>\n",
       "      <th>NumberRealEstateLoansOrLines</th>\n",
       "      <th>NumberOfTime60-89DaysPastDueNotWorse</th>\n",
       "      <th>NumberOfDependents</th>\n",
       "    </tr>\n",
       "  </thead>\n",
       "  <tbody>\n",
       "    <tr>\n",
       "      <th>count</th>\n",
       "      <td>150000.000000</td>\n",
       "      <td>150000.000000</td>\n",
       "      <td>150000.000000</td>\n",
       "      <td>150000.000000</td>\n",
       "      <td>150000.000000</td>\n",
       "      <td>1.202690e+05</td>\n",
       "      <td>150000.000000</td>\n",
       "      <td>150000.000000</td>\n",
       "      <td>150000.000000</td>\n",
       "      <td>150000.000000</td>\n",
       "      <td>146076.000000</td>\n",
       "    </tr>\n",
       "    <tr>\n",
       "      <th>mean</th>\n",
       "      <td>0.066840</td>\n",
       "      <td>6.048438</td>\n",
       "      <td>52.295207</td>\n",
       "      <td>0.421033</td>\n",
       "      <td>353.005076</td>\n",
       "      <td>6.670221e+03</td>\n",
       "      <td>8.452760</td>\n",
       "      <td>0.265973</td>\n",
       "      <td>1.018240</td>\n",
       "      <td>0.240387</td>\n",
       "      <td>0.757222</td>\n",
       "    </tr>\n",
       "    <tr>\n",
       "      <th>std</th>\n",
       "      <td>0.249746</td>\n",
       "      <td>249.755371</td>\n",
       "      <td>14.771866</td>\n",
       "      <td>4.192781</td>\n",
       "      <td>2037.818523</td>\n",
       "      <td>1.438467e+04</td>\n",
       "      <td>5.145951</td>\n",
       "      <td>4.169304</td>\n",
       "      <td>1.129771</td>\n",
       "      <td>4.155179</td>\n",
       "      <td>1.115086</td>\n",
       "    </tr>\n",
       "    <tr>\n",
       "      <th>min</th>\n",
       "      <td>0.000000</td>\n",
       "      <td>0.000000</td>\n",
       "      <td>0.000000</td>\n",
       "      <td>0.000000</td>\n",
       "      <td>0.000000</td>\n",
       "      <td>0.000000e+00</td>\n",
       "      <td>0.000000</td>\n",
       "      <td>0.000000</td>\n",
       "      <td>0.000000</td>\n",
       "      <td>0.000000</td>\n",
       "      <td>0.000000</td>\n",
       "    </tr>\n",
       "    <tr>\n",
       "      <th>25%</th>\n",
       "      <td>0.000000</td>\n",
       "      <td>0.029867</td>\n",
       "      <td>41.000000</td>\n",
       "      <td>0.000000</td>\n",
       "      <td>0.175074</td>\n",
       "      <td>3.400000e+03</td>\n",
       "      <td>5.000000</td>\n",
       "      <td>0.000000</td>\n",
       "      <td>0.000000</td>\n",
       "      <td>0.000000</td>\n",
       "      <td>0.000000</td>\n",
       "    </tr>\n",
       "    <tr>\n",
       "      <th>50%</th>\n",
       "      <td>0.000000</td>\n",
       "      <td>0.154181</td>\n",
       "      <td>52.000000</td>\n",
       "      <td>0.000000</td>\n",
       "      <td>0.366508</td>\n",
       "      <td>5.400000e+03</td>\n",
       "      <td>8.000000</td>\n",
       "      <td>0.000000</td>\n",
       "      <td>1.000000</td>\n",
       "      <td>0.000000</td>\n",
       "      <td>0.000000</td>\n",
       "    </tr>\n",
       "    <tr>\n",
       "      <th>75%</th>\n",
       "      <td>0.000000</td>\n",
       "      <td>0.559046</td>\n",
       "      <td>63.000000</td>\n",
       "      <td>0.000000</td>\n",
       "      <td>0.868254</td>\n",
       "      <td>8.249000e+03</td>\n",
       "      <td>11.000000</td>\n",
       "      <td>0.000000</td>\n",
       "      <td>2.000000</td>\n",
       "      <td>0.000000</td>\n",
       "      <td>1.000000</td>\n",
       "    </tr>\n",
       "    <tr>\n",
       "      <th>max</th>\n",
       "      <td>1.000000</td>\n",
       "      <td>50708.000000</td>\n",
       "      <td>109.000000</td>\n",
       "      <td>98.000000</td>\n",
       "      <td>329664.000000</td>\n",
       "      <td>3.008750e+06</td>\n",
       "      <td>58.000000</td>\n",
       "      <td>98.000000</td>\n",
       "      <td>54.000000</td>\n",
       "      <td>98.000000</td>\n",
       "      <td>20.000000</td>\n",
       "    </tr>\n",
       "  </tbody>\n",
       "</table>\n",
       "</div>"
      ],
      "text/plain": [
       "       SeriousDlqin2yrs  RevolvingUtilizationOfUnsecuredLines            age  \\\n",
       "count     150000.000000                         150000.000000  150000.000000   \n",
       "mean           0.066840                              6.048438      52.295207   \n",
       "std            0.249746                            249.755371      14.771866   \n",
       "min            0.000000                              0.000000       0.000000   \n",
       "25%            0.000000                              0.029867      41.000000   \n",
       "50%            0.000000                              0.154181      52.000000   \n",
       "75%            0.000000                              0.559046      63.000000   \n",
       "max            1.000000                          50708.000000     109.000000   \n",
       "\n",
       "       NumberOfTime30-59DaysPastDueNotWorse      DebtRatio  MonthlyIncome  \\\n",
       "count                         150000.000000  150000.000000   1.202690e+05   \n",
       "mean                               0.421033     353.005076   6.670221e+03   \n",
       "std                                4.192781    2037.818523   1.438467e+04   \n",
       "min                                0.000000       0.000000   0.000000e+00   \n",
       "25%                                0.000000       0.175074   3.400000e+03   \n",
       "50%                                0.000000       0.366508   5.400000e+03   \n",
       "75%                                0.000000       0.868254   8.249000e+03   \n",
       "max                               98.000000  329664.000000   3.008750e+06   \n",
       "\n",
       "       NumberOfOpenCreditLinesAndLoans  NumberOfTimes90DaysLate  \\\n",
       "count                    150000.000000            150000.000000   \n",
       "mean                          8.452760                 0.265973   \n",
       "std                           5.145951                 4.169304   \n",
       "min                           0.000000                 0.000000   \n",
       "25%                           5.000000                 0.000000   \n",
       "50%                           8.000000                 0.000000   \n",
       "75%                          11.000000                 0.000000   \n",
       "max                          58.000000                98.000000   \n",
       "\n",
       "       NumberRealEstateLoansOrLines  NumberOfTime60-89DaysPastDueNotWorse  \\\n",
       "count                 150000.000000                         150000.000000   \n",
       "mean                       1.018240                              0.240387   \n",
       "std                        1.129771                              4.155179   \n",
       "min                        0.000000                              0.000000   \n",
       "25%                        0.000000                              0.000000   \n",
       "50%                        1.000000                              0.000000   \n",
       "75%                        2.000000                              0.000000   \n",
       "max                       54.000000                             98.000000   \n",
       "\n",
       "       NumberOfDependents  \n",
       "count       146076.000000  \n",
       "mean             0.757222  \n",
       "std              1.115086  \n",
       "min              0.000000  \n",
       "25%              0.000000  \n",
       "50%              0.000000  \n",
       "75%              1.000000  \n",
       "max             20.000000  "
      ]
     },
     "execution_count": 19,
     "metadata": {},
     "output_type": "execute_result"
    }
   ],
   "source": [
    "data.describe()"
   ]
  },
  {
   "cell_type": "code",
   "execution_count": 20,
   "metadata": {},
   "outputs": [
    {
     "data": {
      "text/plain": [
       "Index([u'SeriousDlqin2yrs', u'RevolvingUtilizationOfUnsecuredLines', u'age',\n",
       "       u'NumberOfTime30-59DaysPastDueNotWorse', u'DebtRatio', u'MonthlyIncome',\n",
       "       u'NumberOfOpenCreditLinesAndLoans', u'NumberOfTimes90DaysLate',\n",
       "       u'NumberRealEstateLoansOrLines',\n",
       "       u'NumberOfTime60-89DaysPastDueNotWorse', u'NumberOfDependents'],\n",
       "      dtype='object')"
      ]
     },
     "execution_count": 20,
     "metadata": {},
     "output_type": "execute_result"
    }
   ],
   "source": [
    "\n",
    "data.columns"
   ]
  },
  {
   "cell_type": "code",
   "execution_count": 21,
   "metadata": {
    "collapsed": true
   },
   "outputs": [],
   "source": [
    "cleanCol = []\n",
    "for i in range(len(data.columns)):\n",
    "    cleanCol.append(data.columns[i].replace('-', ''))\n"
   ]
  },
  {
   "cell_type": "code",
   "execution_count": 22,
   "metadata": {},
   "outputs": [
    {
     "data": {
      "text/plain": [
       "['SeriousDlqin2yrs',\n",
       " 'RevolvingUtilizationOfUnsecuredLines',\n",
       " 'age',\n",
       " 'NumberOfTime3059DaysPastDueNotWorse',\n",
       " 'DebtRatio',\n",
       " 'MonthlyIncome',\n",
       " 'NumberOfOpenCreditLinesAndLoans',\n",
       " 'NumberOfTimes90DaysLate',\n",
       " 'NumberRealEstateLoansOrLines',\n",
       " 'NumberOfTime6089DaysPastDueNotWorse',\n",
       " 'NumberOfDependents']"
      ]
     },
     "execution_count": 22,
     "metadata": {},
     "output_type": "execute_result"
    }
   ],
   "source": [
    "cleanCol"
   ]
  },
  {
   "cell_type": "code",
   "execution_count": 23,
   "metadata": {
    "collapsed": true
   },
   "outputs": [],
   "source": [
    "    \n",
    "data.columns = cleanCol"
   ]
  },
  {
   "cell_type": "code",
   "execution_count": 24,
   "metadata": {},
   "outputs": [
    {
     "data": {
      "text/html": [
       "<div>\n",
       "<style>\n",
       "    .dataframe thead tr:only-child th {\n",
       "        text-align: right;\n",
       "    }\n",
       "\n",
       "    .dataframe thead th {\n",
       "        text-align: left;\n",
       "    }\n",
       "\n",
       "    .dataframe tbody tr th {\n",
       "        vertical-align: top;\n",
       "    }\n",
       "</style>\n",
       "<table border=\"1\" class=\"dataframe\">\n",
       "  <thead>\n",
       "    <tr style=\"text-align: right;\">\n",
       "      <th></th>\n",
       "      <th>SeriousDlqin2yrs</th>\n",
       "      <th>RevolvingUtilizationOfUnsecuredLines</th>\n",
       "      <th>age</th>\n",
       "      <th>NumberOfTime3059DaysPastDueNotWorse</th>\n",
       "      <th>DebtRatio</th>\n",
       "      <th>MonthlyIncome</th>\n",
       "      <th>NumberOfOpenCreditLinesAndLoans</th>\n",
       "      <th>NumberOfTimes90DaysLate</th>\n",
       "      <th>NumberRealEstateLoansOrLines</th>\n",
       "      <th>NumberOfTime6089DaysPastDueNotWorse</th>\n",
       "      <th>NumberOfDependents</th>\n",
       "    </tr>\n",
       "  </thead>\n",
       "  <tbody>\n",
       "    <tr>\n",
       "      <th>count</th>\n",
       "      <td>150000.000000</td>\n",
       "      <td>150000.000000</td>\n",
       "      <td>150000.000000</td>\n",
       "      <td>150000.000000</td>\n",
       "      <td>150000.000000</td>\n",
       "      <td>1.202690e+05</td>\n",
       "      <td>150000.000000</td>\n",
       "      <td>150000.000000</td>\n",
       "      <td>150000.000000</td>\n",
       "      <td>150000.000000</td>\n",
       "      <td>146076.000000</td>\n",
       "    </tr>\n",
       "    <tr>\n",
       "      <th>mean</th>\n",
       "      <td>0.066840</td>\n",
       "      <td>6.048438</td>\n",
       "      <td>52.295207</td>\n",
       "      <td>0.421033</td>\n",
       "      <td>353.005076</td>\n",
       "      <td>6.670221e+03</td>\n",
       "      <td>8.452760</td>\n",
       "      <td>0.265973</td>\n",
       "      <td>1.018240</td>\n",
       "      <td>0.240387</td>\n",
       "      <td>0.757222</td>\n",
       "    </tr>\n",
       "    <tr>\n",
       "      <th>std</th>\n",
       "      <td>0.249746</td>\n",
       "      <td>249.755371</td>\n",
       "      <td>14.771866</td>\n",
       "      <td>4.192781</td>\n",
       "      <td>2037.818523</td>\n",
       "      <td>1.438467e+04</td>\n",
       "      <td>5.145951</td>\n",
       "      <td>4.169304</td>\n",
       "      <td>1.129771</td>\n",
       "      <td>4.155179</td>\n",
       "      <td>1.115086</td>\n",
       "    </tr>\n",
       "    <tr>\n",
       "      <th>min</th>\n",
       "      <td>0.000000</td>\n",
       "      <td>0.000000</td>\n",
       "      <td>0.000000</td>\n",
       "      <td>0.000000</td>\n",
       "      <td>0.000000</td>\n",
       "      <td>0.000000e+00</td>\n",
       "      <td>0.000000</td>\n",
       "      <td>0.000000</td>\n",
       "      <td>0.000000</td>\n",
       "      <td>0.000000</td>\n",
       "      <td>0.000000</td>\n",
       "    </tr>\n",
       "    <tr>\n",
       "      <th>25%</th>\n",
       "      <td>0.000000</td>\n",
       "      <td>0.029867</td>\n",
       "      <td>41.000000</td>\n",
       "      <td>0.000000</td>\n",
       "      <td>0.175074</td>\n",
       "      <td>3.400000e+03</td>\n",
       "      <td>5.000000</td>\n",
       "      <td>0.000000</td>\n",
       "      <td>0.000000</td>\n",
       "      <td>0.000000</td>\n",
       "      <td>0.000000</td>\n",
       "    </tr>\n",
       "    <tr>\n",
       "      <th>50%</th>\n",
       "      <td>0.000000</td>\n",
       "      <td>0.154181</td>\n",
       "      <td>52.000000</td>\n",
       "      <td>0.000000</td>\n",
       "      <td>0.366508</td>\n",
       "      <td>5.400000e+03</td>\n",
       "      <td>8.000000</td>\n",
       "      <td>0.000000</td>\n",
       "      <td>1.000000</td>\n",
       "      <td>0.000000</td>\n",
       "      <td>0.000000</td>\n",
       "    </tr>\n",
       "    <tr>\n",
       "      <th>75%</th>\n",
       "      <td>0.000000</td>\n",
       "      <td>0.559046</td>\n",
       "      <td>63.000000</td>\n",
       "      <td>0.000000</td>\n",
       "      <td>0.868254</td>\n",
       "      <td>8.249000e+03</td>\n",
       "      <td>11.000000</td>\n",
       "      <td>0.000000</td>\n",
       "      <td>2.000000</td>\n",
       "      <td>0.000000</td>\n",
       "      <td>1.000000</td>\n",
       "    </tr>\n",
       "    <tr>\n",
       "      <th>max</th>\n",
       "      <td>1.000000</td>\n",
       "      <td>50708.000000</td>\n",
       "      <td>109.000000</td>\n",
       "      <td>98.000000</td>\n",
       "      <td>329664.000000</td>\n",
       "      <td>3.008750e+06</td>\n",
       "      <td>58.000000</td>\n",
       "      <td>98.000000</td>\n",
       "      <td>54.000000</td>\n",
       "      <td>98.000000</td>\n",
       "      <td>20.000000</td>\n",
       "    </tr>\n",
       "  </tbody>\n",
       "</table>\n",
       "</div>"
      ],
      "text/plain": [
       "       SeriousDlqin2yrs  RevolvingUtilizationOfUnsecuredLines            age  \\\n",
       "count     150000.000000                         150000.000000  150000.000000   \n",
       "mean           0.066840                              6.048438      52.295207   \n",
       "std            0.249746                            249.755371      14.771866   \n",
       "min            0.000000                              0.000000       0.000000   \n",
       "25%            0.000000                              0.029867      41.000000   \n",
       "50%            0.000000                              0.154181      52.000000   \n",
       "75%            0.000000                              0.559046      63.000000   \n",
       "max            1.000000                          50708.000000     109.000000   \n",
       "\n",
       "       NumberOfTime3059DaysPastDueNotWorse      DebtRatio  MonthlyIncome  \\\n",
       "count                        150000.000000  150000.000000   1.202690e+05   \n",
       "mean                              0.421033     353.005076   6.670221e+03   \n",
       "std                               4.192781    2037.818523   1.438467e+04   \n",
       "min                               0.000000       0.000000   0.000000e+00   \n",
       "25%                               0.000000       0.175074   3.400000e+03   \n",
       "50%                               0.000000       0.366508   5.400000e+03   \n",
       "75%                               0.000000       0.868254   8.249000e+03   \n",
       "max                              98.000000  329664.000000   3.008750e+06   \n",
       "\n",
       "       NumberOfOpenCreditLinesAndLoans  NumberOfTimes90DaysLate  \\\n",
       "count                    150000.000000            150000.000000   \n",
       "mean                          8.452760                 0.265973   \n",
       "std                           5.145951                 4.169304   \n",
       "min                           0.000000                 0.000000   \n",
       "25%                           5.000000                 0.000000   \n",
       "50%                           8.000000                 0.000000   \n",
       "75%                          11.000000                 0.000000   \n",
       "max                          58.000000                98.000000   \n",
       "\n",
       "       NumberRealEstateLoansOrLines  NumberOfTime6089DaysPastDueNotWorse  \\\n",
       "count                 150000.000000                        150000.000000   \n",
       "mean                       1.018240                             0.240387   \n",
       "std                        1.129771                             4.155179   \n",
       "min                        0.000000                             0.000000   \n",
       "25%                        0.000000                             0.000000   \n",
       "50%                        1.000000                             0.000000   \n",
       "75%                        2.000000                             0.000000   \n",
       "max                       54.000000                            98.000000   \n",
       "\n",
       "       NumberOfDependents  \n",
       "count       146076.000000  \n",
       "mean             0.757222  \n",
       "std              1.115086  \n",
       "min              0.000000  \n",
       "25%              0.000000  \n",
       "50%              0.000000  \n",
       "75%              1.000000  \n",
       "max             20.000000  "
      ]
     },
     "execution_count": 24,
     "metadata": {},
     "output_type": "execute_result"
    }
   ],
   "source": [
    "data.describe()"
   ]
  },
  {
   "cell_type": "code",
   "execution_count": 25,
   "metadata": {},
   "outputs": [
    {
     "data": {
      "text/html": [
       "<div>\n",
       "<style>\n",
       "    .dataframe thead tr:only-child th {\n",
       "        text-align: right;\n",
       "    }\n",
       "\n",
       "    .dataframe thead th {\n",
       "        text-align: left;\n",
       "    }\n",
       "\n",
       "    .dataframe tbody tr th {\n",
       "        vertical-align: top;\n",
       "    }\n",
       "</style>\n",
       "<table border=\"1\" class=\"dataframe\">\n",
       "  <thead>\n",
       "    <tr style=\"text-align: right;\">\n",
       "      <th></th>\n",
       "      <th>SeriousDlqin2yrs</th>\n",
       "      <th>RevolvingUtilizationOfUnsecuredLines</th>\n",
       "      <th>age</th>\n",
       "      <th>NumberOfTime3059DaysPastDueNotWorse</th>\n",
       "      <th>DebtRatio</th>\n",
       "      <th>MonthlyIncome</th>\n",
       "      <th>NumberOfOpenCreditLinesAndLoans</th>\n",
       "      <th>NumberOfTimes90DaysLate</th>\n",
       "      <th>NumberRealEstateLoansOrLines</th>\n",
       "      <th>NumberOfTime6089DaysPastDueNotWorse</th>\n",
       "      <th>NumberOfDependents</th>\n",
       "    </tr>\n",
       "  </thead>\n",
       "  <tbody>\n",
       "    <tr>\n",
       "      <th>0</th>\n",
       "      <td>1</td>\n",
       "      <td>0.766127</td>\n",
       "      <td>45</td>\n",
       "      <td>2</td>\n",
       "      <td>0.802982</td>\n",
       "      <td>9120.0</td>\n",
       "      <td>13</td>\n",
       "      <td>0</td>\n",
       "      <td>6</td>\n",
       "      <td>0</td>\n",
       "      <td>2.0</td>\n",
       "    </tr>\n",
       "    <tr>\n",
       "      <th>1</th>\n",
       "      <td>0</td>\n",
       "      <td>0.957151</td>\n",
       "      <td>40</td>\n",
       "      <td>0</td>\n",
       "      <td>0.121876</td>\n",
       "      <td>2600.0</td>\n",
       "      <td>4</td>\n",
       "      <td>0</td>\n",
       "      <td>0</td>\n",
       "      <td>0</td>\n",
       "      <td>1.0</td>\n",
       "    </tr>\n",
       "    <tr>\n",
       "      <th>2</th>\n",
       "      <td>0</td>\n",
       "      <td>0.658180</td>\n",
       "      <td>38</td>\n",
       "      <td>1</td>\n",
       "      <td>0.085113</td>\n",
       "      <td>3042.0</td>\n",
       "      <td>2</td>\n",
       "      <td>1</td>\n",
       "      <td>0</td>\n",
       "      <td>0</td>\n",
       "      <td>0.0</td>\n",
       "    </tr>\n",
       "    <tr>\n",
       "      <th>3</th>\n",
       "      <td>0</td>\n",
       "      <td>0.233810</td>\n",
       "      <td>30</td>\n",
       "      <td>0</td>\n",
       "      <td>0.036050</td>\n",
       "      <td>3300.0</td>\n",
       "      <td>5</td>\n",
       "      <td>0</td>\n",
       "      <td>0</td>\n",
       "      <td>0</td>\n",
       "      <td>0.0</td>\n",
       "    </tr>\n",
       "    <tr>\n",
       "      <th>4</th>\n",
       "      <td>0</td>\n",
       "      <td>0.907239</td>\n",
       "      <td>49</td>\n",
       "      <td>1</td>\n",
       "      <td>0.024926</td>\n",
       "      <td>63588.0</td>\n",
       "      <td>7</td>\n",
       "      <td>0</td>\n",
       "      <td>1</td>\n",
       "      <td>0</td>\n",
       "      <td>0.0</td>\n",
       "    </tr>\n",
       "  </tbody>\n",
       "</table>\n",
       "</div>"
      ],
      "text/plain": [
       "   SeriousDlqin2yrs  RevolvingUtilizationOfUnsecuredLines  age  \\\n",
       "0                 1                              0.766127   45   \n",
       "1                 0                              0.957151   40   \n",
       "2                 0                              0.658180   38   \n",
       "3                 0                              0.233810   30   \n",
       "4                 0                              0.907239   49   \n",
       "\n",
       "   NumberOfTime3059DaysPastDueNotWorse  DebtRatio  MonthlyIncome  \\\n",
       "0                                    2   0.802982         9120.0   \n",
       "1                                    0   0.121876         2600.0   \n",
       "2                                    1   0.085113         3042.0   \n",
       "3                                    0   0.036050         3300.0   \n",
       "4                                    1   0.024926        63588.0   \n",
       "\n",
       "   NumberOfOpenCreditLinesAndLoans  NumberOfTimes90DaysLate  \\\n",
       "0                               13                        0   \n",
       "1                                4                        0   \n",
       "2                                2                        1   \n",
       "3                                5                        0   \n",
       "4                                7                        0   \n",
       "\n",
       "   NumberRealEstateLoansOrLines  NumberOfTime6089DaysPastDueNotWorse  \\\n",
       "0                             6                                    0   \n",
       "1                             0                                    0   \n",
       "2                             0                                    0   \n",
       "3                             0                                    0   \n",
       "4                             1                                    0   \n",
       "\n",
       "   NumberOfDependents  \n",
       "0                 2.0  \n",
       "1                 1.0  \n",
       "2                 0.0  \n",
       "3                 0.0  \n",
       "4                 0.0  "
      ]
     },
     "execution_count": 25,
     "metadata": {},
     "output_type": "execute_result"
    }
   ],
   "source": [
    "data.head(5)"
   ]
  },
  {
   "cell_type": "code",
   "execution_count": 26,
   "metadata": {},
   "outputs": [
    {
     "data": {
      "text/plain": [
       "SeriousDlqin2yrs                            0\n",
       "RevolvingUtilizationOfUnsecuredLines        0\n",
       "age                                         0\n",
       "NumberOfTime3059DaysPastDueNotWorse         0\n",
       "DebtRatio                                   0\n",
       "MonthlyIncome                           29731\n",
       "NumberOfOpenCreditLinesAndLoans             0\n",
       "NumberOfTimes90DaysLate                     0\n",
       "NumberRealEstateLoansOrLines                0\n",
       "NumberOfTime6089DaysPastDueNotWorse         0\n",
       "NumberOfDependents                       3924\n",
       "dtype: int64"
      ]
     },
     "execution_count": 26,
     "metadata": {},
     "output_type": "execute_result"
    }
   ],
   "source": [
    "data.isnull().sum()"
   ]
  },
  {
   "cell_type": "code",
   "execution_count": 27,
   "metadata": {},
   "outputs": [
    {
     "data": {
      "text/plain": [
       "<matplotlib.axes._subplots.AxesSubplot at 0x7f6dfbcf3b10>"
      ]
     },
     "execution_count": 27,
     "metadata": {},
     "output_type": "execute_result"
    },
    {
     "name": "stderr",
     "output_type": "stream",
     "text": [
      "/opt/conda/lib/python2.7/site-packages/matplotlib/font_manager.py:1297: UserWarning: findfont: Font family [u'sans-serif'] not found. Falling back to DejaVu Sans\n",
      "  (prop.get_family(), self.defaultFamily[fontext]))\n"
     ]
    },
    {
     "data": {
      "image/png": "[encoded data removed]",
      "text/plain": [
       "<matplotlib.figure.Figure at 0x7f6dfbc77610>"
      ]
     },
     "metadata": {},
     "output_type": "display_data"
    }
   ],
   "source": [
    "data['age'].hist(bins=100)"
   ]
  },
  {
   "cell_type": "code",
   "execution_count": 28,
   "metadata": {},
   "outputs": [
    {
     "data": {
      "text/plain": [
       "count    150000.000000\n",
       "mean         52.295207\n",
       "std          14.771866\n",
       "min           0.000000\n",
       "25%          41.000000\n",
       "50%          52.000000\n",
       "75%          63.000000\n",
       "max         109.000000\n",
       "Name: age, dtype: float64"
      ]
     },
     "execution_count": 28,
     "metadata": {},
     "output_type": "execute_result"
    }
   ],
   "source": [
    "data.age.describe()"
   ]
  },
  {
   "cell_type": "code",
   "execution_count": 29,
   "metadata": {},
   "outputs": [
    {
     "name": "stdout",
     "output_type": "stream",
     "text": [
      "0 1\n",
      "1 0\n",
      "2 0\n",
      "3 0\n",
      "4 0\n",
      "5 0\n",
      "6 0\n",
      "7 0\n",
      "8 0\n",
      "9 0\n",
      "10 0\n",
      "11 0\n",
      "12 0\n",
      "13 0\n",
      "14 0\n",
      "15 0\n",
      "16 0\n",
      "17 0\n",
      "18 0\n",
      "19 0\n",
      "20 0\n",
      "21 183\n",
      "22 434\n",
      "23 641\n",
      "24 816\n",
      "25 953\n",
      "26 1193\n",
      "27 1338\n",
      "28 1560\n",
      "29 1702\n",
      "30 1937\n",
      "31 2038\n",
      "32 2050\n",
      "33 2239\n",
      "34 2155\n",
      "35 2246\n",
      "36 2379\n",
      "37 2521\n",
      "38 2631\n",
      "39 2987\n",
      "40 3093\n",
      "41 3122\n",
      "42 3082\n",
      "43 3208\n",
      "44 3294\n",
      "45 3502\n",
      "46 3714\n",
      "47 3719\n",
      "48 3806\n",
      "49 3837\n",
      "50 3753\n",
      "51 3627\n",
      "52 3609\n",
      "53 3648\n",
      "54 3561\n",
      "55 3416\n",
      "56 3589\n",
      "57 3375\n",
      "58 3443\n",
      "59 3280\n",
      "60 3258\n",
      "61 3522\n",
      "62 3568\n",
      "63 3719\n",
      "64 3058\n",
      "65 2594\n",
      "66 2494\n",
      "67 2503\n",
      "68 2235\n",
      "69 1954\n",
      "70 1777\n",
      "71 1646\n",
      "72 1649\n",
      "73 1520\n",
      "74 1451\n",
      "75 1241\n",
      "76 1183\n",
      "77 1099\n",
      "78 1054\n",
      "79 981\n",
      "80 876\n",
      "81 774\n",
      "82 647\n",
      "83 512\n",
      "84 480\n",
      "85 483\n",
      "86 407\n",
      "87 357\n",
      "88 313\n",
      "89 276\n",
      "90 198\n",
      "91 154\n",
      "92 93\n",
      "93 87\n",
      "94 47\n",
      "95 45\n",
      "96 18\n",
      "97 17\n",
      "98 6\n",
      "99 9\n",
      "100 0\n",
      "101 3\n",
      "102 3\n",
      "103 3\n",
      "104 0\n",
      "105 1\n",
      "106 0\n",
      "107 1\n",
      "108 0\n",
      "109 2\n"
     ]
    }
   ],
   "source": [
    "for i in range(0,110):\n",
    "    print i, len(data[data.age == i])"
   ]
  },
  {
   "cell_type": "code",
   "execution_count": 30,
   "metadata": {},
   "outputs": [
    {
     "data": {
      "text/plain": [
       "'age should be between a defined range, 0-109 makes less sense, should be between 22-91'"
      ]
     },
     "execution_count": 30,
     "metadata": {},
     "output_type": "execute_result"
    }
   ],
   "source": [
    "\"\"\"age should be between a defined range, 0-109 makes less sense, should be between 22-91\"\"\""
   ]
  },
  {
   "cell_type": "code",
   "execution_count": 31,
   "metadata": {},
   "outputs": [
    {
     "data": {
      "text/plain": [
       "52.295206666666665"
      ]
     },
     "execution_count": 31,
     "metadata": {},
     "output_type": "execute_result"
    }
   ],
   "source": [
    "np.median(data.age)\n",
    "np.mean(data.age)\n"
   ]
  },
  {
   "cell_type": "code",
   "execution_count": 20,
   "metadata": {},
   "outputs": [],
   "source": [
    "mean_age=np.mean(data.age)\n",
    "ageNew=[]\n",
    "for val in data.age:\n",
    "    if val < 22 or val >91:\n",
    "        ageNew.append(mean_age)\n",
    "    else:\n",
    "        ageNew.append(val)\n",
    "        \n"
   ]
  },
  {
   "cell_type": "code",
   "execution_count": 21,
   "metadata": {},
   "outputs": [
    {
     "data": {
      "text/plain": [
       "[45,\n",
       " 40,\n",
       " 38,\n",
       " 30,\n",
       " 49,\n",
       " 74,\n",
       " 57,\n",
       " 39,\n",
       " 27,\n",
       " 57,\n",
       " 30,\n",
       " 51,\n",
       " 46,\n",
       " 40,\n",
       " 76,\n",
       " 64,\n",
       " 78,\n",
       " 53,\n",
       " 43,\n",
       " 25,\n",
       " 43,\n",
       " 38,\n",
       " 39,\n",
       " 32,\n",
       " 58,\n",
       " 50,\n",
       " 58,\n",
       " 69,\n",
       " 24,\n",
       " 58,\n",
       " 28,\n",
       " 24,\n",
       " 62,\n",
       " 57,\n",
       " 42,\n",
       " 64,\n",
       " 50,\n",
       " 75,\n",
       " 26,\n",
       " 52,\n",
       " 41,\n",
       " 81,\n",
       " 31,\n",
       " 28,\n",
       " 68,\n",
       " 70,\n",
       " 62,\n",
       " 31,\n",
       " 38,\n",
       " 70,\n",
       " 73,\n",
       " 31,\n",
       " 62,\n",
       " 51,\n",
       " 29,\n",
       " 55,\n",
       " 46,\n",
       " 64,\n",
       " 43,\n",
       " 35,\n",
       " 58,\n",
       " 69,\n",
       " 72,\n",
       " 46,\n",
       " 60,\n",
       " 67,\n",
       " 55,\n",
       " 27,\n",
       " 31,\n",
       " 64,\n",
       " 36,\n",
       " 67,\n",
       " 56,\n",
       " 31,\n",
       " 49,\n",
       " 36,\n",
       " 29,\n",
       " 37,\n",
       " 69,\n",
       " 41,\n",
       " 52,\n",
       " 66,\n",
       " 53,\n",
       " 56,\n",
       " 31,\n",
       " 58,\n",
       " 58,\n",
       " 64,\n",
       " 45,\n",
       " 60,\n",
       " 51,\n",
       " 83,\n",
       " 52,\n",
       " 34,\n",
       " 44,\n",
       " 37,\n",
       " 48,\n",
       " 57,\n",
       " 32,\n",
       " 75,\n",
       " 61,\n",
       " 34,\n",
       " 52,\n",
       " 44,\n",
       " 57,\n",
       " 46,\n",
       " 80,\n",
       " 32,\n",
       " 62,\n",
       " 61,\n",
       " 47,\n",
       " 58,\n",
       " 52,\n",
       " 68,\n",
       " 39,\n",
       " 74,\n",
       " 46,\n",
       " 44,\n",
       " 68,\n",
       " 68,\n",
       " 31,\n",
       " 34,\n",
       " 67,\n",
       " 58,\n",
       " 39,\n",
       " 58,\n",
       " 61,\n",
       " 59,\n",
       " 36,\n",
       " 59,\n",
       " 43,\n",
       " 77,\n",
       " 48,\n",
       " 81,\n",
       " 51,\n",
       " 53,\n",
       " 56,\n",
       " 63,\n",
       " 55,\n",
       " 54,\n",
       " 55,\n",
       " 72,\n",
       " 53,\n",
       " 27,\n",
       " 31,\n",
       " 38,\n",
       " 40,\n",
       " 48,\n",
       " 50,\n",
       " 34,\n",
       " 48,\n",
       " 57,\n",
       " 30,\n",
       " 28,\n",
       " 36,\n",
       " 60,\n",
       " 58,\n",
       " 49,\n",
       " 40,\n",
       " 63,\n",
       " 50,\n",
       " 38,\n",
       " 47,\n",
       " 63,\n",
       " 42,\n",
       " 54,\n",
       " 63,\n",
       " 29,\n",
       " 36,\n",
       " 33,\n",
       " 72,\n",
       " 29,\n",
       " 53,\n",
       " 79,\n",
       " 58,\n",
       " 69,\n",
       " 69,\n",
       " 75,\n",
       " 41,\n",
       " 35,\n",
       " 46,\n",
       " 65,\n",
       " 55,\n",
       " 55,\n",
       " 51,\n",
       " 25,\n",
       " 44,\n",
       " 86,\n",
       " 56,\n",
       " 55,\n",
       " 64,\n",
       " 53,\n",
       " 49,\n",
       " 55,\n",
       " 80,\n",
       " 38,\n",
       " 44,\n",
       " 40,\n",
       " 35,\n",
       " 69,\n",
       " 64,\n",
       " 61,\n",
       " 46,\n",
       " 49,\n",
       " 64,\n",
       " 40,\n",
       " 27,\n",
       " 60,\n",
       " 52.295206666666665,\n",
       " 50,\n",
       " 64,\n",
       " 66,\n",
       " 53,\n",
       " 62,\n",
       " 63,\n",
       " 50,\n",
       " 61,\n",
       " 42,\n",
       " 63,\n",
       " 73,\n",
       " 72,\n",
       " 52,\n",
       " 45,\n",
       " 44,\n",
       " 63,\n",
       " 37,\n",
       " 38,\n",
       " 36,\n",
       " 41,\n",
       " 63,\n",
       " 76,\n",
       " 43,\n",
       " 64,\n",
       " 67,\n",
       " 52,\n",
       " 66,\n",
       " 55,\n",
       " 42,\n",
       " 28,\n",
       " 47,\n",
       " 61,\n",
       " 73,\n",
       " 58,\n",
       " 68,\n",
       " 41,\n",
       " 44,\n",
       " 42,\n",
       " 40,\n",
       " 78,\n",
       " 81,\n",
       " 49,\n",
       " 58,\n",
       " 54,\n",
       " 33,\n",
       " 53,\n",
       " 23,\n",
       " 49,\n",
       " 44,\n",
       " 63,\n",
       " 42,\n",
       " 65,\n",
       " 54,\n",
       " 28,\n",
       " 78,\n",
       " 66,\n",
       " 32,\n",
       " 43,\n",
       " 59,\n",
       " 76,\n",
       " 68,\n",
       " 61,\n",
       " 68,\n",
       " 57,\n",
       " 68,\n",
       " 57,\n",
       " 46,\n",
       " 69,\n",
       " 44,\n",
       " 28,\n",
       " 53,\n",
       " 40,\n",
       " 36,\n",
       " 42,\n",
       " 64,\n",
       " 57,\n",
       " 62,\n",
       " 47,\n",
       " 62,\n",
       " 49,\n",
       " 66,\n",
       " 54,\n",
       " 56,\n",
       " 83,\n",
       " 45,\n",
       " 29,\n",
       " 67,\n",
       " 29,\n",
       " 46,\n",
       " 25,\n",
       " 68,\n",
       " 33,\n",
       " 55,\n",
       " 46,\n",
       " 66,\n",
       " 66,\n",
       " 48,\n",
       " 52,\n",
       " 32,\n",
       " 51,\n",
       " 27,\n",
       " 32,\n",
       " 30,\n",
       " 37,\n",
       " 49,\n",
       " 37,\n",
       " 36,\n",
       " 62,\n",
       " 57,\n",
       " 59,\n",
       " 38,\n",
       " 52.295206666666665,\n",
       " 58,\n",
       " 37,\n",
       " 63,\n",
       " 32,\n",
       " 52,\n",
       " 43,\n",
       " 29,\n",
       " 45,\n",
       " 38,\n",
       " 62,\n",
       " 29,\n",
       " 41,\n",
       " 29,\n",
       " 47,\n",
       " 55,\n",
       " 87,\n",
       " 41,\n",
       " 61,\n",
       " 28,\n",
       " 43,\n",
       " 71,\n",
       " 46,\n",
       " 30,\n",
       " 43,\n",
       " 59,\n",
       " 47,\n",
       " 61,\n",
       " 72,\n",
       " 50,\n",
       " 68,\n",
       " 58,\n",
       " 69,\n",
       " 71,\n",
       " 48,\n",
       " 37,\n",
       " 50,\n",
       " 38,\n",
       " 35,\n",
       " 59,\n",
       " 67,\n",
       " 30,\n",
       " 56,\n",
       " 51,\n",
       " 40,\n",
       " 28,\n",
       " 54,\n",
       " 46,\n",
       " 57,\n",
       " 35,\n",
       " 79,\n",
       " 46,\n",
       " 79,\n",
       " 64,\n",
       " 74,\n",
       " 64,\n",
       " 63,\n",
       " 63,\n",
       " 54,\n",
       " 63,\n",
       " 45,\n",
       " 22,\n",
       " 66,\n",
       " 57,\n",
       " 43,\n",
       " 61,\n",
       " 54,\n",
       " 90,\n",
       " 60,\n",
       " 34,\n",
       " 38,\n",
       " 60,\n",
       " 76,\n",
       " 76,\n",
       " 39,\n",
       " 83,\n",
       " 63,\n",
       " 52,\n",
       " 58,\n",
       " 42,\n",
       " 63,\n",
       " 58,\n",
       " 62,\n",
       " 46,\n",
       " 27,\n",
       " 27,\n",
       " 35,\n",
       " 55,\n",
       " 73,\n",
       " 51,\n",
       " 36,\n",
       " 56,\n",
       " 59,\n",
       " 49,\n",
       " 64,\n",
       " 56,\n",
       " 37,\n",
       " 48,\n",
       " 36,\n",
       " 70,\n",
       " 49,\n",
       " 57,\n",
       " 39,\n",
       " 61,\n",
       " 38,\n",
       " 24,\n",
       " 33,\n",
       " 73,\n",
       " 79,\n",
       " 81,\n",
       " 55,\n",
       " 57,\n",
       " 58,\n",
       " 52,\n",
       " 51,\n",
       " 63,\n",
       " 52.295206666666665,\n",
       " 56,\n",
       " 41,\n",
       " 43,\n",
       " 56,\n",
       " 59,\n",
       " 40,\n",
       " 74,\n",
       " 49,\n",
       " 68,\n",
       " 57,\n",
       " 48,\n",
       " 40,\n",
       " 23,\n",
       " 52,\n",
       " 48,\n",
       " 55,\n",
       " 61,\n",
       " 33,\n",
       " 69,\n",
       " 39,\n",
       " 84,\n",
       " 32,\n",
       " 78,\n",
       " 61,\n",
       " 37,\n",
       " 33,\n",
       " 81,\n",
       " 60,\n",
       " 46,\n",
       " 57,\n",
       " 57,\n",
       " 32,\n",
       " 42,\n",
       " 38,\n",
       " 82,\n",
       " 33,\n",
       " 68,\n",
       " 52,\n",
       " 46,\n",
       " 66,\n",
       " 57,\n",
       " 50,\n",
       " 34,\n",
       " 53,\n",
       " 76,\n",
       " 64,\n",
       " 72,\n",
       " 48,\n",
       " 71,\n",
       " 59,\n",
       " 53,\n",
       " 34,\n",
       " 51,\n",
       " 55,\n",
       " 46,\n",
       " 27,\n",
       " 43,\n",
       " 75,\n",
       " 31,\n",
       " 43,\n",
       " 51,\n",
       " 28,\n",
       " 51,\n",
       " 55,\n",
       " 69,\n",
       " 42,\n",
       " 33,\n",
       " 60,\n",
       " 54,\n",
       " 48,\n",
       " 49,\n",
       " 73,\n",
       " 91,\n",
       " 66,\n",
       " 49,\n",
       " 46,\n",
       " 37,\n",
       " 54,\n",
       " 22,\n",
       " 31,\n",
       " 39,\n",
       " 56,\n",
       " 44,\n",
       " 50,\n",
       " 55,\n",
       " 52,\n",
       " 58,\n",
       " 62,\n",
       " 42,\n",
       " 47,\n",
       " 42,\n",
       " 39,\n",
       " 45,\n",
       " 82,\n",
       " 64,\n",
       " 55,\n",
       " 58,\n",
       " 35,\n",
       " 62,\n",
       " 52,\n",
       " 40,\n",
       " 57,\n",
       " 45,\n",
       " 27,\n",
       " 24,\n",
       " 37,\n",
       " 36,\n",
       " 40,\n",
       " 86,\n",
       " 56,\n",
       " 59,\n",
       " 40,\n",
       " 49,\n",
       " 66,\n",
       " 63,\n",
       " 45,\n",
       " 30,\n",
       " 36,\n",
       " 39,\n",
       " 27,\n",
       " 44,\n",
       " 34,\n",
       " 59,\n",
       " 38,\n",
       " 38,\n",
       " 39,\n",
       " 43,\n",
       " 57,\n",
       " 75,\n",
       " 29,\n",
       " 55,\n",
       " 60,\n",
       " 37,\n",
       " 69,\n",
       " 48,\n",
       " 89,\n",
       " 56,\n",
       " 75,\n",
       " 55,\n",
       " 63,\n",
       " 49,\n",
       " 31,\n",
       " 61,\n",
       " 46,\n",
       " 40,\n",
       " 91,\n",
       " 46,\n",
       " 56,\n",
       " 29,\n",
       " 45,\n",
       " 49,\n",
       " 64,\n",
       " 51,\n",
       " 45,\n",
       " 78,\n",
       " 36,\n",
       " 54,\n",
       " 67,\n",
       " 63,\n",
       " 61,\n",
       " 86,\n",
       " 50,\n",
       " 51,\n",
       " 70,\n",
       " 44,\n",
       " 39,\n",
       " 49,\n",
       " 58,\n",
       " 39,\n",
       " 33,\n",
       " 53,\n",
       " 36,\n",
       " 62,\n",
       " 62,\n",
       " 29,\n",
       " 44,\n",
       " 32,\n",
       " 52,\n",
       " 69,\n",
       " 71,\n",
       " 63,\n",
       " 44,\n",
       " 54,\n",
       " 41,\n",
       " 32,\n",
       " 87,\n",
       " 43,\n",
       " 47,\n",
       " 75,\n",
       " 64,\n",
       " 41,\n",
       " 30,\n",
       " 40,\n",
       " 56,\n",
       " 55,\n",
       " 36,\n",
       " 57,\n",
       " 56,\n",
       " 49,\n",
       " 53,\n",
       " 51,\n",
       " 64,\n",
       " 28,\n",
       " 54,\n",
       " 53,\n",
       " 37,\n",
       " 70,\n",
       " 48,\n",
       " 52,\n",
       " 36,\n",
       " 51,\n",
       " 69,\n",
       " 52,\n",
       " 67,\n",
       " 36,\n",
       " 49,\n",
       " 51,\n",
       " 36,\n",
       " 33,\n",
       " 62,\n",
       " 69,\n",
       " 70,\n",
       " 49,\n",
       " 46,\n",
       " 65,\n",
       " 56,\n",
       " 51,\n",
       " 57,\n",
       " 48,\n",
       " 47,\n",
       " 33,\n",
       " 75,\n",
       " 40,\n",
       " 40,\n",
       " 68,\n",
       " 35,\n",
       " 65,\n",
       " 81,\n",
       " 52,\n",
       " 69,\n",
       " 34,\n",
       " 40,\n",
       " 35,\n",
       " 80,\n",
       " 68,\n",
       " 47,\n",
       " 64,\n",
       " 36,\n",
       " 49,\n",
       " 55,\n",
       " 35,\n",
       " 63,\n",
       " 64,\n",
       " 64,\n",
       " 26,\n",
       " 77,\n",
       " 32,\n",
       " 54,\n",
       " 40,\n",
       " 53,\n",
       " 58,\n",
       " 50,\n",
       " 56,\n",
       " 75,\n",
       " 36,\n",
       " 33,\n",
       " 52,\n",
       " 62,\n",
       " 60,\n",
       " 52,\n",
       " 36,\n",
       " 71,\n",
       " 83,\n",
       " 76,\n",
       " 40,\n",
       " 46,\n",
       " 78,\n",
       " 36,\n",
       " 76,\n",
       " 41,\n",
       " 60,\n",
       " 63,\n",
       " 52,\n",
       " 58,\n",
       " 56,\n",
       " 33,\n",
       " 64,\n",
       " 33,\n",
       " 40,\n",
       " 56,\n",
       " 60,\n",
       " 27,\n",
       " 41,\n",
       " 48,\n",
       " 69,\n",
       " 39,\n",
       " 36,\n",
       " 34,\n",
       " 50,\n",
       " 79,\n",
       " 54,\n",
       " 36,\n",
       " 39,\n",
       " 35,\n",
       " 38,\n",
       " 52,\n",
       " 24,\n",
       " 76,\n",
       " 41,\n",
       " 74,\n",
       " 47,\n",
       " 57,\n",
       " 63,\n",
       " 62,\n",
       " 39,\n",
       " 51,\n",
       " 60,\n",
       " 68,\n",
       " 63,\n",
       " 55,\n",
       " 58,\n",
       " 55,\n",
       " 33,\n",
       " 58,\n",
       " 55,\n",
       " 44,\n",
       " 57,\n",
       " 65,\n",
       " 56,\n",
       " 25,\n",
       " 89,\n",
       " 32,\n",
       " 48,\n",
       " 38,\n",
       " 58,\n",
       " 59,\n",
       " 32,\n",
       " 50,\n",
       " 26,\n",
       " 55,\n",
       " 82,\n",
       " 62,\n",
       " 46,\n",
       " 66,\n",
       " 46,\n",
       " 59,\n",
       " 29,\n",
       " 39,\n",
       " 36,\n",
       " 71,\n",
       " 82,\n",
       " 26,\n",
       " 58,\n",
       " 68,\n",
       " 42,\n",
       " 58,\n",
       " 26,\n",
       " 33,\n",
       " 51,\n",
       " 60,\n",
       " 29,\n",
       " 79,\n",
       " 27,\n",
       " 50,\n",
       " 31,\n",
       " 45,\n",
       " 26,\n",
       " 63,\n",
       " 40,\n",
       " 57,\n",
       " 54,\n",
       " 33,\n",
       " 54,\n",
       " 24,\n",
       " 41,\n",
       " 47,\n",
       " 76,\n",
       " 87,\n",
       " 34,\n",
       " 46,\n",
       " 82,\n",
       " 48,\n",
       " 83,\n",
       " 86,\n",
       " 56,\n",
       " 90,\n",
       " 73,\n",
       " 33,\n",
       " 85,\n",
       " 45,\n",
       " 56,\n",
       " 31,\n",
       " 30,\n",
       " 32,\n",
       " 40,\n",
       " 79,\n",
       " 37,\n",
       " 63,\n",
       " 28,\n",
       " 69,\n",
       " 47,\n",
       " 71,\n",
       " 56,\n",
       " 40,\n",
       " 64,\n",
       " 59,\n",
       " 28,\n",
       " 45,\n",
       " 31,\n",
       " 58,\n",
       " 44,\n",
       " 37,\n",
       " 68,\n",
       " 47,\n",
       " 57,\n",
       " 51,\n",
       " 50,\n",
       " 74,\n",
       " 73,\n",
       " 81,\n",
       " 58,\n",
       " 87,\n",
       " 55,\n",
       " 50,\n",
       " 34,\n",
       " 67,\n",
       " 63,\n",
       " 62,\n",
       " 59,\n",
       " 32,\n",
       " 64,\n",
       " 72,\n",
       " 64,\n",
       " 30,\n",
       " 79,\n",
       " 81,\n",
       " 41,\n",
       " 58,\n",
       " 55,\n",
       " 45,\n",
       " 44,\n",
       " 49,\n",
       " 74,\n",
       " 26,\n",
       " 59,\n",
       " 39,\n",
       " 48,\n",
       " 49,\n",
       " 47,\n",
       " 28,\n",
       " 42,\n",
       " 53,\n",
       " 68,\n",
       " 31,\n",
       " 34,\n",
       " 56,\n",
       " 30,\n",
       " 52,\n",
       " 54,\n",
       " 39,\n",
       " 57,\n",
       " 60,\n",
       " 45,\n",
       " 33,\n",
       " 64,\n",
       " 85,\n",
       " 34,\n",
       " 37,\n",
       " 63,\n",
       " 35,\n",
       " 32,\n",
       " 73,\n",
       " 39,\n",
       " 38,\n",
       " 40,\n",
       " 42,\n",
       " 36,\n",
       " 64,\n",
       " 51,\n",
       " 25,\n",
       " 36,\n",
       " 34,\n",
       " 73,\n",
       " 55,\n",
       " 39,\n",
       " 83,\n",
       " 63,\n",
       " 52,\n",
       " 59,\n",
       " 24,\n",
       " 44,\n",
       " 36,\n",
       " 74,\n",
       " 45,\n",
       " 41,\n",
       " 63,\n",
       " 41,\n",
       " 45,\n",
       " 54,\n",
       " 76,\n",
       " 65,\n",
       " 38,\n",
       " 47,\n",
       " 68,\n",
       " 34,\n",
       " 46,\n",
       " 55,\n",
       " 34,\n",
       " 29,\n",
       " 35,\n",
       " 43,\n",
       " 37,\n",
       " 74,\n",
       " 55,\n",
       " 72,\n",
       " 80,\n",
       " 50,\n",
       " 77,\n",
       " 73,\n",
       " 52,\n",
       " 48,\n",
       " 44,\n",
       " 50,\n",
       " 44,\n",
       " 70,\n",
       " 53,\n",
       " 70,\n",
       " 36,\n",
       " 63,\n",
       " 50,\n",
       " 48,\n",
       " 62,\n",
       " 53,\n",
       " 43,\n",
       " 58,\n",
       " 67,\n",
       " 59,\n",
       " 55,\n",
       " 82,\n",
       " 47,\n",
       " 43,\n",
       " 58,\n",
       " 41,\n",
       " 63,\n",
       " 50,\n",
       " 32,\n",
       " 37,\n",
       " 36,\n",
       " 45,\n",
       " 26,\n",
       " 80,\n",
       " 40,\n",
       " 35,\n",
       " 52,\n",
       " 38,\n",
       " 78,\n",
       " 57,\n",
       " 57,\n",
       " 32,\n",
       " 43,\n",
       " 60,\n",
       " 54,\n",
       " 59,\n",
       " ...]"
      ]
     },
     "execution_count": 21,
     "metadata": {},
     "output_type": "execute_result"
    }
   ],
   "source": [
    "ageNew"
   ]
  },
  {
   "cell_type": "code",
   "execution_count": 22,
   "metadata": {},
   "outputs": [],
   "source": [
    "data.age = ageNew"
   ]
  },
  {
   "cell_type": "code",
   "execution_count": 23,
   "metadata": {},
   "outputs": [
    {
     "data": {
      "text/plain": [
       "'RevolvingUtilizationOfUnsecuredLines = Total balance on credit cards and personal lines of credit \\nexcept real estate and no installment debt like car loans divided by the sum of credit limits'"
      ]
     },
     "execution_count": 23,
     "metadata": {},
     "output_type": "execute_result"
    }
   ],
   "source": [
    "\"\"\"RevolvingUtilizationOfUnsecuredLines = Total balance on credit cards and personal lines of credit \n",
    "except real estate and no installment debt like car loans divided by the sum of credit limits\"\"\"\n"
   ]
  },
  {
   "cell_type": "code",
   "execution_count": 24,
   "metadata": {},
   "outputs": [
    {
     "data": {
      "text/plain": [
       "count    150000.000000\n",
       "mean          6.048438\n",
       "std         249.755371\n",
       "min           0.000000\n",
       "25%           0.029867\n",
       "50%           0.154181\n",
       "75%           0.559046\n",
       "max       50708.000000\n",
       "Name: RevolvingUtilizationOfUnsecuredLines, dtype: float64"
      ]
     },
     "execution_count": 24,
     "metadata": {},
     "output_type": "execute_result"
    }
   ],
   "source": [
    "data.RevolvingUtilizationOfUnsecuredLines.describe()"
   ]
  },
  {
   "cell_type": "code",
   "execution_count": 25,
   "metadata": {},
   "outputs": [
    {
     "data": {
      "text/plain": [
       "3321"
      ]
     },
     "execution_count": 25,
     "metadata": {},
     "output_type": "execute_result"
    }
   ],
   "source": [
    "len(data[data.RevolvingUtilizationOfUnsecuredLines >1])\n"
   ]
  },
  {
   "cell_type": "code",
   "execution_count": 26,
   "metadata": {},
   "outputs": [
    {
     "data": {
      "text/plain": [
       "'the value here should be between 0-1 [implies 0 to 100%], but few values are more than 1 [implying more than 100%], so all those values must be a data entry error and should be changed to the value/100'"
      ]
     },
     "execution_count": 26,
     "metadata": {},
     "output_type": "execute_result"
    }
   ],
   "source": [
    "\n",
    "\"\"\"the value here should be between 0-1 [implies 0 to 100%], but few values are more than 1 [implying more than 100%], so all those values must be a data entry error and should be changed to the value/100\"\"\""
   ]
  },
  {
   "cell_type": "code",
   "execution_count": 27,
   "metadata": {},
   "outputs": [],
   "source": [
    "for val in data.RevolvingUtilizationOfUnsecuredLines:\n",
    "    if val >1:\n",
    "        data['RUUL_indicator']=1\n",
    "    else:\n",
    "        data['RUUL_indicator']=0"
   ]
  },
  {
   "cell_type": "code",
   "execution_count": 28,
   "metadata": {},
   "outputs": [],
   "source": [
    "RUULNew=[]\n",
    "\n",
    "for val in data.RevolvingUtilizationOfUnsecuredLines:\n",
    "    if val <=10:\n",
    "        RUULNew.append(val/10)\n",
    "    elif val >10 and val <=100:\n",
    "        RUULNew.append(val/100)\n",
    "    elif val >100 and val <=1000:\n",
    "        RUULNew.append(val/1000)\n",
    "    elif val >1000 and val <=10000:\n",
    "        RUULNew.append(val/10000)\n",
    "    elif val >10000 and val <=100000:   \n",
    "        RUULNew.append(val/100000)\n",
    "    else:\n",
    "        RUULNew.append(val)\n",
    "        \n"
   ]
  },
  {
   "cell_type": "code",
   "execution_count": 29,
   "metadata": {
    "collapsed": true
   },
   "outputs": [],
   "source": [
    "data.RevolvingUtilizationOfUnsecuredLines = RUULNew"
   ]
  },
  {
   "cell_type": "code",
   "execution_count": 30,
   "metadata": {},
   "outputs": [
    {
     "data": {
      "text/plain": [
       "'NumberOfTime3059DaysPastDueNotWorse'"
      ]
     },
     "execution_count": 30,
     "metadata": {},
     "output_type": "execute_result"
    }
   ],
   "source": [
    "\"\"\"NumberOfTime3059DaysPastDueNotWorse\"\"\"\n"
   ]
  },
  {
   "cell_type": "code",
   "execution_count": 31,
   "metadata": {},
   "outputs": [
    {
     "data": {
      "text/plain": [
       "count    150000.000000\n",
       "mean          0.421033\n",
       "std           4.192781\n",
       "min           0.000000\n",
       "25%           0.000000\n",
       "50%           0.000000\n",
       "75%           0.000000\n",
       "max          98.000000\n",
       "Name: NumberOfTime3059DaysPastDueNotWorse, dtype: float64"
      ]
     },
     "execution_count": 31,
     "metadata": {},
     "output_type": "execute_result"
    }
   ],
   "source": [
    "data.NumberOfTime3059DaysPastDueNotWorse.describe()"
   ]
  },
  {
   "cell_type": "code",
   "execution_count": 32,
   "metadata": {},
   "outputs": [
    {
     "name": "stdout",
     "output_type": "stream",
     "text": [
      "0 126018\n",
      "1 16033\n",
      "2 4598\n",
      "3 1754\n",
      "4 747\n",
      "5 342\n",
      "6 140\n",
      "7 54\n",
      "8 25\n",
      "9 12\n",
      "10 4\n",
      "11 1\n",
      "12 2\n",
      "13 1\n",
      "14 0\n",
      "15 0\n",
      "16 0\n",
      "17 0\n",
      "18 0\n",
      "19 0\n",
      "20 0\n",
      "21 0\n",
      "22 0\n",
      "23 0\n",
      "24 0\n",
      "25 0\n",
      "26 0\n",
      "27 0\n",
      "28 0\n",
      "29 0\n",
      "30 0\n",
      "31 0\n",
      "32 0\n",
      "33 0\n",
      "34 0\n",
      "35 0\n",
      "36 0\n",
      "37 0\n",
      "38 0\n",
      "39 0\n",
      "40 0\n",
      "41 0\n",
      "42 0\n",
      "43 0\n",
      "44 0\n",
      "45 0\n",
      "46 0\n",
      "47 0\n",
      "48 0\n",
      "49 0\n",
      "50 0\n",
      "51 0\n",
      "52 0\n",
      "53 0\n",
      "54 0\n",
      "55 0\n",
      "56 0\n",
      "57 0\n",
      "58 0\n",
      "59 0\n",
      "60 0\n",
      "61 0\n",
      "62 0\n",
      "63 0\n",
      "64 0\n",
      "65 0\n",
      "66 0\n",
      "67 0\n",
      "68 0\n",
      "69 0\n",
      "70 0\n",
      "71 0\n",
      "72 0\n",
      "73 0\n",
      "74 0\n",
      "75 0\n",
      "76 0\n",
      "77 0\n",
      "78 0\n",
      "79 0\n",
      "80 0\n",
      "81 0\n",
      "82 0\n",
      "83 0\n",
      "84 0\n",
      "85 0\n",
      "86 0\n",
      "87 0\n",
      "88 0\n",
      "89 0\n",
      "90 0\n",
      "91 0\n",
      "92 0\n",
      "93 0\n",
      "94 0\n",
      "95 0\n",
      "96 5\n",
      "97 0\n",
      "98 264\n",
      "99 0\n"
     ]
    }
   ],
   "source": [
    "for i in range(0,100):\n",
    "    print i, len(data[data.NumberOfTime3059DaysPastDueNotWorse == i])"
   ]
  },
  {
   "cell_type": "code",
   "execution_count": 33,
   "metadata": {},
   "outputs": [
    {
     "data": {
      "text/plain": [
       "'looks 96 and 98 are outliers'"
      ]
     },
     "execution_count": 33,
     "metadata": {},
     "output_type": "execute_result"
    }
   ],
   "source": [
    "\"\"\"looks 96 and 98 are outliers\"\"\"\n"
   ]
  },
  {
   "cell_type": "code",
   "execution_count": 34,
   "metadata": {
    "collapsed": true
   },
   "outputs": [],
   "source": [
    "New = []\n",
    "meanNOTT = data.NumberOfTime3059DaysPastDueNotWorse.mean()\n",
    "for val in data.NumberOfTime3059DaysPastDueNotWorse:\n",
    "    if ((val == 98) | (val == 96)):\n",
    "        New.append(meanNOTT)\n",
    "    else:\n",
    "        New.append(val)\n",
    "\n",
    "data.NumberOfTime3059DaysPastDueNotWorse = New"
   ]
  },
  {
   "cell_type": "code",
   "execution_count": 36,
   "metadata": {},
   "outputs": [
    {
     "data": {
      "text/plain": [
       "'DebtRatio'"
      ]
     },
     "execution_count": 36,
     "metadata": {},
     "output_type": "execute_result"
    }
   ],
   "source": [
    "\"\"\"DebtRatio\"\"\" "
   ]
  },
  {
   "cell_type": "code",
   "execution_count": 37,
   "metadata": {},
   "outputs": [
    {
     "data": {
      "text/plain": [
       "count    150000.000000\n",
       "mean        353.005076\n",
       "std        2037.818523\n",
       "min           0.000000\n",
       "25%           0.175074\n",
       "50%           0.366508\n",
       "75%           0.868254\n",
       "max      329664.000000\n",
       "Name: DebtRatio, dtype: float64"
      ]
     },
     "execution_count": 37,
     "metadata": {},
     "output_type": "execute_result"
    }
   ],
   "source": [
    "data.DebtRatio.describe()"
   ]
  },
  {
   "cell_type": "code",
   "execution_count": 38,
   "metadata": {},
   "outputs": [
    {
     "data": {
      "text/plain": [
       "35137"
      ]
     },
     "execution_count": 38,
     "metadata": {},
     "output_type": "execute_result"
    }
   ],
   "source": [
    "len(data[data.DebtRatio > 1])"
   ]
  },
  {
   "cell_type": "code",
   "execution_count": 39,
   "metadata": {},
   "outputs": [
    {
     "data": {
      "text/plain": [
       "145887"
      ]
     },
     "execution_count": 39,
     "metadata": {},
     "output_type": "execute_result"
    }
   ],
   "source": [
    "len(data[data.DebtRatio >0])"
   ]
  },
  {
   "cell_type": "code",
   "execution_count": 40,
   "metadata": {
    "collapsed": true
   },
   "outputs": [],
   "source": [
    "New = []\n",
    "medianNOTT = data.DebtRatio.median()\n",
    "for val in data.NumberRealEstateLoansOrLines:\n",
    "    if val>1:\n",
    "        New.append(medianNOTT)\n",
    "    else:\n",
    "        New.append(val)\n",
    "\n",
    "data.DebtRatio = New"
   ]
  },
  {
   "cell_type": "code",
   "execution_count": null,
   "metadata": {
    "collapsed": true
   },
   "outputs": [],
   "source": [
    "\"\"\"NumberOfOpenCreditLinesAndLoans\"\"\""
   ]
  },
  {
   "cell_type": "code",
   "execution_count": 41,
   "metadata": {},
   "outputs": [
    {
     "data": {
      "text/plain": [
       "count    150000.000000\n",
       "mean          8.452760\n",
       "std           5.145951\n",
       "min           0.000000\n",
       "25%           5.000000\n",
       "50%           8.000000\n",
       "75%          11.000000\n",
       "max          58.000000\n",
       "Name: NumberOfOpenCreditLinesAndLoans, dtype: float64"
      ]
     },
     "execution_count": 41,
     "metadata": {},
     "output_type": "execute_result"
    }
   ],
   "source": [
    "data.NumberOfOpenCreditLinesAndLoans.describe()"
   ]
  },
  {
   "cell_type": "code",
   "execution_count": 42,
   "metadata": {},
   "outputs": [
    {
     "data": {
      "text/plain": [
       "<matplotlib.axes._subplots.AxesSubplot at 0xbed5ba8>"
      ]
     },
     "execution_count": 42,
     "metadata": {},
     "output_type": "execute_result"
    }
   ],
   "source": [
    "data['NumberOfOpenCreditLinesAndLoans'].hist(bins=100)"
   ]
  },
  {
   "cell_type": "code",
   "execution_count": null,
   "metadata": {
    "collapsed": true
   },
   "outputs": [],
   "source": [
    "\"\"\"NumberOfTimes90DaysLate\"\"\""
   ]
  },
  {
   "cell_type": "code",
   "execution_count": 43,
   "metadata": {},
   "outputs": [
    {
     "data": {
      "text/plain": [
       "count    150000.000000\n",
       "mean          0.265973\n",
       "std           4.169304\n",
       "min           0.000000\n",
       "25%           0.000000\n",
       "50%           0.000000\n",
       "75%           0.000000\n",
       "max          98.000000\n",
       "Name: NumberOfTimes90DaysLate, dtype: float64"
      ]
     },
     "execution_count": 43,
     "metadata": {},
     "output_type": "execute_result"
    }
   ],
   "source": [
    "data.NumberOfTimes90DaysLate.describe()"
   ]
  },
  {
   "cell_type": "code",
   "execution_count": 44,
   "metadata": {},
   "outputs": [
    {
     "name": "stdout",
     "output_type": "stream",
     "text": [
      "0 141662\n",
      "1 5243\n",
      "2 1555\n",
      "3 667\n",
      "4 291\n",
      "5 131\n",
      "6 80\n",
      "7 38\n",
      "8 21\n",
      "9 19\n",
      "10 8\n",
      "11 5\n",
      "12 2\n",
      "13 4\n",
      "14 2\n",
      "15 2\n",
      "16 0\n",
      "17 1\n",
      "18 0\n",
      "19 0\n",
      "20 0\n",
      "21 0\n",
      "22 0\n",
      "23 0\n",
      "24 0\n",
      "25 0\n",
      "26 0\n",
      "27 0\n",
      "28 0\n",
      "29 0\n",
      "30 0\n",
      "31 0\n",
      "32 0\n",
      "33 0\n",
      "34 0\n",
      "35 0\n",
      "36 0\n",
      "37 0\n",
      "38 0\n",
      "39 0\n",
      "40 0\n",
      "41 0\n",
      "42 0\n",
      "43 0\n",
      "44 0\n",
      "45 0\n",
      "46 0\n",
      "47 0\n",
      "48 0\n",
      "49 0\n",
      "50 0\n",
      "51 0\n",
      "52 0\n",
      "53 0\n",
      "54 0\n",
      "55 0\n",
      "56 0\n",
      "57 0\n",
      "58 0\n",
      "59 0\n",
      "60 0\n",
      "61 0\n",
      "62 0\n",
      "63 0\n",
      "64 0\n",
      "65 0\n",
      "66 0\n",
      "67 0\n",
      "68 0\n",
      "69 0\n",
      "70 0\n",
      "71 0\n",
      "72 0\n",
      "73 0\n",
      "74 0\n",
      "75 0\n",
      "76 0\n",
      "77 0\n",
      "78 0\n",
      "79 0\n",
      "80 0\n",
      "81 0\n",
      "82 0\n",
      "83 0\n",
      "84 0\n",
      "85 0\n",
      "86 0\n",
      "87 0\n",
      "88 0\n",
      "89 0\n",
      "90 0\n",
      "91 0\n",
      "92 0\n",
      "93 0\n",
      "94 0\n",
      "95 0\n",
      "96 5\n",
      "97 0\n",
      "98 264\n",
      "99 0\n"
     ]
    }
   ],
   "source": [
    "for i in range(0,100):\n",
    "    print i, len(data[data.NumberOfTimes90DaysLate == i])"
   ]
  },
  {
   "cell_type": "code",
   "execution_count": 45,
   "metadata": {
    "collapsed": true
   },
   "outputs": [],
   "source": [
    "New = []\n",
    "meanNOTT = data.NumberOfTimes90DaysLate.mean()\n",
    "for val in data.NumberOfTimes90DaysLate:\n",
    "    if ((val == 98) | (val == 96)):\n",
    "        New.append(meanNOTT)\n",
    "    else:\n",
    "        New.append(val)\n",
    "\n",
    "data.NumberOfTimes90DaysLate = New"
   ]
  },
  {
   "cell_type": "code",
   "execution_count": 46,
   "metadata": {},
   "outputs": [
    {
     "data": {
      "text/plain": [
       "'NumberRealEstateLoansOrLines'"
      ]
     },
     "execution_count": 46,
     "metadata": {},
     "output_type": "execute_result"
    }
   ],
   "source": [
    "\"\"\"NumberRealEstateLoansOrLines\"\"\""
   ]
  },
  {
   "cell_type": "code",
   "execution_count": 47,
   "metadata": {},
   "outputs": [
    {
     "data": {
      "text/plain": [
       "count    150000.000000\n",
       "mean          1.018240\n",
       "std           1.129771\n",
       "min           0.000000\n",
       "25%           0.000000\n",
       "50%           1.000000\n",
       "75%           2.000000\n",
       "max          54.000000\n",
       "Name: NumberRealEstateLoansOrLines, dtype: float64"
      ]
     },
     "execution_count": 47,
     "metadata": {},
     "output_type": "execute_result"
    }
   ],
   "source": [
    "data.NumberRealEstateLoansOrLines.describe()"
   ]
  },
  {
   "cell_type": "code",
   "execution_count": 48,
   "metadata": {},
   "outputs": [
    {
     "name": "stdout",
     "output_type": "stream",
     "text": [
      "0 56188\n",
      "1 52338\n",
      "2 31522\n",
      "3 6300\n",
      "4 2170\n",
      "5 689\n",
      "6 320\n",
      "7 171\n",
      "8 93\n",
      "9 78\n",
      "10 37\n",
      "11 23\n",
      "12 18\n",
      "13 15\n",
      "14 7\n",
      "15 7\n",
      "16 4\n",
      "17 4\n",
      "18 2\n",
      "19 2\n",
      "20 2\n",
      "21 1\n",
      "22 0\n",
      "23 2\n",
      "24 0\n",
      "25 3\n",
      "26 1\n",
      "27 0\n",
      "28 0\n",
      "29 1\n",
      "30 0\n",
      "31 0\n",
      "32 1\n",
      "33 0\n",
      "34 0\n",
      "35 0\n",
      "36 0\n",
      "37 0\n",
      "38 0\n",
      "39 0\n",
      "40 0\n",
      "41 0\n",
      "42 0\n",
      "43 0\n",
      "44 0\n",
      "45 0\n",
      "46 0\n",
      "47 0\n",
      "48 0\n",
      "49 0\n",
      "50 0\n",
      "51 0\n",
      "52 0\n",
      "53 0\n",
      "54 1\n"
     ]
    }
   ],
   "source": [
    "for i in range(0,55):\n",
    "    print i, len(data[data.NumberRealEstateLoansOrLines == i])"
   ]
  },
  {
   "cell_type": "code",
   "execution_count": 49,
   "metadata": {
    "collapsed": true
   },
   "outputs": [],
   "source": [
    "New = []\n",
    "meanNOTT = data.NumberRealEstateLoansOrLines.mean()\n",
    "for val in data.NumberRealEstateLoansOrLines:\n",
    "    if val>50:\n",
    "        New.append(meanNOTT)\n",
    "    else:\n",
    "        New.append(val)\n",
    "\n",
    "data.NumberRealEstateLoansOrLines = New"
   ]
  },
  {
   "cell_type": "code",
   "execution_count": 50,
   "metadata": {},
   "outputs": [
    {
     "data": {
      "text/plain": [
       "count    150000.000000\n",
       "mean          1.017887\n",
       "std           1.121458\n",
       "min           0.000000\n",
       "25%           0.000000\n",
       "50%           1.000000\n",
       "75%           2.000000\n",
       "max          32.000000\n",
       "Name: NumberRealEstateLoansOrLines, dtype: float64"
      ]
     },
     "execution_count": 50,
     "metadata": {},
     "output_type": "execute_result"
    }
   ],
   "source": [
    "data.NumberRealEstateLoansOrLines.describe()"
   ]
  },
  {
   "cell_type": "code",
   "execution_count": 51,
   "metadata": {},
   "outputs": [
    {
     "data": {
      "text/plain": [
       "'NumberOfTime6089DaysPastDueNotWorse'"
      ]
     },
     "execution_count": 51,
     "metadata": {},
     "output_type": "execute_result"
    }
   ],
   "source": [
    "\"\"\"NumberOfTime6089DaysPastDueNotWorse\"\"\""
   ]
  },
  {
   "cell_type": "code",
   "execution_count": 52,
   "metadata": {},
   "outputs": [
    {
     "data": {
      "text/plain": [
       "count    150000.000000\n",
       "mean          0.240387\n",
       "std           4.155179\n",
       "min           0.000000\n",
       "25%           0.000000\n",
       "50%           0.000000\n",
       "75%           0.000000\n",
       "max          98.000000\n",
       "Name: NumberOfTime6089DaysPastDueNotWorse, dtype: float64"
      ]
     },
     "execution_count": 52,
     "metadata": {},
     "output_type": "execute_result"
    }
   ],
   "source": [
    "data.NumberOfTime6089DaysPastDueNotWorse.describe()"
   ]
  },
  {
   "cell_type": "code",
   "execution_count": 53,
   "metadata": {
    "collapsed": true
   },
   "outputs": [],
   "source": [
    "New = []\n",
    "meanNOTT = data.NumberOfTime6089DaysPastDueNotWorse.mean()\n",
    "for val in data.NumberOfTime6089DaysPastDueNotWorse:\n",
    "    if ((val == 98) | (val == 96)):\n",
    "        New.append(meanNOTT)\n",
    "    else:\n",
    "        New.append(val)\n",
    "\n",
    "data.NumberOfTime6089DaysPastDueNotWorse = New"
   ]
  },
  {
   "cell_type": "code",
   "execution_count": 54,
   "metadata": {},
   "outputs": [
    {
     "data": {
      "text/plain": [
       "count    150000.000000\n",
       "mean          0.065138\n",
       "std           0.329861\n",
       "min           0.000000\n",
       "25%           0.000000\n",
       "50%           0.000000\n",
       "75%           0.000000\n",
       "max          11.000000\n",
       "Name: NumberOfTime6089DaysPastDueNotWorse, dtype: float64"
      ]
     },
     "execution_count": 54,
     "metadata": {},
     "output_type": "execute_result"
    }
   ],
   "source": [
    "data.NumberOfTime6089DaysPastDueNotWorse.describe()"
   ]
  },
  {
   "cell_type": "code",
   "execution_count": 55,
   "metadata": {},
   "outputs": [
    {
     "data": {
      "text/plain": [
       "'NumberOfDependents'"
      ]
     },
     "execution_count": 55,
     "metadata": {},
     "output_type": "execute_result"
    }
   ],
   "source": [
    "\"\"\"NumberOfDependents\"\"\""
   ]
  },
  {
   "cell_type": "code",
   "execution_count": 56,
   "metadata": {},
   "outputs": [
    {
     "data": {
      "text/plain": [
       "count    146076.000000\n",
       "mean          0.757222\n",
       "std           1.115086\n",
       "min           0.000000\n",
       "25%           0.000000\n",
       "50%           0.000000\n",
       "75%           1.000000\n",
       "max          20.000000\n",
       "Name: NumberOfDependents, dtype: float64"
      ]
     },
     "execution_count": 56,
     "metadata": {},
     "output_type": "execute_result"
    }
   ],
   "source": [
    "data.NumberOfDependents.describe()"
   ]
  },
  {
   "cell_type": "code",
   "execution_count": 57,
   "metadata": {},
   "outputs": [
    {
     "name": "stdout",
     "output_type": "stream",
     "text": [
      "0 86902\n",
      "1 26316\n",
      "2 19522\n",
      "3 9483\n",
      "4 2862\n",
      "5 746\n",
      "6 158\n",
      "7 51\n",
      "8 24\n",
      "9 5\n",
      "10 5\n",
      "11 0\n",
      "12 0\n",
      "13 1\n",
      "14 0\n",
      "15 0\n",
      "16 0\n",
      "17 0\n",
      "18 0\n",
      "19 0\n",
      "20 1\n",
      "21 0\n",
      "22 0\n",
      "23 0\n",
      "24 0\n"
     ]
    }
   ],
   "source": [
    "for i in range(0,25):\n",
    "    print i, len(data[data.NumberOfDependents == i])"
   ]
  },
  {
   "cell_type": "code",
   "execution_count": 58,
   "metadata": {},
   "outputs": [
    {
     "data": {
      "text/plain": [
       "'having more than 10 dependents looks weird'"
      ]
     },
     "execution_count": 58,
     "metadata": {},
     "output_type": "execute_result"
    }
   ],
   "source": [
    "\"\"\"having more than 10 dependents looks weird\"\"\""
   ]
  },
  {
   "cell_type": "code",
   "execution_count": 59,
   "metadata": {},
   "outputs": [],
   "source": [
    "New = []\n",
    "meanNOTT = data.NumberOfDependents.mean()\n",
    "for val in data.NumberOfDependents:\n",
    "    if val>10:\n",
    "        New.append(meanNOTT)\n",
    "    else:\n",
    "        New.append(val)\n",
    "\n",
    "data.NumberOfDependents = New"
   ]
  },
  {
   "cell_type": "code",
   "execution_count": 60,
   "metadata": {},
   "outputs": [
    {
     "data": {
      "text/plain": [
       "3924"
      ]
     },
     "execution_count": 60,
     "metadata": {},
     "output_type": "execute_result"
    }
   ],
   "source": [
    "data.NumberOfDependents.isnull().sum()"
   ]
  },
  {
   "cell_type": "code",
   "execution_count": 61,
   "metadata": {
    "collapsed": true
   },
   "outputs": [],
   "source": [
    "data['NumberOfDependents'] = data['NumberOfDependents'].fillna(0)"
   ]
  },
  {
   "cell_type": "code",
   "execution_count": 62,
   "metadata": {},
   "outputs": [
    {
     "data": {
      "text/plain": [
       "count    150000.000000\n",
       "mean          0.737203\n",
       "std           1.105450\n",
       "min           0.000000\n",
       "25%           0.000000\n",
       "50%           0.000000\n",
       "75%           1.000000\n",
       "max          10.000000\n",
       "Name: NumberOfDependents, dtype: float64"
      ]
     },
     "execution_count": 62,
     "metadata": {},
     "output_type": "execute_result"
    }
   ],
   "source": [
    "data.NumberOfDependents.describe()"
   ]
  },
  {
   "cell_type": "code",
   "execution_count": 63,
   "metadata": {},
   "outputs": [
    {
     "data": {
      "text/plain": [
       "'MonthlyIncome'"
      ]
     },
     "execution_count": 63,
     "metadata": {},
     "output_type": "execute_result"
    }
   ],
   "source": [
    "\"\"\"MonthlyIncome\"\"\""
   ]
  },
  {
   "cell_type": "code",
   "execution_count": 64,
   "metadata": {},
   "outputs": [
    {
     "data": {
      "text/plain": [
       "count    1.202690e+05\n",
       "mean     6.670221e+03\n",
       "std      1.438467e+04\n",
       "min      0.000000e+00\n",
       "25%      3.400000e+03\n",
       "50%      5.400000e+03\n",
       "75%      8.249000e+03\n",
       "max      3.008750e+06\n",
       "Name: MonthlyIncome, dtype: float64"
      ]
     },
     "execution_count": 64,
     "metadata": {},
     "output_type": "execute_result"
    }
   ],
   "source": [
    "data.MonthlyIncome.describe()"
   ]
  },
  {
   "cell_type": "code",
   "execution_count": 65,
   "metadata": {},
   "outputs": [],
   "source": [
    "train = data[data.MonthlyIncome.isnull() == False]\n",
    "test = data[data.MonthlyIncome.isnull() == True]"
   ]
  },
  {
   "cell_type": "code",
   "execution_count": 66,
   "metadata": {},
   "outputs": [
    {
     "data": {
      "text/plain": [
       "((120269, 12), (29731, 12))"
      ]
     },
     "execution_count": 66,
     "metadata": {},
     "output_type": "execute_result"
    }
   ],
   "source": [
    "train.shape, test.shape"
   ]
  },
  {
   "cell_type": "code",
   "execution_count": 67,
   "metadata": {},
   "outputs": [],
   "source": [
    "X_train = train.drop(['MonthlyIncome', 'SeriousDlqin2yrs'], axis=1)\n",
    "y_train = train.MonthlyIncome\n",
    "X_test = test.drop(['MonthlyIncome', 'SeriousDlqin2yrs'], axis=1)"
   ]
  },
  {
   "cell_type": "code",
   "execution_count": 68,
   "metadata": {},
   "outputs": [],
   "source": [
    "\n",
    "from sklearn.linear_model import LinearRegression\n",
    "from sklearn.metrics import r2_score\n",
    "from sklearn.metrics import mean_squared_error"
   ]
  },
  {
   "cell_type": "code",
   "execution_count": 69,
   "metadata": {},
   "outputs": [],
   "source": [
    "lmMod = LinearRegression(fit_intercept=True, normalize=True).fit(X_train, y_train)"
   ]
  },
  {
   "cell_type": "code",
   "execution_count": 70,
   "metadata": {},
   "outputs": [
    {
     "data": {
      "text/plain": [
       "array([-3948.4507996 ,    32.0281422 ,  -103.40827549,   -72.3226233 ,\n",
       "         108.72297805,  -145.64343546,  1261.74822934,  -153.67162041,\n",
       "         720.53837969,     0.        ])"
      ]
     },
     "execution_count": 70,
     "metadata": {},
     "output_type": "execute_result"
    }
   ],
   "source": [
    "lmMod.coef_"
   ]
  },
  {
   "cell_type": "code",
   "execution_count": 71,
   "metadata": {},
   "outputs": [],
   "source": [
    "pred = lmMod.predict(X_test)"
   ]
  },
  {
   "cell_type": "code",
   "execution_count": 72,
   "metadata": {},
   "outputs": [],
   "source": [
    "predNoZero = []\n",
    "for val in pred:\n",
    "    if val >= 0:\n",
    "        predNoZero.append(val)\n",
    "    else:\n",
    "        predNoZero.append(0.)"
   ]
  },
  {
   "cell_type": "code",
   "execution_count": 73,
   "metadata": {},
   "outputs": [],
   "source": [
    "testFull = data[data.MonthlyIncome.isnull() == True]"
   ]
  },
  {
   "cell_type": "code",
   "execution_count": 74,
   "metadata": {},
   "outputs": [
    {
     "name": "stderr",
     "output_type": "stream",
     "text": [
      "C:\\ProgramData\\Anaconda2\\lib\\site-packages\\ipykernel\\__main__.py:1: SettingWithCopyWarning: \n",
      "A value is trying to be set on a copy of a slice from a DataFrame.\n",
      "Try using .loc[row_indexer,col_indexer] = value instead\n",
      "\n",
      "See the caveats in the documentation: http://pandas.pydata.org/pandas-docs/stable/indexing.html#indexing-view-versus-copy\n",
      "  if __name__ == '__main__':\n"
     ]
    }
   ],
   "source": [
    "testFull['MonthlyIncome'] = predNoZero"
   ]
  },
  {
   "cell_type": "code",
   "execution_count": 76,
   "metadata": {
    "collapsed": true
   },
   "outputs": [],
   "source": [
    "monNew = []\n",
    "for index in data.index:\n",
    "    if data.MonthlyIncome[index].is_integer() == True:\n",
    "        monNew.append(data.MonthlyIncome[index])\n",
    "    else:\n",
    "        monNew.append(testFull.MonthlyIncome[index])"
   ]
  },
  {
   "cell_type": "code",
   "execution_count": 77,
   "metadata": {},
   "outputs": [
    {
     "data": {
      "text/plain": [
       "0"
      ]
     },
     "execution_count": 77,
     "metadata": {},
     "output_type": "execute_result"
    }
   ],
   "source": [
    "testFull.MonthlyIncome.isnull().sum()"
   ]
  },
  {
   "cell_type": "code",
   "execution_count": 78,
   "metadata": {
    "collapsed": true
   },
   "outputs": [],
   "source": [
    "\n",
    "data.MonthlyIncome = monNew"
   ]
  },
  {
   "cell_type": "code",
   "execution_count": 79,
   "metadata": {},
   "outputs": [
    {
     "data": {
      "text/plain": [
       "'FEATURE ENGINEERING'"
      ]
     },
     "execution_count": 79,
     "metadata": {},
     "output_type": "execute_result"
    }
   ],
   "source": [
    "\"\"\"FEATURE ENGINEERING\"\"\""
   ]
  },
  {
   "cell_type": "code",
   "execution_count": 80,
   "metadata": {},
   "outputs": [
    {
     "data": {
      "text/plain": [
       "count    1.500000e+05\n",
       "mean     6.546643e+03\n",
       "std      1.290915e+04\n",
       "min      0.000000e+00\n",
       "25%      3.734000e+03\n",
       "50%      5.524000e+03\n",
       "75%      7.869294e+03\n",
       "max      3.008750e+06\n",
       "Name: MonthlyIncome, dtype: float64"
      ]
     },
     "execution_count": 80,
     "metadata": {},
     "output_type": "execute_result"
    }
   ],
   "source": [
    "data.MonthlyIncome.describe()"
   ]
  },
  {
   "cell_type": "code",
   "execution_count": 81,
   "metadata": {},
   "outputs": [
    {
     "data": {
      "text/plain": [
       "'No Income Variable Indicator'"
      ]
     },
     "execution_count": 81,
     "metadata": {},
     "output_type": "execute_result"
    }
   ],
   "source": [
    "\"\"\"No Income Variable Indicator\"\"\""
   ]
  },
  {
   "cell_type": "code",
   "execution_count": 82,
   "metadata": {
    "collapsed": true
   },
   "outputs": [],
   "source": [
    "for val in data.MonthlyIncome:\n",
    "    if val <=0:\n",
    "        data['NoIncome_MI_indicator']=1\n",
    "    else:\n",
    "        data['NoIncome_MI_indicator']=0"
   ]
  },
  {
   "cell_type": "code",
   "execution_count": 83,
   "metadata": {},
   "outputs": [
    {
     "data": {
      "text/plain": [
       "'Zero Debt Ratio Indicator'"
      ]
     },
     "execution_count": 83,
     "metadata": {},
     "output_type": "execute_result"
    }
   ],
   "source": [
    "\"\"\"Zero Debt Ratio Indicator\"\"\""
   ]
  },
  {
   "cell_type": "code",
   "execution_count": 84,
   "metadata": {
    "collapsed": true
   },
   "outputs": [],
   "source": [
    "for val in data.DebtRatio:\n",
    "    if val <=0:\n",
    "        data['No_DebtRatio_indicator']=1\n",
    "    else:\n",
    "        data['No_DebtRatio_indicator']=0"
   ]
  },
  {
   "cell_type": "code",
   "execution_count": 85,
   "metadata": {},
   "outputs": [
    {
     "data": {
      "text/plain": [
       "'Monthly Income is Zero, But Debt Ratio is non-zero = 1'"
      ]
     },
     "execution_count": 85,
     "metadata": {},
     "output_type": "execute_result"
    }
   ],
   "source": [
    "\"\"\"Monthly Income is Zero, But Debt Ratio is non-zero = 1\"\"\" "
   ]
  },
  {
   "cell_type": "code",
   "execution_count": 86,
   "metadata": {
    "collapsed": true
   },
   "outputs": [],
   "source": [
    "data['MIz_DRnz']=map(lambda x,y: 1 if (x==0 and y>0) else 0, data['MonthlyIncome'], data['DebtRatio'])"
   ]
  },
  {
   "cell_type": "code",
   "execution_count": 87,
   "metadata": {},
   "outputs": [
    {
     "data": {
      "text/plain": [
       "'Monthly Income is Zero, But Debt Ratio is zero = 1'"
      ]
     },
     "execution_count": 87,
     "metadata": {},
     "output_type": "execute_result"
    }
   ],
   "source": [
    "\"\"\"Monthly Income is Zero, But Debt Ratio is zero = 1\"\"\" "
   ]
  },
  {
   "cell_type": "code",
   "execution_count": 88,
   "metadata": {
    "collapsed": true
   },
   "outputs": [],
   "source": [
    "data['MIz_DRz']=map(lambda x,y: 1 if (x==0 and y==0) else 0, data['MonthlyIncome'], data['DebtRatio'])"
   ]
  },
  {
   "cell_type": "code",
   "execution_count": 89,
   "metadata": {},
   "outputs": [
    {
     "data": {
      "text/plain": [
       "'Monthly Income is Non-Zero, But Debt Ratio is zero = 1'"
      ]
     },
     "execution_count": 89,
     "metadata": {},
     "output_type": "execute_result"
    }
   ],
   "source": [
    "\"\"\"Monthly Income is Non-Zero, But Debt Ratio is zero = 1\"\"\" "
   ]
  },
  {
   "cell_type": "code",
   "execution_count": 90,
   "metadata": {
    "collapsed": true
   },
   "outputs": [],
   "source": [
    "data['MInz_DRz']=map(lambda x,y: 1 if (x>0 and y==0) else 0, data['MonthlyIncome'], data['DebtRatio'])"
   ]
  },
  {
   "cell_type": "code",
   "execution_count": 91,
   "metadata": {},
   "outputs": [
    {
     "data": {
      "text/plain": [
       "'Zero Revolving Utilization when Revolving Utilization Of Unsecured Lines == 0'"
      ]
     },
     "execution_count": 91,
     "metadata": {},
     "output_type": "execute_result"
    }
   ],
   "source": [
    "\"\"\"Zero Revolving Utilization when Revolving Utilization Of Unsecured Lines == 0\"\"\""
   ]
  },
  {
   "cell_type": "code",
   "execution_count": 92,
   "metadata": {
    "collapsed": true
   },
   "outputs": [],
   "source": [
    "for val in data.RevolvingUtilizationOfUnsecuredLines:\n",
    "    if val <=0:\n",
    "        data['ZeroRevolvingUtilization']=1\n",
    "    else:\n",
    "        data['ZeroRevolvingUtilization']=0"
   ]
  },
  {
   "cell_type": "code",
   "execution_count": 93,
   "metadata": {},
   "outputs": [
    {
     "data": {
      "text/plain": [
       "'debtRatio * Monthly Income = DR_MI'"
      ]
     },
     "execution_count": 93,
     "metadata": {},
     "output_type": "execute_result"
    }
   ],
   "source": [
    "\"\"\"debtRatio * Monthly Income = DR_MI\"\"\""
   ]
  },
  {
   "cell_type": "code",
   "execution_count": 94,
   "metadata": {
    "collapsed": true
   },
   "outputs": [],
   "source": [
    "#All 0 MI to 1 so that DR dont become 0 \n",
    "for val in data.MonthlyIncome:\n",
    "    if val ==0:\n",
    "        MIZ=1\n",
    "    else:\n",
    "        MIZ=val"
   ]
  },
  {
   "cell_type": "code",
   "execution_count": 95,
   "metadata": {
    "collapsed": true
   },
   "outputs": [],
   "source": [
    "data['DR_MI']=MIZ*data['DebtRatio']"
   ]
  },
  {
   "cell_type": "code",
   "execution_count": 96,
   "metadata": {},
   "outputs": [
    {
     "data": {
      "text/plain": [
       "count    150000.000000\n",
       "mean       3673.196399\n",
       "std        3493.021586\n",
       "min           0.000000\n",
       "25%           0.000000\n",
       "50%        2989.970967\n",
       "75%        8158.000000\n",
       "max        8158.000000\n",
       "Name: DR_MI, dtype: float64"
      ]
     },
     "execution_count": 96,
     "metadata": {},
     "output_type": "execute_result"
    }
   ],
   "source": [
    "data.DR_MI.describe()"
   ]
  },
  {
   "cell_type": "code",
   "execution_count": 97,
   "metadata": {},
   "outputs": [],
   "source": [
    "from math import *"
   ]
  },
  {
   "cell_type": "code",
   "execution_count": 98,
   "metadata": {},
   "outputs": [
    {
     "name": "stderr",
     "output_type": "stream",
     "text": [
      "C:\\ProgramData\\Anaconda2\\lib\\site-packages\\ipykernel\\__main__.py:1: RuntimeWarning: divide by zero encountered in log\n",
      "  if __name__ == '__main__':\n"
     ]
    }
   ],
   "source": [
    "data['Log_DR_MI']=np.log(data.DR_MI)"
   ]
  },
  {
   "cell_type": "code",
   "execution_count": 99,
   "metadata": {},
   "outputs": [
    {
     "data": {
      "text/plain": [
       "'Log of DebtRatio*MonthlyIncome'"
      ]
     },
     "execution_count": 99,
     "metadata": {},
     "output_type": "execute_result"
    }
   ],
   "source": [
    "\"\"\"Log of DebtRatio*MonthlyIncome\"\"\""
   ]
  },
  {
   "cell_type": "code",
   "execution_count": 101,
   "metadata": {
    "collapsed": true
   },
   "outputs": [],
   "source": [
    "data_new2=data"
   ]
  },
  {
   "cell_type": "code",
   "execution_count": 102,
   "metadata": {},
   "outputs": [],
   "source": [
    "data['Log_DR_MI']=data.Log_DR_MI.replace([np.inf, -np.inf], 0)"
   ]
  },
  {
   "cell_type": "code",
   "execution_count": 103,
   "metadata": {},
   "outputs": [
    {
     "data": {
      "text/plain": [
       "'  RevolvingLines = NumberOfOpenCreditLinesAndLoans - NumberRealEstateLoansOrLines\\n'"
      ]
     },
     "execution_count": 103,
     "metadata": {},
     "output_type": "execute_result"
    }
   ],
   "source": [
    "\"\"\"  RevolvingLines = NumberOfOpenCreditLinesAndLoans - NumberRealEstateLoansOrLines\n",
    "\"\"\""
   ]
  },
  {
   "cell_type": "code",
   "execution_count": 104,
   "metadata": {
    "collapsed": true
   },
   "outputs": [],
   "source": [
    "data['RevolvingLines']=data['NumberOfOpenCreditLinesAndLoans']-data['NumberRealEstateLoansOrLines']"
   ]
  },
  {
   "cell_type": "code",
   "execution_count": 105,
   "metadata": {},
   "outputs": [
    {
     "data": {
      "text/plain": [
       "'HasRealEstateLoans = NumberRealEstateLoansOrLines > 0)'"
      ]
     },
     "execution_count": 105,
     "metadata": {},
     "output_type": "execute_result"
    }
   ],
   "source": [
    "\"\"\"HasRealEstateLoans = NumberRealEstateLoansOrLines > 0)\"\"\""
   ]
  },
  {
   "cell_type": "code",
   "execution_count": 106,
   "metadata": {
    "collapsed": true
   },
   "outputs": [],
   "source": [
    "HRSL=[]\n",
    "for val in data.NumberRealEstateLoansOrLines:\n",
    "    if val >0:\n",
    "        HRSL.append(1)\n",
    "    else:\n",
    "        HRSL.append(0)\n",
    "        \n",
    "data['HasRealEstateLoans']=HRSL"
   ]
  },
  {
   "cell_type": "code",
   "execution_count": 107,
   "metadata": {},
   "outputs": [
    {
     "data": {
      "text/plain": [
       "'HasMultipleRealEstateLoans = NumberRealEstateLoansOrLines > 2'"
      ]
     },
     "execution_count": 107,
     "metadata": {},
     "output_type": "execute_result"
    }
   ],
   "source": [
    "\"\"\"HasMultipleRealEstateLoans = NumberRealEstateLoansOrLines > 2\"\"\""
   ]
  },
  {
   "cell_type": "code",
   "execution_count": 108,
   "metadata": {
    "collapsed": true
   },
   "outputs": [],
   "source": [
    "MHRSL=[]\n",
    "for val in data.NumberRealEstateLoansOrLines:\n",
    "    if val >2:\n",
    "        MHRSL.append(1)\n",
    "    else:\n",
    "        MHRSL.append(0)\n",
    "        \n",
    "data['HasMultipleRealEstateLoans ']=MHRSL"
   ]
  },
  {
   "cell_type": "code",
   "execution_count": 109,
   "metadata": {},
   "outputs": [
    {
     "data": {
      "text/plain": [
       "'DisposableIncome = (1 - DebtRatio) * MonthlyIncome'"
      ]
     },
     "execution_count": 109,
     "metadata": {},
     "output_type": "execute_result"
    }
   ],
   "source": [
    "\"\"\"DisposableIncome = (1 - DebtRatio) * MonthlyIncome\"\"\""
   ]
  },
  {
   "cell_type": "code",
   "execution_count": 110,
   "metadata": {
    "collapsed": true
   },
   "outputs": [],
   "source": [
    "data['DisposableIncome']=(1-data['DebtRatio'])*data['MonthlyIncome']"
   ]
  },
  {
   "cell_type": "code",
   "execution_count": 111,
   "metadata": {},
   "outputs": [
    {
     "data": {
      "text/plain": [
       "'RevolvingToRealEstate  = RevolvingLines / (1 + NumberRealEstateLoansOrLines)'"
      ]
     },
     "execution_count": 111,
     "metadata": {},
     "output_type": "execute_result"
    }
   ],
   "source": [
    "\"\"\"RevolvingToRealEstate  = RevolvingLines / (1 + NumberRealEstateLoansOrLines)\"\"\""
   ]
  },
  {
   "cell_type": "code",
   "execution_count": 112,
   "metadata": {
    "collapsed": true
   },
   "outputs": [],
   "source": [
    "data['RevolvingToRealEstate']=data['RevolvingLines'] / (1+data['NumberRealEstateLoansOrLines'])"
   ]
  },
  {
   "cell_type": "code",
   "execution_count": 113,
   "metadata": {},
   "outputs": [
    {
     "data": {
      "text/plain": [
       "'FullUtilization = RevolvingUtilizationOfUnsecuredLines == 1)\\n  ExcessUtilization = RevolvingUtilizationOfUnsecuredLines > 1)'"
      ]
     },
     "execution_count": 113,
     "metadata": {},
     "output_type": "execute_result"
    }
   ],
   "source": [
    "\"\"\"FullUtilization = RevolvingUtilizationOfUnsecuredLines == 1)\n",
    "  ExcessUtilization = RevolvingUtilizationOfUnsecuredLines > 1)\"\"\""
   ]
  },
  {
   "cell_type": "code",
   "execution_count": 114,
   "metadata": {
    "collapsed": true
   },
   "outputs": [],
   "source": [
    "FU=[]\n",
    "for val in data.RevolvingUtilizationOfUnsecuredLines:\n",
    "    if val ==1:\n",
    "        FU.append(1)\n",
    "    else:\n",
    "        FU.append(0)\n",
    "        \n",
    "data['FullUtilization']=FU"
   ]
  },
  {
   "cell_type": "code",
   "execution_count": 115,
   "metadata": {
    "collapsed": true
   },
   "outputs": [],
   "source": [
    "EU=[]\n",
    "for val in data.RevolvingUtilizationOfUnsecuredLines:\n",
    "    if val >1:\n",
    "        EU.append(1)\n",
    "    else:\n",
    "        EU.append(0)\n",
    "        \n",
    "data['ExcessUtilization']=EU"
   ]
  },
  {
   "cell_type": "code",
   "execution_count": 116,
   "metadata": {},
   "outputs": [
    {
     "data": {
      "text/plain": [
       "'\\n  RevolvingLinesPerPerson = RevolvingLines / (1 + NumberOfDependents)\\n  RealEstateLoansPerPerson = NumberRealEstateLoansOrLines / (1 + NumberOfDependents)\\n  IncomePerDependent = 1+NumberOfDependents/MonthlyIncome+1\\n  '"
      ]
     },
     "execution_count": 116,
     "metadata": {},
     "output_type": "execute_result"
    }
   ],
   "source": [
    "\"\"\"\n",
    "  RevolvingLinesPerPerson = RevolvingLines / (1 + NumberOfDependents)\n",
    "  RealEstateLoansPerPerson = NumberRealEstateLoansOrLines / (1 + NumberOfDependents)\n",
    "  IncomePerDependent = 1+NumberOfDependents/MonthlyIncome+1\n",
    "  \"\"\""
   ]
  },
  {
   "cell_type": "code",
   "execution_count": 117,
   "metadata": {
    "collapsed": true
   },
   "outputs": [],
   "source": [
    "data['RevolvingLinesPerPerson'] = data['RevolvingLines'] / (1+data['NumberOfDependents'])\n",
    "data['RealEstateLoanPerPerson'] = data['NumberRealEstateLoansOrLines'] / (1+data['NumberOfDependents'])"
   ]
  },
  {
   "cell_type": "code",
   "execution_count": 118,
   "metadata": {
    "collapsed": true
   },
   "outputs": [],
   "source": [
    "data['IncomePerDependent']=(1+data['NumberOfDependents']) / (1+data['MonthlyIncome'])"
   ]
  },
  {
   "cell_type": "code",
   "execution_count": 119,
   "metadata": {},
   "outputs": [
    {
     "data": {
      "text/plain": [
       "'NumberOfTimePastDue'"
      ]
     },
     "execution_count": 119,
     "metadata": {},
     "output_type": "execute_result"
    }
   ],
   "source": [
    "\"\"\"NumberOfTimePastDue\"\"\""
   ]
  },
  {
   "cell_type": "code",
   "execution_count": 120,
   "metadata": {
    "collapsed": true
   },
   "outputs": [],
   "source": [
    "data['NumberOfTimePastDue']=data['NumberOfTime3059DaysPastDueNotWorse']+data['NumberOfTime6089DaysPastDueNotWorse']+data['NumberOfTimes90DaysLate']"
   ]
  },
  {
   "cell_type": "code",
   "execution_count": 121,
   "metadata": {},
   "outputs": [
    {
     "data": {
      "text/plain": [
       "'DelinquenciesPerLine  = NumberOfTimesPastDue / NumberOfOpenCreditLinesAndLoans'"
      ]
     },
     "execution_count": 121,
     "metadata": {},
     "output_type": "execute_result"
    }
   ],
   "source": [
    "\"\"\"DelinquenciesPerLine  = NumberOfTimesPastDue / NumberOfOpenCreditLinesAndLoans\"\"\""
   ]
  },
  {
   "cell_type": "code",
   "execution_count": 122,
   "metadata": {
    "collapsed": true
   },
   "outputs": [],
   "source": [
    "data['DelinquenciesPerLine']=data['NumberOfTimePastDue'] /data['NumberOfOpenCreditLinesAndLoans']"
   ]
  },
  {
   "cell_type": "code",
   "execution_count": 123,
   "metadata": {
    "collapsed": true
   },
   "outputs": [],
   "source": [
    "data_new3=data"
   ]
  },
  {
   "cell_type": "code",
   "execution_count": 124,
   "metadata": {},
   "outputs": [
    {
     "name": "stderr",
     "output_type": "stream",
     "text": [
      "C:\\ProgramData\\Anaconda2\\lib\\site-packages\\ipykernel\\__main__.py:8: SettingWithCopyWarning: \n",
      "A value is trying to be set on a copy of a slice from a DataFrame\n",
      "\n",
      "See the caveats in the documentation: http://pandas.pydata.org/pandas-docs/stable/indexing.html#indexing-view-versus-copy\n",
      "C:\\ProgramData\\Anaconda2\\lib\\site-packages\\ipykernel\\__main__.py:9: SettingWithCopyWarning: \n",
      "A value is trying to be set on a copy of a slice from a DataFrame\n",
      "\n",
      "See the caveats in the documentation: http://pandas.pydata.org/pandas-docs/stable/indexing.html#indexing-view-versus-copy\n"
     ]
    }
   ],
   "source": [
    "\n",
    "\n",
    "\n",
    "\n",
    "\n",
    "\n",
    "data['DelinquenciesPerLine']=data.DelinquenciesPerLine.replace([np.inf, -np.inf], np.NaN)\n",
    "data.DelinquenciesPerLine[np.isnan(data.DelinquenciesPerLine)] = 0\n",
    "data.DelinquenciesPerLine[np.isinf(data.DelinquenciesPerLine)] = 0\n",
    "data['DelinquenciesPerLine']=data['DelinquenciesPerLine'].fillna(0)"
   ]
  },
  {
   "cell_type": "code",
   "execution_count": 125,
   "metadata": {},
   "outputs": [],
   "source": [
    "data['DelinquenciesPerLine']=data.DelinquenciesPerLine.replace([np.inf, -np.inf], 0)"
   ]
  },
  {
   "cell_type": "code",
   "execution_count": 126,
   "metadata": {},
   "outputs": [
    {
     "data": {
      "text/plain": [
       "0"
      ]
     },
     "execution_count": 126,
     "metadata": {},
     "output_type": "execute_result"
    }
   ],
   "source": [
    "data.DelinquenciesPerLine.isnull().sum()"
   ]
  },
  {
   "cell_type": "code",
   "execution_count": 127,
   "metadata": {},
   "outputs": [
    {
     "data": {
      "text/plain": [
       "'DelinquenciesPerRevolvingLine  = NumberOfTimesPastDue / RevolvingLines'"
      ]
     },
     "execution_count": 127,
     "metadata": {},
     "output_type": "execute_result"
    }
   ],
   "source": [
    "\"\"\"DelinquenciesPerRevolvingLine  = NumberOfTimesPastDue / RevolvingLines\"\"\""
   ]
  },
  {
   "cell_type": "code",
   "execution_count": 128,
   "metadata": {
    "collapsed": true
   },
   "outputs": [],
   "source": [
    "data['DelinquenciesPerRevolvingLine'] = data['NumberOfTimePastDue'] / data['RevolvingLines']"
   ]
  },
  {
   "cell_type": "code",
   "execution_count": 131,
   "metadata": {},
   "outputs": [
    {
     "name": "stderr",
     "output_type": "stream",
     "text": [
      "C:\\ProgramData\\Anaconda2\\lib\\site-packages\\ipykernel\\__main__.py:2: SettingWithCopyWarning: \n",
      "A value is trying to be set on a copy of a slice from a DataFrame\n",
      "\n",
      "See the caveats in the documentation: http://pandas.pydata.org/pandas-docs/stable/indexing.html#indexing-view-versus-copy\n",
      "  from ipykernel import kernelapp as app\n",
      "C:\\ProgramData\\Anaconda2\\lib\\site-packages\\ipykernel\\__main__.py:3: SettingWithCopyWarning: \n",
      "A value is trying to be set on a copy of a slice from a DataFrame\n",
      "\n",
      "See the caveats in the documentation: http://pandas.pydata.org/pandas-docs/stable/indexing.html#indexing-view-versus-copy\n",
      "  app.launch_new_instance()\n"
     ]
    }
   ],
   "source": [
    "data['DelinquenciesPerRevolvingLine']=data.DelinquenciesPerRevolvingLine.replace([np.inf, -np.inf], np.NaN)\n",
    "data.DelinquenciesPerRevolvingLine[np.isnan(data.DelinquenciesPerRevolvingLine)] = 0\n",
    "data.DelinquenciesPerRevolvingLine[np.isinf(data.DelinquenciesPerRevolvingLine)] = 0\n",
    "data['DelinquenciesPerRevolvingLine']=data['DelinquenciesPerRevolvingLine'].fillna(0)"
   ]
  },
  {
   "cell_type": "code",
   "execution_count": 132,
   "metadata": {},
   "outputs": [
    {
     "name": "stderr",
     "output_type": "stream",
     "text": [
      "C:\\ProgramData\\Anaconda2\\lib\\site-packages\\sklearn\\cross_validation.py:44: DeprecationWarning: This module was deprecated in version 0.18 in favor of the model_selection module into which all the refactored classes and functions are moved. Also note that the interface of the new CV iterators are different from that of this module. This module will be removed in 0.20.\n",
      "  \"This module will be removed in 0.20.\", DeprecationWarning)\n"
     ]
    }
   ],
   "source": [
    "from sklearn.cross_validation import train_test_split\n"
   ]
  },
  {
   "cell_type": "code",
   "execution_count": 133,
   "metadata": {
    "collapsed": true
   },
   "outputs": [],
   "source": [
    "data_new4=data"
   ]
  },
  {
   "cell_type": "code",
   "execution_count": 134,
   "metadata": {},
   "outputs": [],
   "source": [
    "X = data.drop('SeriousDlqin2yrs', axis=1)\n",
    "y = data.SeriousDlqin2yrs\n"
   ]
  },
  {
   "cell_type": "code",
   "execution_count": 135,
   "metadata": {},
   "outputs": [],
   "source": [
    "#np.savetxt(\"C:/Users/saga54/Desktop/foo.csv\", data, delimiter=\",\")"
   ]
  },
  {
   "cell_type": "code",
   "execution_count": 137,
   "metadata": {},
   "outputs": [],
   "source": [
    "X_train, X_test, y_train, y_test = train_test_split(X, y, test_size=0.25)"
   ]
  },
  {
   "cell_type": "code",
   "execution_count": 144,
   "metadata": {
    "collapsed": true
   },
   "outputs": [],
   "source": [
    "from sklearn import ensemble\n",
    "from sklearn.ensemble import GradientBoostingClassifier\n"
   ]
  },
  {
   "cell_type": "code",
   "execution_count": 145,
   "metadata": {},
   "outputs": [],
   "source": [
    "clf = GradientBoostingClassifier(n_estimators=100, learning_rate=1.0, max_depth=1, random_state=0).fit(X_train, y_train)\n"
   ]
  },
  {
   "cell_type": "code",
   "execution_count": 146,
   "metadata": {},
   "outputs": [],
   "source": [
    "y_pred = clf.fit(X_train, y_train).predict(X_test)"
   ]
  },
  {
   "cell_type": "code",
   "execution_count": 147,
   "metadata": {
    "collapsed": true
   },
   "outputs": [],
   "source": [
    "from sklearn.metrics import confusion_matrix"
   ]
  },
  {
   "cell_type": "code",
   "execution_count": 148,
   "metadata": {},
   "outputs": [
    {
     "data": {
      "text/plain": [
       "array([[33865,  1185],\n",
       "       [ 1608,   842]])"
      ]
     },
     "execution_count": 148,
     "metadata": {},
     "output_type": "execute_result"
    }
   ],
   "source": [
    "confusion_matrix(y_test, y_pred)"
   ]
  },
  {
   "cell_type": "code",
   "execution_count": 149,
   "metadata": {},
   "outputs": [
    {
     "data": {
      "text/plain": [
       "0.92552000000000001"
      ]
     },
     "execution_count": 149,
     "metadata": {},
     "output_type": "execute_result"
    }
   ],
   "source": [
    "\n",
    "from sklearn.metrics import accuracy_score\n",
    "accuracy_score(y_test, y_pred)\n"
   ]
  },
  {
   "cell_type": "code",
   "execution_count": 150,
   "metadata": {},
   "outputs": [
    {
     "name": "stdout",
     "output_type": "stream",
     "text": [
      "             precision    recall  f1-score   support\n",
      "\n",
      "    class 0       0.95      0.97      0.96     35050\n",
      "    class 1       0.42      0.34      0.38      2450\n",
      "\n",
      "avg / total       0.92      0.93      0.92     37500\n",
      "\n"
     ]
    }
   ],
   "source": [
    "from sklearn.metrics import classification_report\n",
    "target_names = ['class 0', 'class 1']\n",
    "print(classification_report(y_test, y_pred, target_names=target_names))"
   ]
  },
  {
   "cell_type": "code",
   "execution_count": 151,
   "metadata": {},
   "outputs": [
    {
     "data": {
      "text/plain": [
       "0.65493231243995464"
      ]
     },
     "execution_count": 151,
     "metadata": {},
     "output_type": "execute_result"
    }
   ],
   "source": [
    "from sklearn.metrics import roc_auc_score\n",
    "roc_auc_score(y_test, y_pred)\n"
   ]
  },
  {
   "cell_type": "code",
   "execution_count": 152,
   "metadata": {},
   "outputs": [
    {
     "data": {
      "text/plain": [
       "0.65493231243995464"
      ]
     },
     "execution_count": 152,
     "metadata": {},
     "output_type": "execute_result"
    }
   ],
   "source": [
    "from sklearn import metrics\n",
    "fpr, tpr, thresholds = metrics.roc_curve(y_test, y_pred)\n",
    "metrics.auc(fpr, tpr)\n"
   ]
  },
  {
   "cell_type": "code",
   "execution_count": 153,
   "metadata": {},
   "outputs": [
    {
     "data": {
      "text/plain": [
       "'\"colsample_bytree\": 0.41,\\n      \"gamma\": 0.643,\\n      \"max_depth\": 5,\\n      \"max_delta_step\": 1.78,\\n      \"min_child_weight\": 10.0,\\n      \"objective\": \"binary:logistic\",\\n      \"subsample\": 0.801,\\n      \"learning_rate\": 0.027,\\n      \"silent\": false,\\n      \"nthread\": 7,\\n      \"n_estimators\": 295,\\n      \"seed\": 2'"
      ]
     },
     "execution_count": 153,
     "metadata": {},
     "output_type": "execute_result"
    }
   ],
   "source": [
    "\"\"\"\"colsample_bytree\": 0.41,\n",
    "      \"gamma\": 0.643,\n",
    "      \"max_depth\": 5,\n",
    "      \"max_delta_step\": 1.78,\n",
    "      \"min_child_weight\": 10.0,\n",
    "      \"objective\": \"binary:logistic\",\n",
    "      \"subsample\": 0.801,\n",
    "      \"learning_rate\": 0.027,\n",
    "      \"silent\": false,\n",
    "      \"nthread\": 7,\n",
    "      \"n_estimators\": 295,\n",
    "      \"seed\": 2\"\"\""
   ]
  },
  {
   "cell_type": "code",
   "execution_count": 155,
   "metadata": {
    "collapsed": true
   },
   "outputs": [],
   "source": [
    "data.to_csv(\"C:/Users/saga54/Desktop/gmc.csv\")"
   ]
  },
  {
   "cell_type": "code",
   "execution_count": null,
   "metadata": {
    "collapsed": true
   },
   "outputs": [],
   "source": [
    "\"\"\"RANDOM FOREST CLASSIFIER\"\"\""
   ]
  },
  {
   "cell_type": "code",
   "execution_count": 200,
   "metadata": {},
   "outputs": [],
   "source": [
    "from sklearn.ensemble import RandomForestClassifier\n",
    "clfRF = RandomForestClassifier(n_estimators=100).fit(X_train, y_train)\n"
   ]
  },
  {
   "cell_type": "code",
   "execution_count": 201,
   "metadata": {
    "collapsed": true
   },
   "outputs": [],
   "source": [
    "\n",
    "y_pred = clfRF.fit(X_train, y_train).predict(X_test)"
   ]
  },
  {
   "cell_type": "code",
   "execution_count": 202,
   "metadata": {},
   "outputs": [
    {
     "data": {
      "text/plain": [
       "array([[34607,   443],\n",
       "       [ 1985,   465]])"
      ]
     },
     "execution_count": 202,
     "metadata": {},
     "output_type": "execute_result"
    }
   ],
   "source": [
    "confusion_matrix(y_test, y_pred)\n"
   ]
  },
  {
   "cell_type": "code",
   "execution_count": 203,
   "metadata": {},
   "outputs": [
    {
     "data": {
      "text/plain": [
       "0.93525333333333338"
      ]
     },
     "execution_count": 203,
     "metadata": {},
     "output_type": "execute_result"
    }
   ],
   "source": [
    "\n",
    "accuracy_score(y_test, y_pred)\n"
   ]
  },
  {
   "cell_type": "code",
   "execution_count": 204,
   "metadata": {},
   "outputs": [
    {
     "data": {
      "text/plain": [
       "array([ 0.14185544,  0.10717513,  0.01953287,  0.00309399,  0.11670124,\n",
       "        0.03154686,  0.048104  ,  0.00772096,  0.0234183 ,  0.02028825,\n",
       "        0.        ,  0.        ,  0.        ,  0.000473  ,  0.00032052,\n",
       "        0.00160409,  0.        ,  0.00288444,  0.00298045,  0.02959041,\n",
       "        0.00145809,  0.00195608,  0.08125582,  0.03305014,  0.        ,\n",
       "        0.        ,  0.04334402,  0.01604187,  0.11711582,  0.05117611,\n",
       "        0.05440517,  0.04290692])"
      ]
     },
     "execution_count": 204,
     "metadata": {},
     "output_type": "execute_result"
    }
   ],
   "source": [
    "clfRF.feature_importances_\n"
   ]
  },
  {
   "cell_type": "code",
   "execution_count": 205,
   "metadata": {},
   "outputs": [
    {
     "name": "stdout",
     "output_type": "stream",
     "text": [
      "             precision    recall  f1-score   support\n",
      "\n",
      "    class 0       0.95      0.99      0.97     35050\n",
      "    class 1       0.51      0.19      0.28      2450\n",
      "\n",
      "avg / total       0.92      0.94      0.92     37500\n",
      "\n"
     ]
    }
   ],
   "source": [
    "target_names = ['class 0', 'class 1']\n",
    "print(classification_report(y_test, y_pred, target_names=target_names))\n"
   ]
  },
  {
   "cell_type": "code",
   "execution_count": 206,
   "metadata": {},
   "outputs": [
    {
     "data": {
      "text/plain": [
       "0.58857841567440106"
      ]
     },
     "execution_count": 206,
     "metadata": {},
     "output_type": "execute_result"
    }
   ],
   "source": [
    "from sklearn.metrics import roc_auc_score\n",
    "roc_auc_score(y_test, y_pred)\n"
   ]
  },
  {
   "cell_type": "code",
   "execution_count": 207,
   "metadata": {},
   "outputs": [
    {
     "data": {
      "text/plain": [
       "0.58857841567440106"
      ]
     },
     "execution_count": 207,
     "metadata": {},
     "output_type": "execute_result"
    }
   ],
   "source": [
    "from sklearn import metrics\n",
    "fpr, tpr, thresholds = metrics.roc_curve(y_test, y_pred)\n",
    "metrics.auc(fpr, tpr)"
   ]
  },
  {
   "cell_type": "code",
   "execution_count": null,
   "metadata": {
    "collapsed": true
   },
   "outputs": [],
   "source": [
    "\"\"\"ADA BOOSTING CLASSIFIER\"\"\""
   ]
  },
  {
   "cell_type": "code",
   "execution_count": 208,
   "metadata": {
    "collapsed": true
   },
   "outputs": [],
   "source": [
    "from sklearn.model_selection import cross_val_score\n",
    "from sklearn.ensemble import AdaBoostClassifier\n",
    "\n",
    "clfADA = AdaBoostClassifier(n_estimators=100)\n",
    "\n"
   ]
  },
  {
   "cell_type": "code",
   "execution_count": 209,
   "metadata": {
    "collapsed": true
   },
   "outputs": [],
   "source": [
    "y_pred = clfADA.fit(X_train, y_train).predict(X_test)"
   ]
  },
  {
   "cell_type": "code",
   "execution_count": 210,
   "metadata": {},
   "outputs": [
    {
     "data": {
      "text/plain": [
       "array([[34626,   424],\n",
       "       [ 1914,   536]])"
      ]
     },
     "execution_count": 210,
     "metadata": {},
     "output_type": "execute_result"
    }
   ],
   "source": [
    "confusion_matrix(y_test, y_pred)"
   ]
  },
  {
   "cell_type": "code",
   "execution_count": 211,
   "metadata": {},
   "outputs": [
    {
     "data": {
      "text/plain": [
       "0.93765333333333334"
      ]
     },
     "execution_count": 211,
     "metadata": {},
     "output_type": "execute_result"
    }
   ],
   "source": [
    "accuracy_score(y_test, y_pred)"
   ]
  },
  {
   "cell_type": "code",
   "execution_count": 212,
   "metadata": {},
   "outputs": [
    {
     "data": {
      "text/plain": [
       "array([ 0.22,  0.11,  0.01,  0.  ,  0.09,  0.04,  0.02,  0.05,  0.02,\n",
       "        0.  ,  0.  ,  0.  ,  0.  ,  0.  ,  0.01,  0.  ,  0.  ,  0.  ,\n",
       "        0.  ,  0.02,  0.  ,  0.01,  0.06,  0.03,  0.  ,  0.  ,  0.06,\n",
       "        0.02,  0.07,  0.11,  0.04,  0.01])"
      ]
     },
     "execution_count": 212,
     "metadata": {},
     "output_type": "execute_result"
    }
   ],
   "source": [
    "clfADA.feature_importances_\n"
   ]
  },
  {
   "cell_type": "code",
   "execution_count": 214,
   "metadata": {},
   "outputs": [
    {
     "name": "stdout",
     "output_type": "stream",
     "text": [
      "             precision    recall  f1-score   support\n",
      "\n",
      "    class 0       0.95      0.99      0.97     35050\n",
      "    class 1       0.56      0.22      0.31      2450\n",
      "\n",
      "avg / total       0.92      0.94      0.92     37500\n",
      "\n"
     ]
    }
   ],
   "source": [
    "target_names = ['class 0', 'class 1']\n",
    "print(classification_report(y_test, y_pred, target_names=target_names))\n"
   ]
  },
  {
   "cell_type": "code",
   "execution_count": 215,
   "metadata": {},
   "outputs": [
    {
     "data": {
      "text/plain": [
       "0.60333925296224056"
      ]
     },
     "execution_count": 215,
     "metadata": {},
     "output_type": "execute_result"
    }
   ],
   "source": [
    "from sklearn.metrics import roc_auc_score\n",
    "roc_auc_score(y_test, y_pred)\n"
   ]
  },
  {
   "cell_type": "code",
   "execution_count": 216,
   "metadata": {},
   "outputs": [
    {
     "data": {
      "text/plain": [
       "0.60333925296224056"
      ]
     },
     "execution_count": 216,
     "metadata": {},
     "output_type": "execute_result"
    }
   ],
   "source": [
    "from sklearn import metrics\n",
    "fpr, tpr, thresholds = metrics.roc_curve(y_test, y_pred)\n",
    "metrics.auc(fpr, tpr)"
   ]
  },
  {
   "cell_type": "code",
   "execution_count": null,
   "metadata": {
    "collapsed": true
   },
   "outputs": [],
   "source": [
    "\"\"\"ENSEMBLE 1\"\"\""
   ]
  },
  {
   "cell_type": "code",
   "execution_count": 218,
   "metadata": {
    "collapsed": true
   },
   "outputs": [],
   "source": [
    "from sklearn.model_selection import cross_val_score\n",
    "from sklearn.naive_bayes import GaussianNB\n",
    "from sklearn.ensemble import RandomForestClassifier\n",
    "from sklearn.ensemble import VotingClassifier\n",
    "\n",
    "\n",
    "clf1 = GradientBoostingClassifier(random_state=1)\n",
    "clf2 = RandomForestClassifier(random_state=1)\n",
    "clf3 = GaussianNB()\n",
    "\n",
    "eclf = VotingClassifier(estimators=[('lr', clf1), ('rf', clf2), ('gnb', clf3)], voting='hard')\n",
    "\n"
   ]
  },
  {
   "cell_type": "code",
   "execution_count": 219,
   "metadata": {},
   "outputs": [
    {
     "name": "stdout",
     "output_type": "stream",
     "text": [
      "Accuracy: 0.94 (+/- 0.00) [Gradient Boosting Classifier]\n",
      "Accuracy: 0.93 (+/- 0.00) [Random Forest]\n",
      "Accuracy: 0.92 (+/- 0.00) [naive Bayes]\n",
      "Accuracy: 0.93 (+/- 0.00) [Ensemble]\n"
     ]
    }
   ],
   "source": [
    "for clf, label in zip([clf1, clf2, clf3, eclf], ['Gradient Boosting Classifier', 'Random Forest', 'naive Bayes', 'Ensemble']):\n",
    "    scores = cross_val_score(clf, X_train, y_train, cv=5, scoring='accuracy')\n",
    "    print(\"Accuracy: %0.2f (+/- %0.2f) [%s]\" % (scores.mean(), scores.std(), label))\n"
   ]
  },
  {
   "cell_type": "code",
   "execution_count": 220,
   "metadata": {},
   "outputs": [
    {
     "data": {
      "text/plain": [
       "'Ensemble 2'"
      ]
     },
     "execution_count": 220,
     "metadata": {},
     "output_type": "execute_result"
    }
   ],
   "source": [
    "\"\"\"Ensemble 2\"\"\""
   ]
  },
  {
   "cell_type": "code",
   "execution_count": 221,
   "metadata": {},
   "outputs": [],
   "source": [
    "from sklearn.naive_bayes import GaussianNB\n",
    "from sklearn.ensemble import RandomForestClassifier, VotingClassifier\n",
    "clf1 = GradientBoostingClassifier(n_estimators=100, learning_rate=1.0, max_depth=1, random_state=1)\n",
    "clf2 = RandomForestClassifier(n_estimators=100, random_state=1)\n",
    "clf3 = AdaBoostClassifier(n_estimators=100)\n",
    "X = X_train\n",
    "y = y_train\n",
    "eclf1 = VotingClassifier(estimators=[('gb', clf1), ('rf', clf2), ('gnb', clf3)], voting='hard')\n",
    "eclf1 = eclf1.fit(X, y)\n",
    "\n",
    "y_pred1=eclf1.predict(X_test)\n",
    "\n",
    "\n",
    "eclf2 = VotingClassifier(estimators=[('gb', clf1), ('rf', clf2), ('gnb', clf3)],voting='soft')\n",
    "eclf2 = eclf2.fit(X, y)\n",
    "\n",
    "y_pred2=eclf2.predict(X_test)\n",
    "\n",
    "eclf3 = VotingClassifier(estimators=[('gb', clf1), ('rf', clf2), ('gnb', clf3)],voting='soft', weights=[2,1,1])\n",
    "eclf3 = eclf3.fit(X, y)\n",
    "y_pred3=eclf3.predict(X_test)"
   ]
  },
  {
   "cell_type": "code",
   "execution_count": 222,
   "metadata": {},
   "outputs": [
    {
     "data": {
      "text/plain": [
       "0.93773333333333331"
      ]
     },
     "execution_count": 222,
     "metadata": {},
     "output_type": "execute_result"
    }
   ],
   "source": [
    "confusion_matrix(y_test, y_pred1)\n",
    "\n",
    "accuracy_score(y_test, y_pred1)"
   ]
  },
  {
   "cell_type": "code",
   "execution_count": 223,
   "metadata": {},
   "outputs": [
    {
     "data": {
      "text/plain": [
       "0.92554666666666663"
      ]
     },
     "execution_count": 223,
     "metadata": {},
     "output_type": "execute_result"
    }
   ],
   "source": [
    "confusion_matrix(y_test, y_pred2)\n",
    "\n",
    "accuracy_score(y_test, y_pred2)"
   ]
  },
  {
   "cell_type": "code",
   "execution_count": 224,
   "metadata": {},
   "outputs": [
    {
     "data": {
      "text/plain": [
       "0.92552000000000001"
      ]
     },
     "execution_count": 224,
     "metadata": {},
     "output_type": "execute_result"
    }
   ],
   "source": [
    "confusion_matrix(y_test, y_pred3)\n",
    "\n",
    "accuracy_score(y_test, y_pred3)"
   ]
  },
  {
   "cell_type": "code",
   "execution_count": 225,
   "metadata": {},
   "outputs": [
    {
     "name": "stdout",
     "output_type": "stream",
     "text": [
      "             precision    recall  f1-score   support\n",
      "\n",
      "    class 0       0.95      0.99      0.97     35050\n",
      "    class 1       0.55      0.24      0.34      2450\n",
      "\n",
      "avg / total       0.92      0.94      0.93     37500\n",
      "\n"
     ]
    }
   ],
   "source": [
    "target_names = ['class 0', 'class 1']\n",
    "print(classification_report(y_test, y_pred1, target_names=target_names))\n"
   ]
  },
  {
   "cell_type": "code",
   "execution_count": 226,
   "metadata": {},
   "outputs": [
    {
     "data": {
      "text/plain": [
       "0.61363212902850151"
      ]
     },
     "execution_count": 226,
     "metadata": {},
     "output_type": "execute_result"
    }
   ],
   "source": [
    "from sklearn.metrics import roc_auc_score\n",
    "roc_auc_score(y_test, y_pred1)\n"
   ]
  },
  {
   "cell_type": "code",
   "execution_count": 227,
   "metadata": {},
   "outputs": [
    {
     "data": {
      "text/plain": [
       "0.61363212902850151"
      ]
     },
     "execution_count": 227,
     "metadata": {},
     "output_type": "execute_result"
    }
   ],
   "source": [
    "from sklearn import metrics\n",
    "fpr, tpr, thresholds = metrics.roc_curve(y_test, y_pred1)\n",
    "metrics.auc(fpr, tpr)"
   ]
  },
  {
   "cell_type": "code",
   "execution_count": 228,
   "metadata": {},
   "outputs": [
    {
     "data": {
      "text/plain": [
       "'Ensemble 3'"
      ]
     },
     "execution_count": 228,
     "metadata": {},
     "output_type": "execute_result"
    }
   ],
   "source": [
    "\"\"\"Ensemble 3\"\"\""
   ]
  },
  {
   "cell_type": "code",
   "execution_count": 229,
   "metadata": {},
   "outputs": [],
   "source": [
    "from sklearn.model_selection import GridSearchCV\n",
    "clf1 = GradientBoostingClassifier(random_state=1)\n",
    "clf2 = RandomForestClassifier(random_state=1)\n",
    "clf3 = AdaBoostClassifier()\n",
    "eclf = VotingClassifier(estimators=[('gb', clf1), ('rf', clf2), ('ab', clf3)], voting='soft')\n",
    "\n",
    "params = {'rf__n_estimators': [20, 200],}\n",
    "\n",
    "grid = GridSearchCV(estimator=eclf, param_grid=params, cv=5)\n",
    "grid = grid.fit(X_train, y_train)"
   ]
  },
  {
   "cell_type": "code",
   "execution_count": 230,
   "metadata": {},
   "outputs": [],
   "source": [
    "y_pred=grid.predict(X_test)"
   ]
  },
  {
   "cell_type": "code",
   "execution_count": 231,
   "metadata": {},
   "outputs": [
    {
     "data": {
      "text/plain": [
       "array([[34734,   316],\n",
       "       [ 1985,   465]])"
      ]
     },
     "execution_count": 231,
     "metadata": {},
     "output_type": "execute_result"
    }
   ],
   "source": [
    "confusion_matrix(y_test, y_pred)"
   ]
  },
  {
   "cell_type": "code",
   "execution_count": 232,
   "metadata": {},
   "outputs": [
    {
     "data": {
      "text/plain": [
       "0.93864000000000003"
      ]
     },
     "execution_count": 232,
     "metadata": {},
     "output_type": "execute_result"
    }
   ],
   "source": [
    "accuracy_score(y_test, y_pred)"
   ]
  },
  {
   "cell_type": "code",
   "execution_count": 233,
   "metadata": {},
   "outputs": [
    {
     "name": "stdout",
     "output_type": "stream",
     "text": [
      "             precision    recall  f1-score   support\n",
      "\n",
      "    class 0       0.95      0.99      0.97     35050\n",
      "    class 1       0.60      0.19      0.29      2450\n",
      "\n",
      "avg / total       0.92      0.94      0.92     37500\n",
      "\n"
     ]
    }
   ],
   "source": [
    "target_names = ['class 0', 'class 1']\n",
    "print(classification_report(y_test, y_pred, target_names=target_names))\n"
   ]
  },
  {
   "cell_type": "code",
   "execution_count": 234,
   "metadata": {},
   "outputs": [
    {
     "data": {
      "text/plain": [
       "0.59039011324929402"
      ]
     },
     "execution_count": 234,
     "metadata": {},
     "output_type": "execute_result"
    }
   ],
   "source": [
    "from sklearn.metrics import roc_auc_score\n",
    "roc_auc_score(y_test, y_pred)\n"
   ]
  },
  {
   "cell_type": "code",
   "execution_count": 235,
   "metadata": {},
   "outputs": [
    {
     "data": {
      "text/plain": [
       "0.59039011324929402"
      ]
     },
     "execution_count": 235,
     "metadata": {},
     "output_type": "execute_result"
    }
   ],
   "source": [
    "from sklearn import metrics\n",
    "fpr, tpr, thresholds = metrics.roc_curve(y_test, y_pred)\n",
    "metrics.auc(fpr, tpr)"
   ]
  },
  {
   "cell_type": "code",
   "execution_count": null,
   "metadata": {
    "collapsed": true
   },
   "outputs": [],
   "source": []
  }
 ],
 "metadata": {
  "kernelspec": {
   "display_name": "Python 2",
   "language": "python",
   "name": "python2"
  },
  "language_info": {
   "codemirror_mode": {
    "name": "ipython",
    "version": 2
   },
   "file_extension": ".py",
   "mimetype": "text/x-python",
   "name": "python",
   "nbconvert_exporter": "python",
   "pygments_lexer": "ipython2",
   "version": "2.7.13"
  }
 },
 "nbformat": 4,
 "nbformat_minor": 2
}
