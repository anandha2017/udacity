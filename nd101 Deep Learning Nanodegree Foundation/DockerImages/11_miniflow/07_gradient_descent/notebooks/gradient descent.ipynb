{
 "cells": [
  {
   "cell_type": "code",
   "execution_count": 1,
   "metadata": {
    "collapsed": true
   },
   "outputs": [],
   "source": [
    "import random"
   ]
  },
  {
   "cell_type": "code",
   "execution_count": 7,
   "metadata": {
    "collapsed": true
   },
   "outputs": [],
   "source": [
    "def gradient_descent_update(x, gradx, learning_rate):\n",
    "    \"\"\"\n",
    "    Performs a gradient descent update.\n",
    "    \"\"\"\n",
    "\n",
    "    x = x - learning_rate * gradx\n",
    "    \n",
    "    return x\n",
    "\n",
    "#import f"
   ]
  },
  {
   "cell_type": "code",
   "execution_count": 8,
   "metadata": {
    "collapsed": true
   },
   "outputs": [],
   "source": [
    "\"\"\"\n",
    "Given the starting point of any `x` gradient descent\n",
    "should be able to find the minimum value of x for the\n",
    "cost function `f` defined below.\n",
    "\"\"\"\n",
    "def f(x):\n",
    "    \"\"\"\n",
    "    Quadratic function.\n",
    "\n",
    "    It's easy to see the minimum value of the function\n",
    "    is 5 when is x=0.\n",
    "    \"\"\"\n",
    "    return x**2 + 5"
   ]
  },
  {
   "cell_type": "code",
   "execution_count": 9,
   "metadata": {
    "collapsed": true
   },
   "outputs": [],
   "source": [
    "def df(x):\n",
    "    \"\"\"\n",
    "    Derivative of `f` with respect to `x`.\n",
    "    \"\"\"\n",
    "    return 2*x"
   ]
  },
  {
   "cell_type": "code",
   "execution_count": 19,
   "metadata": {},
   "outputs": [
    {
     "name": "stdout",
     "output_type": "stream",
     "text": [
      "EPOCH 0: Cost = 72250005.000, x = 17000.000\n",
      "EPOCH 25: Cost = 65367962.601, x = 16170.091\n",
      "EPOCH 50: Cost = 59141456.639, x = 15380.696\n",
      "EPOCH 75: Cost = 53508045.182, x = 14629.838\n",
      "EPOCH 100: Cost = 48411234.093, x = 13915.636\n",
      "EPOCH 125: Cost = 43799910.477, x = 13236.299\n",
      "EPOCH 150: Cost = 39627830.109, x = 12590.127\n",
      "EPOCH 175: Cost = 35853153.672, x = 11975.500\n",
      "EPOCH 200: Cost = 32438027.176, x = 11390.877\n",
      "EPOCH 225: Cost = 29348202.347, x = 10834.795\n",
      "EPOCH 250: Cost = 26552693.163, x = 10305.860\n",
      "EPOCH 275: Cost = 24023465.125, x = 9802.747\n",
      "EPOCH 300: Cost = 21735154.106, x = 9324.194\n",
      "EPOCH 325: Cost = 19664811.992, x = 8869.004\n",
      "EPOCH 350: Cost = 17791676.553, x = 8436.035\n",
      "EPOCH 375: Cost = 16096963.225, x = 8024.203\n",
      "EPOCH 400: Cost = 14563676.733, x = 7632.476\n",
      "EPOCH 425: Cost = 13176440.659, x = 7259.872\n",
      "EPOCH 450: Cost = 11921343.235, x = 6905.458\n",
      "EPOCH 475: Cost = 10785797.835, x = 6568.346\n",
      "EPOCH 500: Cost = 9758416.747, x = 6247.691\n",
      "EPOCH 525: Cost = 8828896.977, x = 5942.690\n",
      "EPOCH 550: Cost = 7987916.922, x = 5652.579\n",
      "EPOCH 575: Cost = 7227042.894, x = 5376.630\n",
      "EPOCH 600: Cost = 6538644.538, x = 5114.153\n",
      "EPOCH 625: Cost = 5915818.316, x = 4864.489\n",
      "EPOCH 650: Cost = 5352318.274, x = 4627.013\n",
      "EPOCH 675: Cost = 4842493.404, x = 4401.131\n",
      "EPOCH 700: Cost = 4381230.974, x = 4186.276\n",
      "EPOCH 725: Cost = 3963905.259, x = 3981.909\n",
      "EPOCH 750: Cost = 3586331.146, x = 3787.520\n",
      "EPOCH 775: Cost = 3244722.169, x = 3602.620\n",
      "EPOCH 800: Cost = 2935652.534, x = 3426.746\n",
      "EPOCH 825: Cost = 2656022.765, x = 3259.459\n",
      "EPOCH 850: Cost = 2403028.622, x = 3100.338\n",
      "EPOCH 875: Cost = 2174132.975, x = 2948.985\n",
      "EPOCH 900: Cost = 1967040.368, x = 2805.021\n",
      "EPOCH 925: Cost = 1779673.990, x = 2668.085\n",
      "EPOCH 950: Cost = 1610154.856, x = 2537.834\n",
      "EPOCH 975: Cost = 1456782.958, x = 2413.941\n",
      "EPOCH 1000: Cost = 1318020.222, x = 2296.097\n"
     ]
    }
   ],
   "source": [
    "# Random number between 0 and 10,000. Feel free to set x whatever you like.\n",
    "x = random.randint(0, 10000)\n",
    "\n",
    "# TODO: Set the learning rate\n",
    "learning_rate = 0.001\n",
    "epochs = 1000\n",
    "\n",
    "for i in range(epochs+1):\n",
    "    cost = f(x)\n",
    "    gradx = df(x)\n",
    "    if i % 25 == 0:\n",
    "        print(\"EPOCH {}: Cost = {:.3f}, x = {:.3f}\".format(i, cost, gradx))\n",
    "    x = gradient_descent_update(x, gradx, learning_rate)"
   ]
  },
  {
   "cell_type": "code",
   "execution_count": null,
   "metadata": {
    "collapsed": true
   },
   "outputs": [],
   "source": []
  }
 ],
 "metadata": {
  "kernelspec": {
   "display_name": "Python 3",
   "language": "python",
   "name": "python3"
  },
  "language_info": {
   "codemirror_mode": {
    "name": "ipython",
    "version": 3
   },
   "file_extension": ".py",
   "mimetype": "text/x-python",
   "name": "python",
   "nbconvert_exporter": "python",
   "pygments_lexer": "ipython3",
   "version": "3.6.1"
  }
 },
 "nbformat": 4,
 "nbformat_minor": 2
}
