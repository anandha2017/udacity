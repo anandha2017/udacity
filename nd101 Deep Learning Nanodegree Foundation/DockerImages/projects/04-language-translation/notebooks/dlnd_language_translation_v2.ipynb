{
 "cells": [
  {
   "cell_type": "markdown",
   "metadata": {
    "collapsed": true
   },
   "source": [
    "# Language Translation\n",
    "In this project, you’re going to take a peek into the realm of neural network machine translation.  You’ll be training a sequence to sequence model on a dataset of English and French sentences that can translate new sentences from English to French.\n",
    "## Get the Data\n",
    "Since translating the whole language of English to French will take lots of time to train, we have provided you with a small portion of the English corpus."
   ]
  },
  {
   "cell_type": "code",
   "execution_count": 1,
   "metadata": {
    "collapsed": true
   },
   "outputs": [],
   "source": [
    "\"\"\"\n",
    "DON'T MODIFY ANYTHING IN THIS CELL\n",
    "\"\"\"\n",
    "import helper\n",
    "import problem_unittests as tests\n",
    "\n",
    "source_path = 'data/small_vocab_en'\n",
    "target_path = 'data/small_vocab_fr'\n",
    "source_text = helper.load_data(source_path)\n",
    "target_text = helper.load_data(target_path)"
   ]
  },
  {
   "cell_type": "markdown",
   "metadata": {},
   "source": [
    "## Explore the Data\n",
    "Play around with view_sentence_range to view different parts of the data."
   ]
  },
  {
   "cell_type": "code",
   "execution_count": 2,
   "metadata": {},
   "outputs": [
    {
     "name": "stdout",
     "output_type": "stream",
     "text": [
      "Dataset Stats\n",
      "Roughly the number of unique words: 227\n",
      "Number of sentences: 137861\n",
      "Average number of words in a sentence: 13.225277634719028\n",
      "\n",
      "English sentences 0 to 10:\n",
      "new jersey is sometimes quiet during autumn , and it is snowy in april .\n",
      "the united states is usually chilly during july , and it is usually freezing in november .\n",
      "california is usually quiet during march , and it is usually hot in june .\n",
      "the united states is sometimes mild during june , and it is cold in september .\n",
      "your least liked fruit is the grape , but my least liked is the apple .\n",
      "his favorite fruit is the orange , but my favorite is the grape .\n",
      "paris is relaxing during december , but it is usually chilly in july .\n",
      "new jersey is busy during spring , and it is never hot in march .\n",
      "our least liked fruit is the lemon , but my least liked is the grape .\n",
      "the united states is sometimes busy during january , and it is sometimes warm in november .\n",
      "\n",
      "French sentences 0 to 10:\n",
      "new jersey est parfois calme pendant l' automne , et il est neigeux en avril .\n",
      "les états-unis est généralement froid en juillet , et il gèle habituellement en novembre .\n",
      "california est généralement calme en mars , et il est généralement chaud en juin .\n",
      "les états-unis est parfois légère en juin , et il fait froid en septembre .\n",
      "votre moins aimé fruit est le raisin , mais mon moins aimé est la pomme .\n",
      "son fruit préféré est l'orange , mais mon préféré est le raisin .\n",
      "paris est relaxant en décembre , mais il est généralement froid en juillet .\n",
      "new jersey est occupé au printemps , et il est jamais chaude en mars .\n",
      "notre fruit est moins aimé le citron , mais mon moins aimé est le raisin .\n",
      "les états-unis est parfois occupé en janvier , et il est parfois chaud en novembre .\n"
     ]
    }
   ],
   "source": [
    "view_sentence_range = (0, 10)\n",
    "\n",
    "\"\"\"\n",
    "DON'T MODIFY ANYTHING IN THIS CELL\n",
    "\"\"\"\n",
    "import numpy as np\n",
    "\n",
    "print('Dataset Stats')\n",
    "print('Roughly the number of unique words: {}'.format(len({word: None for word in source_text.split()})))\n",
    "\n",
    "sentences = source_text.split('\\n')\n",
    "word_counts = [len(sentence.split()) for sentence in sentences]\n",
    "print('Number of sentences: {}'.format(len(sentences)))\n",
    "print('Average number of words in a sentence: {}'.format(np.average(word_counts)))\n",
    "\n",
    "print()\n",
    "print('English sentences {} to {}:'.format(*view_sentence_range))\n",
    "print('\\n'.join(source_text.split('\\n')[view_sentence_range[0]:view_sentence_range[1]]))\n",
    "print()\n",
    "print('French sentences {} to {}:'.format(*view_sentence_range))\n",
    "print('\\n'.join(target_text.split('\\n')[view_sentence_range[0]:view_sentence_range[1]]))"
   ]
  },
  {
   "cell_type": "markdown",
   "metadata": {},
   "source": [
    "## Implement Preprocessing Function\n",
    "### Text to Word Ids\n",
    "As you did with other RNNs, you must turn the text into a number so the computer can understand it. In the function `text_to_ids()`, you'll turn `source_text` and `target_text` from words to ids.  However, you need to add the `<EOS>` word id at the end of `target_text`.  This will help the neural network predict when the sentence should end.\n",
    "\n",
    "You can get the `<EOS>` word id by doing:\n",
    "```python\n",
    "target_vocab_to_int['<EOS>']\n",
    "```\n",
    "You can get other word ids using `source_vocab_to_int` and `target_vocab_to_int`."
   ]
  },
  {
   "cell_type": "code",
   "execution_count": 3,
   "metadata": {},
   "outputs": [
    {
     "name": "stdout",
     "output_type": "stream",
     "text": [
      "Tests Passed\n"
     ]
    }
   ],
   "source": [
    "def text_to_ids(source_text, target_text, source_vocab_to_int, target_vocab_to_int):\n",
    "    \"\"\"\n",
    "    Convert source and target text to proper word ids\n",
    "    :param source_text: String that contains all the source text.\n",
    "    :param target_text: String that contains all the target text.\n",
    "    :param source_vocab_to_int: Dictionary to go from the source words to an id\n",
    "    :param target_vocab_to_int: Dictionary to go from the target words to an id\n",
    "    :return: A tuple of lists (source_id_text, target_id_text)\n",
    "    \"\"\"\n",
    "    \n",
    "    eos = target_vocab_to_int['<EOS>']\n",
    "\n",
    "    source_sentences = [s for s in source_text.split('\\n')]\n",
    "    target_sentences = [s for s in target_text.split('\\n')]\n",
    "    \n",
    "    source_id_text = [[source_vocab_to_int[w] for w in s.split()] for s in source_sentences]\n",
    "    target_id_text = [[target_vocab_to_int[w] for w in s.split()] + [eos] for s in target_sentences]\n",
    "            \n",
    "    return source_id_text, target_id_text\n",
    "\n",
    "\"\"\"\n",
    "DON'T MODIFY ANYTHING IN THIS CELL THAT IS BELOW THIS LINE\n",
    "\"\"\"\n",
    "tests.test_text_to_ids(text_to_ids)"
   ]
  },
  {
   "cell_type": "markdown",
   "metadata": {},
   "source": [
    "### Preprocess all the data and save it\n",
    "Running the code cell below will preprocess all the data and save it to file."
   ]
  },
  {
   "cell_type": "code",
   "execution_count": 4,
   "metadata": {
    "collapsed": true
   },
   "outputs": [],
   "source": [
    "\"\"\"\n",
    "DON'T MODIFY ANYTHING IN THIS CELL\n",
    "\"\"\"\n",
    "helper.preprocess_and_save_data(source_path, target_path, text_to_ids)"
   ]
  },
  {
   "cell_type": "markdown",
   "metadata": {},
   "source": [
    "# Check Point\n",
    "This is your first checkpoint. If you ever decide to come back to this notebook or have to restart the notebook, you can start from here. The preprocessed data has been saved to disk."
   ]
  },
  {
   "cell_type": "code",
   "execution_count": 5,
   "metadata": {
    "collapsed": true
   },
   "outputs": [],
   "source": [
    "\"\"\"\n",
    "DON'T MODIFY ANYTHING IN THIS CELL\n",
    "\"\"\"\n",
    "import numpy as np\n",
    "import helper\n",
    "import problem_unittests as tests\n",
    "\n",
    "(source_int_text, target_int_text), (source_vocab_to_int, target_vocab_to_int), _ = helper.load_preprocess()"
   ]
  },
  {
   "cell_type": "markdown",
   "metadata": {},
   "source": [
    "### Check the Version of TensorFlow and Access to GPU\n",
    "This will check to make sure you have the correct version of TensorFlow and access to a GPU"
   ]
  },
  {
   "cell_type": "code",
   "execution_count": 6,
   "metadata": {},
   "outputs": [
    {
     "name": "stdout",
     "output_type": "stream",
     "text": [
      "TensorFlow Version: 1.1.0\n"
     ]
    },
    {
     "name": "stderr",
     "output_type": "stream",
     "text": [
      "/opt/conda/lib/python3.6/site-packages/ipykernel_launcher.py:15: UserWarning: No GPU found. Please use a GPU to train your neural network.\n",
      "  from ipykernel import kernelapp as app\n"
     ]
    }
   ],
   "source": [
    "\"\"\"\n",
    "DON'T MODIFY ANYTHING IN THIS CELL\n",
    "\"\"\"\n",
    "from distutils.version import LooseVersion\n",
    "import warnings\n",
    "import tensorflow as tf\n",
    "from tensorflow.python.layers.core import Dense\n",
    "\n",
    "# Check TensorFlow Version\n",
    "assert LooseVersion(tf.__version__) >= LooseVersion('1.1'), 'Please use TensorFlow version 1.1 or newer'\n",
    "print('TensorFlow Version: {}'.format(tf.__version__))\n",
    "\n",
    "# Check for a GPU\n",
    "if not tf.test.gpu_device_name():\n",
    "    warnings.warn('No GPU found. Please use a GPU to train your neural network.')\n",
    "else:\n",
    "    print('Default GPU Device: {}'.format(tf.test.gpu_device_name()))"
   ]
  },
  {
   "cell_type": "markdown",
   "metadata": {},
   "source": [
    "## Build the Neural Network\n",
    "You'll build the components necessary to build a Sequence-to-Sequence model by implementing the following functions below:\n",
    "- `model_inputs`\n",
    "- `process_decoder_input`\n",
    "- `encoding_layer`\n",
    "- `decoding_layer_train`\n",
    "- `decoding_layer_infer`\n",
    "- `decoding_layer`\n",
    "- `seq2seq_model`\n",
    "\n",
    "### Input\n",
    "Implement the `model_inputs()` function to create TF Placeholders for the Neural Network. It should create the following placeholders:\n",
    "\n",
    "- Input text placeholder named \"input\" using the TF Placeholder name parameter with rank 2.\n",
    "- Targets placeholder with rank 2.\n",
    "- Learning rate placeholder with rank 0.\n",
    "- Keep probability placeholder named \"keep_prob\" using the TF Placeholder name parameter with rank 0.\n",
    "- Target sequence length placeholder named \"target_sequence_length\" with rank 1\n",
    "- Max target sequence length tensor named \"max_target_len\" getting its value from applying tf.reduce_max on the target_sequence_length placeholder. Rank 0.\n",
    "- Source sequence length placeholder named \"source_sequence_length\" with rank 1\n",
    "\n",
    "Return the placeholders in the following the tuple (input, targets, learning rate, keep probability, target sequence length, max target sequence length, source sequence length)"
   ]
  },
  {
   "cell_type": "code",
   "execution_count": 7,
   "metadata": {},
   "outputs": [
    {
     "name": "stdout",
     "output_type": "stream",
     "text": [
      "Tests Passed\n"
     ]
    }
   ],
   "source": [
    "def model_inputs():\n",
    "    \"\"\"\n",
    "    Create TF Placeholders for input, targets, learning rate, and lengths of source and target sequences.\n",
    "    :return: Tuple (input, targets, learning rate, keep probability, target sequence length,\n",
    "    max target sequence length, source sequence length)\n",
    "    \"\"\"\n",
    "    input_data = tf.placeholder(tf.int32, [None, None], name='input')\n",
    "    targets = tf.placeholder(tf.int32, [None, None], name='target')\n",
    "    learning_rate = tf.placeholder(tf.float32, name='learning_rate')\n",
    "    keep_probability = tf.placeholder(tf.float32, None, name='keep_prob')\n",
    "    target_squence_length = tf.placeholder(tf.int32, (None,), name='target_sequence_length')\n",
    "    max_target_sequence_length = tf.reduce_max(target_squence_length, name='max_target_len')\n",
    "    source_sequence_length = tf.placeholder(tf.int32, (None,), name='source_sequence_length')\n",
    "    \n",
    "    return (input_data, \n",
    "            targets, \n",
    "            learning_rate, \n",
    "            keep_probability, \n",
    "            target_squence_length, \n",
    "            max_target_sequence_length, \n",
    "            source_sequence_length)\n",
    "\n",
    "\"\"\"\n",
    "DON'T MODIFY ANYTHING IN THIS CELL THAT IS BELOW THIS LINE\n",
    "\"\"\"\n",
    "tests.test_model_inputs(model_inputs)"
   ]
  },
  {
   "cell_type": "markdown",
   "metadata": {},
   "source": [
    "### Process Decoder Input\n",
    "Implement `process_decoder_input` by removing the last word id from each batch in `target_data` and concat the GO ID to the begining of each batch."
   ]
  },
  {
   "cell_type": "code",
   "execution_count": 8,
   "metadata": {},
   "outputs": [
    {
     "name": "stdout",
     "output_type": "stream",
     "text": [
      "Tests Passed\n"
     ]
    }
   ],
   "source": [
    "def process_decoder_input(target_data, target_vocab_to_int, batch_size):\n",
    "    \"\"\"\n",
    "    Preprocess target data for encoding\n",
    "    :param target_data: Target Placehoder\n",
    "    :param target_vocab_to_int: Dictionary to go from the target words to an id\n",
    "    :param batch_size: Batch Size\n",
    "    :return: Preprocessed target data\n",
    "    \"\"\"\n",
    "    ending = tf.strided_slice(target_data, [0, 0], [batch_size, -1], [1, 1])\n",
    "    dec_input = tf.concat([tf.fill([batch_size, 1], target_vocab_to_int['<GO>']), ending], 1)\n",
    "    return dec_input\n",
    "\n",
    "\"\"\"\n",
    "DON'T MODIFY ANYTHING IN THIS CELL THAT IS BELOW THIS LINE\n",
    "\"\"\"\n",
    "tests.test_process_encoding_input(process_decoder_input)"
   ]
  },
  {
   "cell_type": "markdown",
   "metadata": {},
   "source": [
    "### Encoding\n",
    "Implement `encoding_layer()` to create a Encoder RNN layer:\n",
    " * Embed the encoder input using [`tf.contrib.layers.embed_sequence`](https://www.tensorflow.org/api_docs/python/tf/contrib/layers/embed_sequence)\n",
    " * Construct a [stacked](https://github.com/tensorflow/tensorflow/blob/6947f65a374ebf29e74bb71e36fd82760056d82c/tensorflow/docs_src/tutorials/recurrent.md#stacking-multiple-lstms) [`tf.contrib.rnn.LSTMCell`](https://www.tensorflow.org/api_docs/python/tf/contrib/rnn/LSTMCell) wrapped in a [`tf.contrib.rnn.DropoutWrapper`](https://www.tensorflow.org/api_docs/python/tf/contrib/rnn/DropoutWrapper)\n",
    " * Pass cell and embedded input to [`tf.nn.dynamic_rnn()`](https://www.tensorflow.org/api_docs/python/tf/nn/dynamic_rnn)"
   ]
  },
  {
   "cell_type": "code",
   "execution_count": 9,
   "metadata": {
    "collapsed": true
   },
   "outputs": [],
   "source": [
    "def make_stacked_lstm_rnn_cell(rnn_size, num_layers, keep_prob):\n",
    "\n",
    "    def rnn_cell(rnn_size):\n",
    "        \n",
    "        lstm_cell = tf.contrib.rnn.LSTMCell(rnn_size, initializer=tf.random_uniform_initializer(-0.1, 0.1, seed=2)) \n",
    "        \n",
    "        return tf.contrib.rnn.DropoutWrapper(lstm_cell, keep_prob, keep_prob, keep_prob)\n",
    "\n",
    "    stacked_lstm_cell = tf.contrib.rnn.MultiRNNCell([rnn_cell(rnn_size) for _ in range(num_layers)])\n",
    "\n",
    "    return stacked_lstm_cell"
   ]
  },
  {
   "cell_type": "code",
   "execution_count": 10,
   "metadata": {
    "scrolled": false
   },
   "outputs": [
    {
     "name": "stdout",
     "output_type": "stream",
     "text": [
      "Tests Passed\n"
     ]
    }
   ],
   "source": [
    "from imp import reload\n",
    "reload(tests)\n",
    "\n",
    "def encoding_layer(rnn_inputs, rnn_size, num_layers, keep_prob, \n",
    "                   source_sequence_length, source_vocab_size, \n",
    "                   encoding_embedding_size):\n",
    "    \"\"\"\n",
    "    Create encoding layer\n",
    "    :param rnn_inputs: Inputs for the RNN\n",
    "    :param rnn_size: RNN Size\n",
    "    :param num_layers: Number of layers\n",
    "    :param keep_prob: Dropout keep probability\n",
    "    :param source_sequence_length: a list of the lengths of each sequence in the batch\n",
    "    :param source_vocab_size: vocabulary size of source data\n",
    "    :param encoding_embedding_size: embedding size of source data\n",
    "    :return: tuple (RNN output, RNN state)\n",
    "    \"\"\"\n",
    "    \n",
    "    enc_embed_input = tf.contrib.layers.embed_sequence(rnn_inputs, source_vocab_size, encoding_embedding_size)\n",
    "     \n",
    "    stacked_cell = make_stacked_lstm_rnn_cell(rnn_size, num_layers, keep_prob)   \n",
    "    \n",
    "    return tf.nn.dynamic_rnn(stacked_cell, enc_embed_input, sequence_length=source_sequence_length, dtype=tf.float32)\n",
    "\n",
    "\"\"\"\n",
    "DON'T MODIFY ANYTHING IN THIS CELL THAT IS BELOW THIS LINE\n",
    "\"\"\"\n",
    "tests.test_encoding_layer(encoding_layer)"
   ]
  },
  {
   "cell_type": "markdown",
   "metadata": {},
   "source": [
    "### Decoding - Training\n",
    "Create a training decoding layer:\n",
    "* Create a [`tf.contrib.seq2seq.TrainingHelper`](https://www.tensorflow.org/api_docs/python/tf/contrib/seq2seq/TrainingHelper) \n",
    "* Create a [`tf.contrib.seq2seq.BasicDecoder`](https://www.tensorflow.org/api_docs/python/tf/contrib/seq2seq/BasicDecoder)\n",
    "* Obtain the decoder outputs from [`tf.contrib.seq2seq.dynamic_decode`](https://www.tensorflow.org/api_docs/python/tf/contrib/seq2seq/dynamic_decode)"
   ]
  },
  {
   "cell_type": "code",
   "execution_count": 11,
   "metadata": {},
   "outputs": [
    {
     "name": "stdout",
     "output_type": "stream",
     "text": [
      "Tests Passed\n"
     ]
    }
   ],
   "source": [
    "def decoding_layer_train(encoder_state, dec_cell, dec_embed_input, \n",
    "                         target_sequence_length, max_summary_length, \n",
    "                         output_layer, keep_prob):\n",
    "    \"\"\"\n",
    "    Create a decoding layer for training\n",
    "    :param encoder_state: Encoder State\n",
    "    :param dec_cell: Decoder RNN Cell\n",
    "    :param dec_embed_input: Decoder embedded input\n",
    "    :param target_sequence_length: The lengths of each sequence in the target batch\n",
    "    :param max_summary_length: The length of the longest sequence in the batch\n",
    "    :param output_layer: Function to apply the output layer\n",
    "    :param keep_prob: Dropout keep probability\n",
    "    :return: BasicDecoderOutput containing training logits and sample_id\n",
    "    \"\"\"\n",
    "    \n",
    "    training_helper = tf.contrib.seq2seq.TrainingHelper(inputs=dec_embed_input,\n",
    "                                                        sequence_length=target_sequence_length,\n",
    "                                                        time_major=False)\n",
    "    training_decoder = tf.contrib.seq2seq.BasicDecoder(dec_cell, training_helper, encoder_state, output_layer)\n",
    "    \n",
    "    training_decoder_output, _ = tf.contrib.seq2seq.dynamic_decode(training_decoder, impute_finished=True,\n",
    "                                                                   maximum_iterations=max_summary_length)\n",
    "        \n",
    "    return training_decoder_output\n",
    "\n",
    "\"\"\"\n",
    "DON'T MODIFY ANYTHING IN THIS CELL THAT IS BELOW THIS LINE\n",
    "\"\"\"\n",
    "tests.test_decoding_layer_train(decoding_layer_train)"
   ]
  },
  {
   "cell_type": "markdown",
   "metadata": {},
   "source": [
    "### Decoding - Inference\n",
    "Create inference decoder:\n",
    "* Create a [`tf.contrib.seq2seq.GreedyEmbeddingHelper`](https://www.tensorflow.org/api_docs/python/tf/contrib/seq2seq/GreedyEmbeddingHelper)\n",
    "* Create a [`tf.contrib.seq2seq.BasicDecoder`](https://www.tensorflow.org/api_docs/python/tf/contrib/seq2seq/BasicDecoder)\n",
    "* Obtain the decoder outputs from [`tf.contrib.seq2seq.dynamic_decode`](https://www.tensorflow.org/api_docs/python/tf/contrib/seq2seq/dynamic_decode)"
   ]
  },
  {
   "cell_type": "code",
   "execution_count": 12,
   "metadata": {
    "scrolled": true
   },
   "outputs": [
    {
     "name": "stdout",
     "output_type": "stream",
     "text": [
      "Tests Passed\n"
     ]
    }
   ],
   "source": [
    "def decoding_layer_infer(encoder_state, dec_cell, dec_embeddings, start_of_sequence_id,\n",
    "                         end_of_sequence_id, max_target_sequence_length,\n",
    "                         vocab_size, output_layer, batch_size, keep_prob):\n",
    "    \"\"\"\n",
    "    Create a decoding layer for inference\n",
    "    :param encoder_state: Encoder state\n",
    "    :param dec_cell: Decoder RNN Cell\n",
    "    :param dec_embeddings: Decoder embeddings\n",
    "    :param start_of_sequence_id: GO ID\n",
    "    :param end_of_sequence_id: EOS Id\n",
    "    :param max_target_sequence_length: Maximum length of target sequences\n",
    "    :param vocab_size: Size of decoder/target vocabulary\n",
    "    :param decoding_scope: TenorFlow Variable Scope for decoding\n",
    "    :param output_layer: Function to apply the output layer\n",
    "    :param batch_size: Batch size\n",
    "    :param keep_prob: Dropout keep probability\n",
    "    :return: BasicDecoderOutput containing inference logits and sample_id\n",
    "    \"\"\"\n",
    "    \n",
    "    start_tokens = tf.tile(tf.constant([start_of_sequence_id], dtype=tf.int32), [batch_size], name='start_tokens')\n",
    "    inference_helper = tf.contrib.seq2seq.GreedyEmbeddingHelper(dec_embeddings, start_tokens, end_of_sequence_id)\n",
    "\n",
    "    inference_decoder = tf.contrib.seq2seq.BasicDecoder(dec_cell, inference_helper, encoder_state, output_layer)\n",
    "\n",
    "    decoder_output, _ = tf.contrib.seq2seq.dynamic_decode(inference_decoder, \n",
    "                                                          impute_finished=True, \n",
    "                                                          maximum_iterations=max_target_sequence_length)\n",
    "    \n",
    "    return decoder_output\n",
    "\n",
    "\"\"\"\n",
    "DON'T MODIFY ANYTHING IN THIS CELL THAT IS BELOW THIS LINE\n",
    "\"\"\"\n",
    "tests.test_decoding_layer_infer(decoding_layer_infer)"
   ]
  },
  {
   "cell_type": "markdown",
   "metadata": {},
   "source": [
    "### Build the Decoding Layer\n",
    "Implement `decoding_layer()` to create a Decoder RNN layer.\n",
    "\n",
    "* Embed the target sequences\n",
    "* Construct the decoder LSTM cell (just like you constructed the encoder cell above)\n",
    "* Create an output layer to map the outputs of the decoder to the elements of our vocabulary\n",
    "* Use the your `decoding_layer_train(encoder_state, dec_cell, dec_embed_input, target_sequence_length, max_target_sequence_length, output_layer, keep_prob)` function to get the training logits.\n",
    "* Use your `decoding_layer_infer(encoder_state, dec_cell, dec_embeddings, start_of_sequence_id, end_of_sequence_id, max_target_sequence_length, vocab_size, output_layer, batch_size, keep_prob)` function to get the inference logits.\n",
    "\n",
    "Note: You'll need to use [tf.variable_scope](https://www.tensorflow.org/api_docs/python/tf/variable_scope) to share variables between training and inference."
   ]
  },
  {
   "cell_type": "code",
   "execution_count": 13,
   "metadata": {
    "collapsed": true
   },
   "outputs": [],
   "source": [
    "def decode_stacked_lstm_rnn_cell(rnn_size, num_layers, keep_prob=1.0): # remove keep_prob?\n",
    "\n",
    "    def rnn_cell(rnn_size):\n",
    "        \n",
    "        lstm_cell = tf.contrib.rnn.LSTMCell(rnn_size, initializer=tf.random_uniform_initializer(-0.1, 0.1, seed=2))\n",
    "        \n",
    "        return lstm_cell\n",
    "\n",
    "    decoded_lstm_cell = tf.contrib.rnn.MultiRNNCell([rnn_cell(rnn_size) for _ in range(num_layers)])\n",
    "\n",
    "    return decoded_lstm_cell"
   ]
  },
  {
   "cell_type": "code",
   "execution_count": 14,
   "metadata": {},
   "outputs": [
    {
     "name": "stdout",
     "output_type": "stream",
     "text": [
      "Tests Passed\n"
     ]
    }
   ],
   "source": [
    "def decoding_layer(dec_input, encoder_state,\n",
    "                   target_sequence_length, max_target_sequence_length,\n",
    "                   rnn_size,\n",
    "                   num_layers, target_vocab_to_int, target_vocab_size,\n",
    "                   batch_size, keep_prob, decoding_embedding_size):\n",
    "    \"\"\"\n",
    "    Create decoding layer\n",
    "    :param dec_input: Decoder input\n",
    "    :param encoder_state: Encoder state\n",
    "    :param target_sequence_length: The lengths of each sequence in the target batch\n",
    "    :param max_target_sequence_length: Maximum length of target sequences\n",
    "    :param rnn_size: RNN Size\n",
    "    :param num_layers: Number of layers\n",
    "    :param target_vocab_to_int: Dictionary to go from the target words to an id\n",
    "    :param target_vocab_size: Size of target vocabulary\n",
    "    :param batch_size: The size of the batch\n",
    "    :param keep_prob: Dropout keep probability\n",
    "    :param decoding_embedding_size: Decoding embedding size\n",
    "    :return: Tuple of (Training BasicDecoderOutput, Inference BasicDecoderOutput)\n",
    "    \"\"\"\n",
    "\n",
    "    decoder_embeddings = tf.Variable(tf.random_uniform([target_vocab_size, decoding_embedding_size]))\n",
    "    decoder_embeddings_input = tf.nn.embedding_lookup(decoder_embeddings, dec_input)\n",
    "    \n",
    "    decoded_cell = decode_stacked_lstm_rnn_cell(rnn_size, num_layers) \n",
    "    \n",
    "    output_layer = Dense(target_vocab_size, \n",
    "                         kernel_initializer=tf.truncated_normal_initializer(mean=0.0, stddev=0.1))\n",
    "    \n",
    "    with tf.variable_scope(\"decoding\") as training_scope:\n",
    "        training_logits = decoding_layer_train(encoder_state, decoded_cell, decoder_embeddings_input,\n",
    "                                               target_sequence_length, max_target_sequence_length,\n",
    "                                               output_layer, keep_prob)\n",
    "    \n",
    "    start_of_sequence_id = target_vocab_to_int['<GO>']\n",
    "    end_of_sequence_id = target_vocab_to_int['<EOS>']\n",
    "    \n",
    "    with tf.variable_scope(\"decoding\", reuse=True) as inference_scope:\n",
    "        inference_logits = decoding_layer_infer(encoder_state, decoded_cell, decoder_embeddings,\n",
    "                                                start_of_sequence_id, end_of_sequence_id,\n",
    "                                                max_target_sequence_length, target_vocab_size,\n",
    "                                                output_layer, batch_size, keep_prob)\n",
    "    \n",
    "    return training_logits, inference_logits\n",
    "\n",
    "\"\"\"\n",
    "DON'T MODIFY ANYTHING IN THIS CELL THAT IS BELOW THIS LINE\n",
    "\"\"\"\n",
    "tests.test_decoding_layer(decoding_layer)"
   ]
  },
  {
   "cell_type": "markdown",
   "metadata": {},
   "source": [
    "### Build the Neural Network\n",
    "Apply the functions you implemented above to:\n",
    "\n",
    "- Encode the input using your `encoding_layer(rnn_inputs, rnn_size, num_layers, keep_prob,  source_sequence_length, source_vocab_size, encoding_embedding_size)`.\n",
    "- Process target data using your `process_decoder_input(target_data, target_vocab_to_int, batch_size)` function.\n",
    "- Decode the encoded input using your `decoding_layer(dec_input, enc_state, target_sequence_length, max_target_sentence_length, rnn_size, num_layers, target_vocab_to_int, target_vocab_size, batch_size, keep_prob, dec_embedding_size)` function."
   ]
  },
  {
   "cell_type": "code",
   "execution_count": 15,
   "metadata": {},
   "outputs": [
    {
     "name": "stdout",
     "output_type": "stream",
     "text": [
      "Tests Passed\n"
     ]
    }
   ],
   "source": [
    "def seq2seq_model(input_data, target_data, keep_prob, batch_size,\n",
    "                  source_sequence_length, target_sequence_length,\n",
    "                  max_target_sentence_length,\n",
    "                  source_vocab_size, target_vocab_size,\n",
    "                  enc_embedding_size, dec_embedding_size,\n",
    "                  rnn_size, num_layers, target_vocab_to_int):\n",
    "    \"\"\"\n",
    "    Build the Sequence-to-Sequence part of the neural network\n",
    "    :param input_data: Input placeholder\n",
    "    :param target_data: Target placeholder\n",
    "    :param keep_prob: Dropout keep probability placeholder\n",
    "    :param batch_size: Batch Size\n",
    "    :param source_sequence_length: Sequence Lengths of source sequences in the batch\n",
    "    :param target_sequence_length: Sequence Lengths of target sequences in the batch\n",
    "    :param source_vocab_size: Source vocabulary size\n",
    "    :param target_vocab_size: Target vocabulary size\n",
    "    :param enc_embedding_size: Decoder embedding size\n",
    "    :param dec_embedding_size: Encoder embedding size\n",
    "    :param rnn_size: RNN Size\n",
    "    :param num_layers: Number of layers\n",
    "    :param target_vocab_to_int: Dictionary to go from the target words to an id\n",
    "    :return: Tuple of (Training BasicDecoderOutput, Inference BasicDecoderOutput)\n",
    "    \"\"\"\n",
    "\n",
    "    enc_output, enc_state = encoding_layer(input_data, rnn_size, num_layers, keep_prob,\n",
    "                                           source_sequence_length, source_vocab_size, enc_embedding_size)\n",
    "    \n",
    "    dec_input = process_decoder_input(target_data, target_vocab_to_int, batch_size)\n",
    "    \n",
    "    training_output, inference_output = decoding_layer(dec_input, enc_state, target_sequence_length,\n",
    "                                                       max_target_sentence_length, rnn_size, num_layers,\n",
    "                                                       target_vocab_to_int, target_vocab_size,\n",
    "                                                       batch_size, keep_prob, dec_embedding_size)\n",
    "    \n",
    "    return training_output, inference_output\n",
    "\n",
    "\n",
    "\"\"\"\n",
    "DON'T MODIFY ANYTHING IN THIS CELL THAT IS BELOW THIS LINE\n",
    "\"\"\"\n",
    "tests.test_seq2seq_model(seq2seq_model)"
   ]
  },
  {
   "cell_type": "markdown",
   "metadata": {},
   "source": [
    "## Neural Network Training\n",
    "### Hyperparameters\n",
    "Tune the following parameters:\n",
    "\n",
    "- Set `epochs` to the number of epochs.\n",
    "- Set `batch_size` to the batch size.\n",
    "- Set `rnn_size` to the size of the RNNs.\n",
    "- Set `num_layers` to the number of layers.\n",
    "- Set `encoding_embedding_size` to the size of the embedding for the encoder.\n",
    "- Set `decoding_embedding_size` to the size of the embedding for the decoder.\n",
    "- Set `learning_rate` to the learning rate.\n",
    "- Set `keep_probability` to the Dropout keep probability\n",
    "- Set `display_step` to state how many steps between each debug output statement"
   ]
  },
  {
   "cell_type": "code",
   "execution_count": 16,
   "metadata": {
    "collapsed": true
   },
   "outputs": [],
   "source": [
    "# Number of Epochs\n",
    "epochs = 10\n",
    "\n",
    "# Batch Size\n",
    "batch_size = 256\n",
    "\n",
    "# RNN Size\n",
    "rnn_size = 512\n",
    "\n",
    "# Number of Layers\n",
    "num_layers = 3\n",
    "\n",
    "# Embedding Size\n",
    "encoding_embedding_size = 256\n",
    "decoding_embedding_size = 256\n",
    "\n",
    "# Learning Rate\n",
    "learning_rate = 0.001\n",
    "\n",
    "# Dropout Keep Probability\n",
    "keep_probability = 0.8\n",
    "display_step = 25"
   ]
  },
  {
   "cell_type": "markdown",
   "metadata": {},
   "source": [
    "### Build the Graph\n",
    "Build the graph using the neural network you implemented."
   ]
  },
  {
   "cell_type": "code",
   "execution_count": 17,
   "metadata": {
    "collapsed": true
   },
   "outputs": [],
   "source": [
    "\"\"\"\n",
    "DON'T MODIFY ANYTHING IN THIS CELL\n",
    "\"\"\"\n",
    "save_path = 'checkpoints/dev'\n",
    "(source_int_text, target_int_text), (source_vocab_to_int, target_vocab_to_int), _ = helper.load_preprocess()\n",
    "max_target_sentence_length = max([len(sentence) for sentence in source_int_text])\n",
    "\n",
    "train_graph = tf.Graph()\n",
    "with train_graph.as_default():\n",
    "    input_data, targets, lr, keep_prob, target_sequence_length, max_target_sequence_length, source_sequence_length = model_inputs()\n",
    "\n",
    "    #sequence_length = tf.placeholder_with_default(max_target_sentence_length, None, name='sequence_length')\n",
    "    input_shape = tf.shape(input_data)\n",
    "\n",
    "    train_logits, inference_logits = seq2seq_model(tf.reverse(input_data, [-1]),\n",
    "                                                   targets,\n",
    "                                                   keep_prob,\n",
    "                                                   batch_size,\n",
    "                                                   source_sequence_length,\n",
    "                                                   target_sequence_length,\n",
    "                                                   max_target_sequence_length,\n",
    "                                                   len(source_vocab_to_int),\n",
    "                                                   len(target_vocab_to_int),\n",
    "                                                   encoding_embedding_size,\n",
    "                                                   decoding_embedding_size,\n",
    "                                                   rnn_size,\n",
    "                                                   num_layers,\n",
    "                                                   target_vocab_to_int)\n",
    "\n",
    "\n",
    "    training_logits = tf.identity(train_logits.rnn_output, name='logits')\n",
    "    inference_logits = tf.identity(inference_logits.sample_id, name='predictions')\n",
    "\n",
    "    masks = tf.sequence_mask(target_sequence_length, max_target_sequence_length, dtype=tf.float32, name='masks')\n",
    "\n",
    "    with tf.name_scope(\"optimization\"):\n",
    "        # Loss function\n",
    "        cost = tf.contrib.seq2seq.sequence_loss(\n",
    "            training_logits,\n",
    "            targets,\n",
    "            masks)\n",
    "\n",
    "        # Optimizer\n",
    "        optimizer = tf.train.AdamOptimizer(lr)\n",
    "\n",
    "        # Gradient Clipping\n",
    "        gradients = optimizer.compute_gradients(cost)\n",
    "        capped_gradients = [(tf.clip_by_value(grad, -1., 1.), var) for grad, var in gradients if grad is not None]\n",
    "        train_op = optimizer.apply_gradients(capped_gradients)\n"
   ]
  },
  {
   "cell_type": "markdown",
   "metadata": {},
   "source": [
    "Batch and pad the source and target sequences"
   ]
  },
  {
   "cell_type": "code",
   "execution_count": 18,
   "metadata": {
    "collapsed": true
   },
   "outputs": [],
   "source": [
    "\"\"\"\n",
    "DON'T MODIFY ANYTHING IN THIS CELL\n",
    "\"\"\"\n",
    "def pad_sentence_batch(sentence_batch, pad_int):\n",
    "    \"\"\"Pad sentences with <PAD> so that each sentence of a batch has the same length\"\"\"\n",
    "    max_sentence = max([len(sentence) for sentence in sentence_batch])\n",
    "    return [sentence + [pad_int] * (max_sentence - len(sentence)) for sentence in sentence_batch]\n",
    "\n",
    "\n",
    "def get_batches(sources, targets, batch_size, source_pad_int, target_pad_int):\n",
    "    \"\"\"Batch targets, sources, and the lengths of their sentences together\"\"\"\n",
    "    for batch_i in range(0, len(sources)//batch_size):\n",
    "        start_i = batch_i * batch_size\n",
    "\n",
    "        # Slice the right amount for the batch\n",
    "        sources_batch = sources[start_i:start_i + batch_size]\n",
    "        targets_batch = targets[start_i:start_i + batch_size]\n",
    "\n",
    "        # Pad\n",
    "        pad_sources_batch = np.array(pad_sentence_batch(sources_batch, source_pad_int))\n",
    "        pad_targets_batch = np.array(pad_sentence_batch(targets_batch, target_pad_int))\n",
    "\n",
    "        # Need the lengths for the _lengths parameters\n",
    "        pad_targets_lengths = []\n",
    "        for target in pad_targets_batch:\n",
    "            pad_targets_lengths.append(len(target))\n",
    "\n",
    "        pad_source_lengths = []\n",
    "        for source in pad_sources_batch:\n",
    "            pad_source_lengths.append(len(source))\n",
    "\n",
    "        yield pad_sources_batch, pad_targets_batch, pad_source_lengths, pad_targets_lengths\n"
   ]
  },
  {
   "cell_type": "markdown",
   "metadata": {},
   "source": [
    "### Train\n",
    "Train the neural network on the preprocessed data. If you have a hard time getting a good loss, check the forms to see if anyone is having the same problem."
   ]
  },
  {
   "cell_type": "code",
   "execution_count": 19,
   "metadata": {
    "scrolled": true
   },
   "outputs": [
    {
     "name": "stdout",
     "output_type": "stream",
     "text": [
      "Epoch   0 Batch   25/538 - Train Accuracy: 0.2912, Validation Accuracy: 0.3558, Loss: 2.6153\n",
      "Epoch   0 Batch   50/538 - Train Accuracy: 0.4461, Validation Accuracy: 0.4798, Loss: 2.0645\n",
      "Epoch   0 Batch   75/538 - Train Accuracy: 0.4563, Validation Accuracy: 0.4798, Loss: 1.6255\n",
      "Epoch   0 Batch  100/538 - Train Accuracy: 0.4510, Validation Accuracy: 0.4906, Loss: 1.3948\n",
      "Epoch   0 Batch  125/538 - Train Accuracy: 0.5002, Validation Accuracy: 0.5316, Loss: 1.2457\n",
      "Epoch   0 Batch  150/538 - Train Accuracy: 0.4941, Validation Accuracy: 0.5160, Loss: 1.1387\n",
      "Epoch   0 Batch  175/538 - Train Accuracy: 0.3879, Validation Accuracy: 0.4466, Loss: 1.0557\n",
      "Epoch   0 Batch  200/538 - Train Accuracy: 0.5039, Validation Accuracy: 0.5188, Loss: 0.9372\n",
      "Epoch   0 Batch  225/538 - Train Accuracy: 0.5190, Validation Accuracy: 0.5328, Loss: 0.8446\n",
      "Epoch   0 Batch  250/538 - Train Accuracy: 0.5447, Validation Accuracy: 0.5806, Loss: 0.7842\n",
      "Epoch   0 Batch  275/538 - Train Accuracy: 0.5207, Validation Accuracy: 0.5630, Loss: 0.8002\n",
      "Epoch   0 Batch  300/538 - Train Accuracy: 0.5612, Validation Accuracy: 0.5629, Loss: 0.6953\n",
      "Epoch   0 Batch  325/538 - Train Accuracy: 0.5796, Validation Accuracy: 0.5719, Loss: 0.6569\n",
      "Epoch   0 Batch  350/538 - Train Accuracy: 0.5911, Validation Accuracy: 0.5985, Loss: 0.6406\n",
      "Epoch   0 Batch  375/538 - Train Accuracy: 0.5954, Validation Accuracy: 0.6056, Loss: 0.5828\n",
      "Epoch   0 Batch  400/538 - Train Accuracy: 0.5964, Validation Accuracy: 0.6016, Loss: 0.5699\n",
      "Epoch   0 Batch  425/538 - Train Accuracy: 0.6202, Validation Accuracy: 0.6280, Loss: 0.5579\n",
      "Epoch   0 Batch  450/538 - Train Accuracy: 0.6380, Validation Accuracy: 0.6346, Loss: 0.5538\n",
      "Epoch   0 Batch  475/538 - Train Accuracy: 0.6241, Validation Accuracy: 0.6314, Loss: 0.5188\n",
      "Epoch   0 Batch  500/538 - Train Accuracy: 0.6289, Validation Accuracy: 0.6381, Loss: 0.4801\n",
      "Epoch   0 Batch  525/538 - Train Accuracy: 0.6611, Validation Accuracy: 0.6330, Loss: 0.4821\n",
      "Epoch   1 Batch   25/538 - Train Accuracy: 0.6141, Validation Accuracy: 0.6534, Loss: 0.4885\n",
      "Epoch   1 Batch   50/538 - Train Accuracy: 0.6430, Validation Accuracy: 0.6593, Loss: 0.4811\n",
      "Epoch   1 Batch   75/538 - Train Accuracy: 0.6687, Validation Accuracy: 0.6697, Loss: 0.4290\n",
      "Epoch   1 Batch  100/538 - Train Accuracy: 0.6816, Validation Accuracy: 0.6729, Loss: 0.4332\n",
      "Epoch   1 Batch  125/538 - Train Accuracy: 0.6749, Validation Accuracy: 0.6990, Loss: 0.4130\n",
      "Epoch   1 Batch  150/538 - Train Accuracy: 0.6631, Validation Accuracy: 0.6926, Loss: 0.4081\n",
      "Epoch   1 Batch  175/538 - Train Accuracy: 0.6559, Validation Accuracy: 0.6495, Loss: 0.3907\n",
      "Epoch   1 Batch  200/538 - Train Accuracy: 0.7236, Validation Accuracy: 0.7060, Loss: 0.3532\n",
      "Epoch   1 Batch  225/538 - Train Accuracy: 0.7087, Validation Accuracy: 0.7022, Loss: 0.3373\n",
      "Epoch   1 Batch  250/538 - Train Accuracy: 0.7166, Validation Accuracy: 0.7301, Loss: 0.3407\n",
      "Epoch   1 Batch  275/538 - Train Accuracy: 0.7076, Validation Accuracy: 0.7509, Loss: 0.3312\n",
      "Epoch   1 Batch  300/538 - Train Accuracy: 0.7368, Validation Accuracy: 0.7544, Loss: 0.2951\n",
      "Epoch   1 Batch  325/538 - Train Accuracy: 0.7539, Validation Accuracy: 0.7498, Loss: 0.2965\n",
      "Epoch   1 Batch  350/538 - Train Accuracy: 0.7504, Validation Accuracy: 0.7646, Loss: 0.2892\n",
      "Epoch   1 Batch  375/538 - Train Accuracy: 0.7740, Validation Accuracy: 0.7816, Loss: 0.2633\n",
      "Epoch   1 Batch  400/538 - Train Accuracy: 0.7593, Validation Accuracy: 0.7727, Loss: 0.2683\n",
      "Epoch   1 Batch  425/538 - Train Accuracy: 0.7744, Validation Accuracy: 0.7862, Loss: 0.2547\n",
      "Epoch   1 Batch  450/538 - Train Accuracy: 0.7879, Validation Accuracy: 0.7658, Loss: 0.2493\n",
      "Epoch   1 Batch  475/538 - Train Accuracy: 0.8080, Validation Accuracy: 0.7688, Loss: 0.2268\n",
      "Epoch   1 Batch  500/538 - Train Accuracy: 0.8260, Validation Accuracy: 0.7937, Loss: 0.2047\n",
      "Epoch   1 Batch  525/538 - Train Accuracy: 0.8147, Validation Accuracy: 0.7850, Loss: 0.2145\n",
      "Epoch   2 Batch   25/538 - Train Accuracy: 0.8105, Validation Accuracy: 0.8102, Loss: 0.2180\n",
      "Epoch   2 Batch   50/538 - Train Accuracy: 0.8109, Validation Accuracy: 0.8004, Loss: 0.2059\n",
      "Epoch   2 Batch   75/538 - Train Accuracy: 0.8158, Validation Accuracy: 0.8180, Loss: 0.1862\n",
      "Epoch   2 Batch  100/538 - Train Accuracy: 0.8145, Validation Accuracy: 0.8278, Loss: 0.1887\n",
      "Epoch   2 Batch  125/538 - Train Accuracy: 0.8406, Validation Accuracy: 0.8079, Loss: 0.1856\n",
      "Epoch   2 Batch  150/538 - Train Accuracy: 0.8191, Validation Accuracy: 0.8091, Loss: 0.1733\n",
      "Epoch   2 Batch  175/538 - Train Accuracy: 0.8396, Validation Accuracy: 0.8244, Loss: 0.1594\n",
      "Epoch   2 Batch  200/538 - Train Accuracy: 0.8525, Validation Accuracy: 0.8455, Loss: 0.1474\n",
      "Epoch   2 Batch  225/538 - Train Accuracy: 0.8655, Validation Accuracy: 0.8276, Loss: 0.1440\n",
      "Epoch   2 Batch  250/538 - Train Accuracy: 0.8742, Validation Accuracy: 0.8578, Loss: 0.1437\n",
      "Epoch   2 Batch  275/538 - Train Accuracy: 0.8650, Validation Accuracy: 0.8683, Loss: 0.1392\n",
      "Epoch   2 Batch  300/538 - Train Accuracy: 0.8832, Validation Accuracy: 0.8960, Loss: 0.1246\n",
      "Epoch   2 Batch  325/538 - Train Accuracy: 0.9023, Validation Accuracy: 0.8801, Loss: 0.1304\n",
      "Epoch   2 Batch  350/538 - Train Accuracy: 0.8891, Validation Accuracy: 0.8926, Loss: 0.1256\n",
      "Epoch   2 Batch  375/538 - Train Accuracy: 0.9109, Validation Accuracy: 0.8956, Loss: 0.1044\n",
      "Epoch   2 Batch  400/538 - Train Accuracy: 0.9062, Validation Accuracy: 0.8903, Loss: 0.1021\n",
      "Epoch   2 Batch  425/538 - Train Accuracy: 0.9221, Validation Accuracy: 0.9066, Loss: 0.1156\n",
      "Epoch   2 Batch  450/538 - Train Accuracy: 0.9022, Validation Accuracy: 0.9091, Loss: 0.1158\n",
      "Epoch   2 Batch  475/538 - Train Accuracy: 0.9213, Validation Accuracy: 0.9052, Loss: 0.0887\n",
      "Epoch   2 Batch  500/538 - Train Accuracy: 0.9370, Validation Accuracy: 0.9199, Loss: 0.0613\n",
      "Epoch   2 Batch  525/538 - Train Accuracy: 0.9381, Validation Accuracy: 0.9213, Loss: 0.0703\n",
      "Epoch   3 Batch   25/538 - Train Accuracy: 0.9176, Validation Accuracy: 0.9146, Loss: 0.0842\n",
      "Epoch   3 Batch   50/538 - Train Accuracy: 0.9318, Validation Accuracy: 0.9123, Loss: 0.0715\n",
      "Epoch   3 Batch   75/538 - Train Accuracy: 0.9375, Validation Accuracy: 0.9164, Loss: 0.0691\n",
      "Epoch   3 Batch  100/538 - Train Accuracy: 0.9301, Validation Accuracy: 0.9150, Loss: 0.0606\n",
      "Epoch   3 Batch  125/538 - Train Accuracy: 0.9386, Validation Accuracy: 0.9228, Loss: 0.0706\n",
      "Epoch   3 Batch  150/538 - Train Accuracy: 0.9449, Validation Accuracy: 0.9224, Loss: 0.0668\n",
      "Epoch   3 Batch  175/538 - Train Accuracy: 0.9320, Validation Accuracy: 0.9180, Loss: 0.0534\n",
      "Epoch   3 Batch  200/538 - Train Accuracy: 0.9400, Validation Accuracy: 0.9256, Loss: 0.0560\n",
      "Epoch   3 Batch  225/538 - Train Accuracy: 0.9483, Validation Accuracy: 0.9185, Loss: 0.0575\n",
      "Epoch   3 Batch  250/538 - Train Accuracy: 0.9523, Validation Accuracy: 0.9336, Loss: 0.0574\n",
      "Epoch   3 Batch  275/538 - Train Accuracy: 0.9193, Validation Accuracy: 0.9313, Loss: 0.0832\n",
      "Epoch   3 Batch  300/538 - Train Accuracy: 0.9230, Validation Accuracy: 0.9309, Loss: 0.0571\n",
      "Epoch   3 Batch  325/538 - Train Accuracy: 0.9384, Validation Accuracy: 0.9217, Loss: 0.0478\n",
      "Epoch   3 Batch  350/538 - Train Accuracy: 0.9429, Validation Accuracy: 0.9345, Loss: 0.0537\n",
      "Epoch   3 Batch  375/538 - Train Accuracy: 0.9490, Validation Accuracy: 0.9235, Loss: 0.0439\n",
      "Epoch   3 Batch  400/538 - Train Accuracy: 0.9444, Validation Accuracy: 0.9226, Loss: 0.0441\n",
      "Epoch   3 Batch  425/538 - Train Accuracy: 0.9416, Validation Accuracy: 0.9361, Loss: 0.0507\n",
      "Epoch   3 Batch  450/538 - Train Accuracy: 0.9288, Validation Accuracy: 0.9251, Loss: 0.0577\n",
      "Epoch   3 Batch  475/538 - Train Accuracy: 0.9462, Validation Accuracy: 0.9254, Loss: 0.0508\n",
      "Epoch   3 Batch  500/538 - Train Accuracy: 0.9718, Validation Accuracy: 0.9350, Loss: 0.0367\n",
      "Epoch   3 Batch  525/538 - Train Accuracy: 0.9516, Validation Accuracy: 0.9450, Loss: 0.0422\n",
      "Epoch   4 Batch   25/538 - Train Accuracy: 0.9367, Validation Accuracy: 0.9304, Loss: 0.0457\n",
      "Epoch   4 Batch   50/538 - Train Accuracy: 0.9672, Validation Accuracy: 0.9320, Loss: 0.0384\n",
      "Epoch   4 Batch   75/538 - Train Accuracy: 0.9555, Validation Accuracy: 0.9457, Loss: 0.0353\n",
      "Epoch   4 Batch  100/538 - Train Accuracy: 0.9520, Validation Accuracy: 0.9558, Loss: 0.0330\n",
      "Epoch   4 Batch  125/538 - Train Accuracy: 0.9621, Validation Accuracy: 0.9616, Loss: 0.0436\n"
     ]
    },
    {
     "name": "stdout",
     "output_type": "stream",
     "text": [
      "Epoch   4 Batch  150/538 - Train Accuracy: 0.9625, Validation Accuracy: 0.9482, Loss: 0.0354\n",
      "Epoch   4 Batch  175/538 - Train Accuracy: 0.9572, Validation Accuracy: 0.9345, Loss: 0.0371\n",
      "Epoch   4 Batch  200/538 - Train Accuracy: 0.9629, Validation Accuracy: 0.9506, Loss: 0.0319\n",
      "Epoch   4 Batch  225/538 - Train Accuracy: 0.9598, Validation Accuracy: 0.9409, Loss: 0.0377\n",
      "Epoch   4 Batch  250/538 - Train Accuracy: 0.9600, Validation Accuracy: 0.9339, Loss: 0.0452\n",
      "Epoch   4 Batch  275/538 - Train Accuracy: 0.9623, Validation Accuracy: 0.9400, Loss: 0.0425\n",
      "Epoch   4 Batch  300/538 - Train Accuracy: 0.9513, Validation Accuracy: 0.9393, Loss: 0.0337\n",
      "Epoch   4 Batch  325/538 - Train Accuracy: 0.9539, Validation Accuracy: 0.9368, Loss: 0.0336\n",
      "Epoch   4 Batch  350/538 - Train Accuracy: 0.9522, Validation Accuracy: 0.9556, Loss: 0.0348\n",
      "Epoch   4 Batch  375/538 - Train Accuracy: 0.9667, Validation Accuracy: 0.9490, Loss: 0.0310\n",
      "Epoch   4 Batch  400/538 - Train Accuracy: 0.9617, Validation Accuracy: 0.9590, Loss: 0.0300\n",
      "Epoch   4 Batch  425/538 - Train Accuracy: 0.9559, Validation Accuracy: 0.9558, Loss: 0.0401\n",
      "Epoch   4 Batch  450/538 - Train Accuracy: 0.9405, Validation Accuracy: 0.9560, Loss: 0.0356\n",
      "Epoch   4 Batch  475/538 - Train Accuracy: 0.9617, Validation Accuracy: 0.9476, Loss: 0.0253\n",
      "Epoch   4 Batch  500/538 - Train Accuracy: 0.9714, Validation Accuracy: 0.9455, Loss: 0.0215\n",
      "Epoch   4 Batch  525/538 - Train Accuracy: 0.9609, Validation Accuracy: 0.9531, Loss: 0.0316\n",
      "Epoch   5 Batch   25/538 - Train Accuracy: 0.9557, Validation Accuracy: 0.9393, Loss: 0.0344\n",
      "Epoch   5 Batch   50/538 - Train Accuracy: 0.9672, Validation Accuracy: 0.9471, Loss: 0.0283\n",
      "Epoch   5 Batch   75/538 - Train Accuracy: 0.9596, Validation Accuracy: 0.9458, Loss: 0.0274\n",
      "Epoch   5 Batch  100/538 - Train Accuracy: 0.9715, Validation Accuracy: 0.9577, Loss: 0.0245\n",
      "Epoch   5 Batch  125/538 - Train Accuracy: 0.9727, Validation Accuracy: 0.9553, Loss: 0.0289\n",
      "Epoch   5 Batch  150/538 - Train Accuracy: 0.9631, Validation Accuracy: 0.9519, Loss: 0.0262\n",
      "Epoch   5 Batch  175/538 - Train Accuracy: 0.9758, Validation Accuracy: 0.9460, Loss: 0.0252\n",
      "Epoch   5 Batch  200/538 - Train Accuracy: 0.9738, Validation Accuracy: 0.9569, Loss: 0.0206\n",
      "Epoch   5 Batch  225/538 - Train Accuracy: 0.9695, Validation Accuracy: 0.9423, Loss: 0.0269\n",
      "Epoch   5 Batch  250/538 - Train Accuracy: 0.9623, Validation Accuracy: 0.9464, Loss: 0.0260\n",
      "Epoch   5 Batch  275/538 - Train Accuracy: 0.9551, Validation Accuracy: 0.9466, Loss: 0.0323\n",
      "Epoch   5 Batch  300/538 - Train Accuracy: 0.9565, Validation Accuracy: 0.9473, Loss: 0.0288\n",
      "Epoch   5 Batch  325/538 - Train Accuracy: 0.9723, Validation Accuracy: 0.9551, Loss: 0.0276\n",
      "Epoch   5 Batch  350/538 - Train Accuracy: 0.9676, Validation Accuracy: 0.9496, Loss: 0.0262\n",
      "Epoch   5 Batch  375/538 - Train Accuracy: 0.9723, Validation Accuracy: 0.9556, Loss: 0.0223\n",
      "Epoch   5 Batch  400/538 - Train Accuracy: 0.9730, Validation Accuracy: 0.9499, Loss: 0.0234\n",
      "Epoch   5 Batch  425/538 - Train Accuracy: 0.9604, Validation Accuracy: 0.9542, Loss: 0.0390\n",
      "Epoch   5 Batch  450/538 - Train Accuracy: 0.9557, Validation Accuracy: 0.9668, Loss: 0.0303\n",
      "Epoch   5 Batch  475/538 - Train Accuracy: 0.9725, Validation Accuracy: 0.9645, Loss: 0.0209\n",
      "Epoch   5 Batch  500/538 - Train Accuracy: 0.9846, Validation Accuracy: 0.9583, Loss: 0.0154\n",
      "Epoch   5 Batch  525/538 - Train Accuracy: 0.9647, Validation Accuracy: 0.9533, Loss: 0.0216\n",
      "Epoch   6 Batch   25/538 - Train Accuracy: 0.9645, Validation Accuracy: 0.9586, Loss: 0.0265\n",
      "Epoch   6 Batch   50/538 - Train Accuracy: 0.9609, Validation Accuracy: 0.9432, Loss: 0.0479\n",
      "Epoch   6 Batch   75/538 - Train Accuracy: 0.9585, Validation Accuracy: 0.9638, Loss: 0.0310\n",
      "Epoch   6 Batch  100/538 - Train Accuracy: 0.9627, Validation Accuracy: 0.9533, Loss: 0.0413\n",
      "Epoch   6 Batch  125/538 - Train Accuracy: 0.9673, Validation Accuracy: 0.9538, Loss: 0.0328\n",
      "Epoch   6 Batch  150/538 - Train Accuracy: 0.9738, Validation Accuracy: 0.9547, Loss: 0.0278\n",
      "Epoch   6 Batch  175/538 - Train Accuracy: 0.9555, Validation Accuracy: 0.9499, Loss: 0.0237\n",
      "Epoch   6 Batch  200/538 - Train Accuracy: 0.9697, Validation Accuracy: 0.9576, Loss: 0.0182\n",
      "Epoch   6 Batch  225/538 - Train Accuracy: 0.9658, Validation Accuracy: 0.9494, Loss: 0.0261\n",
      "Epoch   6 Batch  250/538 - Train Accuracy: 0.9674, Validation Accuracy: 0.9510, Loss: 0.0211\n",
      "Epoch   6 Batch  275/538 - Train Accuracy: 0.9623, Validation Accuracy: 0.9442, Loss: 0.0227\n",
      "Epoch   6 Batch  300/538 - Train Accuracy: 0.9710, Validation Accuracy: 0.9718, Loss: 0.0213\n",
      "Epoch   6 Batch  325/538 - Train Accuracy: 0.9777, Validation Accuracy: 0.9647, Loss: 0.0234\n",
      "Epoch   6 Batch  350/538 - Train Accuracy: 0.9708, Validation Accuracy: 0.9615, Loss: 0.0284\n",
      "Epoch   6 Batch  375/538 - Train Accuracy: 0.9738, Validation Accuracy: 0.9574, Loss: 0.0184\n",
      "Epoch   6 Batch  400/538 - Train Accuracy: 0.9736, Validation Accuracy: 0.9624, Loss: 0.0221\n",
      "Epoch   6 Batch  425/538 - Train Accuracy: 0.9583, Validation Accuracy: 0.9661, Loss: 0.0446\n",
      "Epoch   6 Batch  450/538 - Train Accuracy: 0.9516, Validation Accuracy: 0.9512, Loss: 0.0417\n",
      "Epoch   6 Batch  475/538 - Train Accuracy: 0.9838, Validation Accuracy: 0.9460, Loss: 0.0267\n",
      "Epoch   6 Batch  500/538 - Train Accuracy: 0.9812, Validation Accuracy: 0.9528, Loss: 0.0182\n",
      "Epoch   6 Batch  525/538 - Train Accuracy: 0.9725, Validation Accuracy: 0.9503, Loss: 0.0225\n",
      "Epoch   7 Batch   25/538 - Train Accuracy: 0.9639, Validation Accuracy: 0.9631, Loss: 0.0215\n",
      "Epoch   7 Batch   50/538 - Train Accuracy: 0.9691, Validation Accuracy: 0.9593, Loss: 0.0234\n",
      "Epoch   7 Batch   75/538 - Train Accuracy: 0.9660, Validation Accuracy: 0.9553, Loss: 0.0212\n",
      "Epoch   7 Batch  100/538 - Train Accuracy: 0.9332, Validation Accuracy: 0.9292, Loss: 0.0797\n",
      "Epoch   7 Batch  125/538 - Train Accuracy: 0.9652, Validation Accuracy: 0.9457, Loss: 0.0410\n",
      "Epoch   7 Batch  150/538 - Train Accuracy: 0.9678, Validation Accuracy: 0.9570, Loss: 0.0283\n",
      "Epoch   7 Batch  175/538 - Train Accuracy: 0.9691, Validation Accuracy: 0.9597, Loss: 0.0243\n",
      "Epoch   7 Batch  200/538 - Train Accuracy: 0.9703, Validation Accuracy: 0.9604, Loss: 0.0181\n",
      "Epoch   7 Batch  225/538 - Train Accuracy: 0.9717, Validation Accuracy: 0.9572, Loss: 0.0232\n",
      "Epoch   7 Batch  250/538 - Train Accuracy: 0.9691, Validation Accuracy: 0.9641, Loss: 0.0215\n",
      "Epoch   7 Batch  275/538 - Train Accuracy: 0.9729, Validation Accuracy: 0.9542, Loss: 0.0197\n",
      "Epoch   7 Batch  300/538 - Train Accuracy: 0.9734, Validation Accuracy: 0.9574, Loss: 0.0212\n",
      "Epoch   7 Batch  325/538 - Train Accuracy: 0.9814, Validation Accuracy: 0.9604, Loss: 0.0201\n",
      "Epoch   7 Batch  350/538 - Train Accuracy: 0.9766, Validation Accuracy: 0.9579, Loss: 0.0213\n",
      "Epoch   7 Batch  375/538 - Train Accuracy: 0.9849, Validation Accuracy: 0.9576, Loss: 0.0132\n",
      "Epoch   7 Batch  400/538 - Train Accuracy: 0.9805, Validation Accuracy: 0.9693, Loss: 0.0198\n",
      "Epoch   7 Batch  425/538 - Train Accuracy: 0.9680, Validation Accuracy: 0.9585, Loss: 0.0262\n",
      "Epoch   7 Batch  450/538 - Train Accuracy: 0.9626, Validation Accuracy: 0.9640, Loss: 0.0255\n",
      "Epoch   7 Batch  475/538 - Train Accuracy: 0.9745, Validation Accuracy: 0.9554, Loss: 0.0162\n",
      "Epoch   7 Batch  500/538 - Train Accuracy: 0.9940, Validation Accuracy: 0.9631, Loss: 0.0109\n",
      "Epoch   7 Batch  525/538 - Train Accuracy: 0.9708, Validation Accuracy: 0.9632, Loss: 0.0186\n",
      "Epoch   8 Batch   25/538 - Train Accuracy: 0.9744, Validation Accuracy: 0.9460, Loss: 0.0213\n",
      "Epoch   8 Batch   50/538 - Train Accuracy: 0.9744, Validation Accuracy: 0.9565, Loss: 0.0182\n",
      "Epoch   8 Batch   75/538 - Train Accuracy: 0.9754, Validation Accuracy: 0.9679, Loss: 0.0190\n",
      "Epoch   8 Batch  100/538 - Train Accuracy: 0.9832, Validation Accuracy: 0.9652, Loss: 0.0165\n",
      "Epoch   8 Batch  125/538 - Train Accuracy: 0.9799, Validation Accuracy: 0.9631, Loss: 0.0216\n",
      "Epoch   8 Batch  150/538 - Train Accuracy: 0.9756, Validation Accuracy: 0.9689, Loss: 0.0183\n",
      "Epoch   8 Batch  175/538 - Train Accuracy: 0.9805, Validation Accuracy: 0.9632, Loss: 0.0139\n",
      "Epoch   8 Batch  200/538 - Train Accuracy: 0.9740, Validation Accuracy: 0.9593, Loss: 0.0194\n",
      "Epoch   8 Batch  225/538 - Train Accuracy: 0.9665, Validation Accuracy: 0.9428, Loss: 0.0317\n",
      "Epoch   8 Batch  250/538 - Train Accuracy: 0.9816, Validation Accuracy: 0.9641, Loss: 0.0263\n"
     ]
    },
    {
     "name": "stdout",
     "output_type": "stream",
     "text": [
      "Epoch   8 Batch  275/538 - Train Accuracy: 0.9732, Validation Accuracy: 0.9664, Loss: 0.0229\n",
      "Epoch   8 Batch  300/538 - Train Accuracy: 0.9758, Validation Accuracy: 0.9702, Loss: 0.0199\n",
      "Epoch   8 Batch  325/538 - Train Accuracy: 0.9851, Validation Accuracy: 0.9707, Loss: 0.0177\n",
      "Epoch   8 Batch  350/538 - Train Accuracy: 0.9781, Validation Accuracy: 0.9682, Loss: 0.0175\n",
      "Epoch   8 Batch  375/538 - Train Accuracy: 0.9825, Validation Accuracy: 0.9602, Loss: 0.0161\n",
      "Epoch   8 Batch  400/538 - Train Accuracy: 0.9829, Validation Accuracy: 0.9602, Loss: 0.0120\n",
      "Epoch   8 Batch  425/538 - Train Accuracy: 0.9676, Validation Accuracy: 0.9691, Loss: 0.0305\n",
      "Epoch   8 Batch  450/538 - Train Accuracy: 0.9658, Validation Accuracy: 0.9650, Loss: 0.0247\n",
      "Epoch   8 Batch  475/538 - Train Accuracy: 0.9894, Validation Accuracy: 0.9718, Loss: 0.0129\n",
      "Epoch   8 Batch  500/538 - Train Accuracy: 0.9856, Validation Accuracy: 0.9647, Loss: 0.0152\n",
      "Epoch   8 Batch  525/538 - Train Accuracy: 0.9799, Validation Accuracy: 0.9702, Loss: 0.0198\n",
      "Epoch   9 Batch   25/538 - Train Accuracy: 0.9703, Validation Accuracy: 0.9707, Loss: 0.0151\n",
      "Epoch   9 Batch   50/538 - Train Accuracy: 0.9814, Validation Accuracy: 0.9679, Loss: 0.0151\n",
      "Epoch   9 Batch   75/538 - Train Accuracy: 0.9762, Validation Accuracy: 0.9666, Loss: 0.0125\n",
      "Epoch   9 Batch  100/538 - Train Accuracy: 0.9838, Validation Accuracy: 0.9709, Loss: 0.0154\n",
      "Epoch   9 Batch  125/538 - Train Accuracy: 0.9730, Validation Accuracy: 0.9652, Loss: 0.0196\n",
      "Epoch   9 Batch  150/538 - Train Accuracy: 0.9854, Validation Accuracy: 0.9767, Loss: 0.0153\n",
      "Epoch   9 Batch  175/538 - Train Accuracy: 0.9779, Validation Accuracy: 0.9652, Loss: 0.0122\n",
      "Epoch   9 Batch  200/538 - Train Accuracy: 0.9771, Validation Accuracy: 0.9654, Loss: 0.0141\n",
      "Epoch   9 Batch  225/538 - Train Accuracy: 0.9788, Validation Accuracy: 0.9602, Loss: 0.0223\n",
      "Epoch   9 Batch  250/538 - Train Accuracy: 0.9764, Validation Accuracy: 0.9672, Loss: 0.0370\n",
      "Epoch   9 Batch  275/538 - Train Accuracy: 0.9648, Validation Accuracy: 0.9647, Loss: 0.0340\n",
      "Epoch   9 Batch  300/538 - Train Accuracy: 0.9753, Validation Accuracy: 0.9677, Loss: 0.0265\n",
      "Epoch   9 Batch  325/538 - Train Accuracy: 0.9764, Validation Accuracy: 0.9664, Loss: 0.0223\n",
      "Epoch   9 Batch  350/538 - Train Accuracy: 0.9753, Validation Accuracy: 0.9661, Loss: 0.0251\n",
      "Epoch   9 Batch  375/538 - Train Accuracy: 0.9879, Validation Accuracy: 0.9629, Loss: 0.0195\n",
      "Epoch   9 Batch  400/538 - Train Accuracy: 0.9877, Validation Accuracy: 0.9604, Loss: 0.0181\n",
      "Epoch   9 Batch  425/538 - Train Accuracy: 0.9751, Validation Accuracy: 0.9734, Loss: 0.0256\n",
      "Epoch   9 Batch  450/538 - Train Accuracy: 0.9738, Validation Accuracy: 0.9730, Loss: 0.0195\n",
      "Epoch   9 Batch  475/538 - Train Accuracy: 0.9857, Validation Accuracy: 0.9647, Loss: 0.0190\n",
      "Epoch   9 Batch  500/538 - Train Accuracy: 0.9917, Validation Accuracy: 0.9609, Loss: 0.0104\n",
      "Epoch   9 Batch  525/538 - Train Accuracy: 0.9749, Validation Accuracy: 0.9723, Loss: 0.0182\n",
      "Model Trained and Saved\n"
     ]
    }
   ],
   "source": [
    "\"\"\"\n",
    "DON'T MODIFY ANYTHING IN THIS CELL\n",
    "\"\"\"\n",
    "def get_accuracy(target, logits):\n",
    "    \"\"\"\n",
    "    Calculate accuracy\n",
    "    \"\"\"\n",
    "    max_seq = max(target.shape[1], logits.shape[1])\n",
    "    if max_seq - target.shape[1]:\n",
    "        target = np.pad(\n",
    "            target,\n",
    "            [(0,0),(0,max_seq - target.shape[1])],\n",
    "            'constant')\n",
    "    if max_seq - logits.shape[1]:\n",
    "        logits = np.pad(\n",
    "            logits,\n",
    "            [(0,0),(0,max_seq - logits.shape[1])],\n",
    "            'constant')\n",
    "\n",
    "    return np.mean(np.equal(target, logits))\n",
    "\n",
    "# Split data to training and validation sets\n",
    "train_source = source_int_text[batch_size:]\n",
    "train_target = target_int_text[batch_size:]\n",
    "valid_source = source_int_text[:batch_size]\n",
    "valid_target = target_int_text[:batch_size]\n",
    "(valid_sources_batch, valid_targets_batch, valid_sources_lengths, valid_targets_lengths ) = next(get_batches(valid_source,\n",
    "                                                                                                             valid_target,\n",
    "                                                                                                             batch_size,\n",
    "                                                                                                             source_vocab_to_int['<PAD>'],\n",
    "                                                                                                             target_vocab_to_int['<PAD>']))                                                                                                  \n",
    "with tf.Session(graph=train_graph) as sess:\n",
    "    sess.run(tf.global_variables_initializer())\n",
    "\n",
    "    loss_list = []\n",
    "    valid_acc_list = []\n",
    "\n",
    "    for epoch_i in range(epochs):\n",
    "        for batch_i, (source_batch, target_batch, sources_lengths, targets_lengths) in enumerate(\n",
    "                get_batches(train_source, train_target, batch_size,\n",
    "                            source_vocab_to_int['<PAD>'],\n",
    "                            target_vocab_to_int['<PAD>'])):\n",
    "\n",
    "            _, loss = sess.run(\n",
    "                [train_op, cost],\n",
    "                {input_data: source_batch,\n",
    "                 targets: target_batch,\n",
    "                 lr: learning_rate,\n",
    "                 target_sequence_length: targets_lengths,\n",
    "                 source_sequence_length: sources_lengths,\n",
    "                 keep_prob: keep_probability})\n",
    "\n",
    "            loss_list.append(loss)\n",
    "            if batch_i % display_step == 0 and batch_i > 0:\n",
    "\n",
    "\n",
    "                batch_train_logits = sess.run(\n",
    "                    inference_logits,\n",
    "                    {input_data: source_batch,\n",
    "                     source_sequence_length: sources_lengths,\n",
    "                     target_sequence_length: targets_lengths,\n",
    "                     keep_prob: 1.0})\n",
    "\n",
    "\n",
    "                batch_valid_logits = sess.run(\n",
    "                    inference_logits,\n",
    "                    {input_data: valid_sources_batch,\n",
    "                     source_sequence_length: valid_sources_lengths,\n",
    "                     target_sequence_length: valid_targets_lengths,\n",
    "                     keep_prob: 1.0})\n",
    "\n",
    "                train_acc = get_accuracy(target_batch, batch_train_logits)\n",
    "\n",
    "                valid_acc = get_accuracy(valid_targets_batch, batch_valid_logits)\n",
    "                valid_acc_list.append(valid_acc)\n",
    "\n",
    "                print('Epoch {:>3} Batch {:>4}/{} - Train Accuracy: {:>6.4f}, Validation Accuracy: {:>6.4f}, Loss: {:>6.4f}'\n",
    "                      .format(epoch_i, batch_i, len(source_int_text) // batch_size, train_acc, valid_acc, loss))\n",
    "\n",
    "    # Save Model\n",
    "    saver = tf.train.Saver()\n",
    "    saver.save(sess, save_path)\n",
    "    print('Model Trained and Saved')"
   ]
  },
  {
   "cell_type": "code",
   "execution_count": 20,
   "metadata": {},
   "outputs": [
    {
     "data": {
      "image/png": "[encoded data removed]",
      "text/plain": [
       "<matplotlib.figure.Figure at 0x7f00e1821320>"
      ]
     },
     "metadata": {},
     "output_type": "display_data"
    }
   ],
   "source": [
    "# Visualize the loss and accuracy\n",
    "import matplotlib.pyplot as plt\n",
    "f, (ax1, ax2) = plt.subplots(1, 2, figsize=(18, 6))\n",
    "ax1.plot(loss_list, color='red')\n",
    "ax1.set_title('Traning Loss')\n",
    "ax1.set_ylabel('Loss value')\n",
    "\n",
    "ax2.plot(valid_acc_list)\n",
    "ax2.set_xlabel('Iterations')\n",
    "ax2.set_ylabel('Accuracy')\n",
    "ax2.set_title('Validation Accuracy')\n",
    "plt.show()"
   ]
  },
  {
   "cell_type": "markdown",
   "metadata": {},
   "source": [
    "### Save Parameters\n",
    "Save the `batch_size` and `save_path` parameters for inference."
   ]
  },
  {
   "cell_type": "code",
   "execution_count": 21,
   "metadata": {
    "collapsed": true
   },
   "outputs": [],
   "source": [
    "\"\"\"\n",
    "DON'T MODIFY ANYTHING IN THIS CELL\n",
    "\"\"\"\n",
    "# Save parameters for checkpoint\n",
    "helper.save_params(save_path)"
   ]
  },
  {
   "cell_type": "markdown",
   "metadata": {},
   "source": [
    "# Checkpoint"
   ]
  },
  {
   "cell_type": "code",
   "execution_count": 22,
   "metadata": {
    "collapsed": true
   },
   "outputs": [],
   "source": [
    "\"\"\"\n",
    "DON'T MODIFY ANYTHING IN THIS CELL\n",
    "\"\"\"\n",
    "import tensorflow as tf\n",
    "import numpy as np\n",
    "import helper\n",
    "import problem_unittests as tests\n",
    "\n",
    "_, (source_vocab_to_int, target_vocab_to_int), (source_int_to_vocab, target_int_to_vocab) = helper.load_preprocess()\n",
    "load_path = helper.load_params()"
   ]
  },
  {
   "cell_type": "markdown",
   "metadata": {},
   "source": [
    "## Sentence to Sequence\n",
    "To feed a sentence into the model for translation, you first need to preprocess it.  Implement the function `sentence_to_seq()` to preprocess new sentences.\n",
    "\n",
    "- Convert the sentence to lowercase\n",
    "- Convert words into ids using `vocab_to_int`\n",
    " - Convert words not in the vocabulary, to the `<UNK>` word id."
   ]
  },
  {
   "cell_type": "code",
   "execution_count": 23,
   "metadata": {},
   "outputs": [
    {
     "name": "stdout",
     "output_type": "stream",
     "text": [
      "Tests Passed\n"
     ]
    }
   ],
   "source": [
    "def sentence_to_seq(sentence, vocab_to_int):\n",
    "    \"\"\"\n",
    "    Convert a sentence to a sequence of ids\n",
    "    :param sentence: String\n",
    "    :param vocab_to_int: Dictionary to go from the words to an id\n",
    "    :return: List of word ids\n",
    "    \"\"\"\n",
    "    # Convert the sentence to lowercase\n",
    "    slower = sentence.lower()\n",
    "\n",
    "    # Convert words into ids using vocab_to_int\n",
    "    word_ids = []\n",
    "    for s in slower.split():\n",
    "        # Convert words not in the vocabulary, to the <UNK> word id.\n",
    "        if s not in vocab_to_int:\n",
    "            s = '<UNK>'\n",
    "        word_ids.append(vocab_to_int[s])   \n",
    "    \n",
    "    return word_ids\n",
    "\n",
    "\n",
    "\"\"\"\n",
    "DON'T MODIFY ANYTHING IN THIS CELL THAT IS BELOW THIS LINE\n",
    "\"\"\"\n",
    "tests.test_sentence_to_seq(sentence_to_seq)"
   ]
  },
  {
   "cell_type": "markdown",
   "metadata": {},
   "source": [
    "## Translate\n",
    "This will translate `translate_sentence` from English to French."
   ]
  },
  {
   "cell_type": "code",
   "execution_count": 33,
   "metadata": {},
   "outputs": [
    {
     "name": "stdout",
     "output_type": "stream",
     "text": [
      "INFO:tensorflow:Restoring parameters from checkpoints/dev\n",
      "Input\n",
      "  Word Ids:      [134, 11, 92, 191]\n",
      "  English Words: ['french', 'sharks', 'are', 'yellow']\n",
      "\n",
      "Prediction\n",
      "  Word Ids:      [323, 112, 83, 114, 289, 114, 41, 345]\n",
      "  French Words: le pamplemousse et les moins les mangues .\n"
     ]
    }
   ],
   "source": [
    "#translate_sentence = 'he saw a old yellow truck .' # il a vu un vieux camion jaune = He saw an old yellow truck\n",
    "#translate_sentence = 'india is never busy during autumn' # inde est jamais occupé à l'automne , mais il est parfois = India is never busy in the autumn, but it is sometimes\n",
    "#translate_sentence = 'france is never cold during september' # france ne fait jamais froid au mois de septembre , mais il = France is never cold in September, but it\n",
    "#translate_sentence = 'your most feared animal is that shark' # la pomme est votre fruit le moins aimé = The apple is your least liked fruit\n",
    "#translate_sentence = 'our least favorite fruit is the banana' # notre fruit préféré moins est la banane = Our favorite fruit less is banana\n",
    "#translate_sentence = 'china is hot during july' # chine est chaud en juillet , mais il est calme = Chine is hot in July, but it is quiet\n",
    "#translate_sentence = 'i fear yellow sharks' # aime la mangue est le français et les = Loves mango is French and\n",
    "translate_sentence = 'french sharks are yellow' # le pamplemousse et les moins les mangues = Grapefruit and minus mangoes\n",
    "\n",
    "\n",
    "\"\"\"\n",
    "DON'T MODIFY ANYTHING IN THIS CELL\n",
    "\"\"\"\n",
    "translate_sentence = sentence_to_seq(translate_sentence, source_vocab_to_int)\n",
    "\n",
    "loaded_graph = tf.Graph()\n",
    "with tf.Session(graph=loaded_graph) as sess:\n",
    "    # Load saved model\n",
    "    loader = tf.train.import_meta_graph(load_path + '.meta')\n",
    "    loader.restore(sess, load_path)\n",
    "\n",
    "    input_data = loaded_graph.get_tensor_by_name('input:0')\n",
    "    logits = loaded_graph.get_tensor_by_name('predictions:0')\n",
    "    target_sequence_length = loaded_graph.get_tensor_by_name('target_sequence_length:0')\n",
    "    source_sequence_length = loaded_graph.get_tensor_by_name('source_sequence_length:0')\n",
    "    keep_prob = loaded_graph.get_tensor_by_name('keep_prob:0')\n",
    "\n",
    "    translate_logits = sess.run(logits, {input_data: [translate_sentence]*batch_size,\n",
    "                                         target_sequence_length: [len(translate_sentence)*2]*batch_size,\n",
    "                                         source_sequence_length: [len(translate_sentence)]*batch_size,\n",
    "                                         keep_prob: 1.0})[0]\n",
    "\n",
    "print('Input')\n",
    "print('  Word Ids:      {}'.format([i for i in translate_sentence]))\n",
    "print('  English Words: {}'.format([source_int_to_vocab[i] for i in translate_sentence]))\n",
    "\n",
    "print('\\nPrediction')\n",
    "print('  Word Ids:      {}'.format([i for i in translate_logits]))\n",
    "print('  French Words: {}'.format(\" \".join([target_int_to_vocab[i] for i in translate_logits])))\n"
   ]
  },
  {
   "cell_type": "markdown",
   "metadata": {},
   "source": [
    "## Imperfect Translation\n",
    "You might notice that some sentences translate better than others.  Since the dataset you're using only has a vocabulary of 227 English words of the thousands that you use, you're only going to see good results using these words.  For this project, you don't need a perfect translation. However, if you want to create a better translation model, you'll need better data.\n",
    "\n",
    "You can train on the [WMT10 French-English corpus](http://www.statmt.org/wmt10/training-giga-fren.tar).  This dataset has more vocabulary and richer in topics discussed.  However, this will take you days to train, so make sure you've a GPU and the neural network is performing well on dataset we provided.  Just make sure you play with the WMT10 corpus after you've submitted this project.\n",
    "## Submitting This Project\n",
    "When submitting this project, make sure to run all the cells before saving the notebook. Save the notebook file as \"dlnd_language_translation.ipynb\" and save it as a HTML file under \"File\" -> \"Download as\". Include the \"helper.py\" and \"problem_unittests.py\" files in your submission."
   ]
  },
  {
   "cell_type": "code",
   "execution_count": null,
   "metadata": {
    "collapsed": true
   },
   "outputs": [],
   "source": []
  }
 ],
 "metadata": {
  "anaconda-cloud": {},
  "kernelspec": {
   "display_name": "Python 3",
   "language": "python",
   "name": "python3"
  },
  "language_info": {
   "codemirror_mode": {
    "name": "ipython",
    "version": 3
   },
   "file_extension": ".py",
   "mimetype": "text/x-python",
   "name": "python",
   "nbconvert_exporter": "python",
   "pygments_lexer": "ipython3",
   "version": "3.6.1"
  }
 },
 "nbformat": 4,
 "nbformat_minor": 1
}
